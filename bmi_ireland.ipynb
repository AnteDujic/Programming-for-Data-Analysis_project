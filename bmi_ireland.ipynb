{
 "cells": [
  {
   "cell_type": "markdown",
   "id": "12c497c8-48e1-463a-aa84-bce975041582",
   "metadata": {},
   "source": [
    "# BMI INDEX IN IRELAND\n",
    "## AUTHOR: ANTE DUJIC"
   ]
  },
  {
   "cell_type": "markdown",
   "id": "b0415fd6-5ef2-49b0-b72b-ae4444f17592",
   "metadata": {},
   "source": [
    "## INTRODUCTION"
   ]
  },
  {
   "cell_type": "markdown",
   "id": "44b117ea-0395-4227-90ed-5003731ee332",
   "metadata": {},
   "source": [
    "This notebook contains a step by step simulated dataset of a relationship between BMI and Alcohol consumption in Ireland. The data is modeled and synthesised using *numpy.random* package in Python. \n",
    "\n",
    "Body mass index (BMI) is a value derived from the mass (weight) and height of a person. The BMI is defined as the body mass divided by the square of the body height, and is expressed in units of kg/m2, resulting from mass in kilograms and height in metres. [1]  It is widely used to diagnose whether individuals are underweight, overweight, or obese. [2] Alcohol consumption is often linked to a high weight. Drinking more than seven times per week was associated with increased risk of weight gain and development of overweight and obesity. [3] Average BMI is increased with an increased level of alcohol consumption in men and women. [4] The goal of this project is to create a dataset that will reflect the real life, with its destribution and relationships. The variables that will be generated are:\n",
    "1. ID\n",
    "2. Gender\n",
    "3. Age\n",
    "4. Height\n",
    "5. Weight\n",
    "6. BMI\n",
    "7. Alcohol Consumption\n",
    "8. BMI Classification\n"
   ]
  },
  {
   "cell_type": "code",
   "execution_count": 2,
   "id": "06fc847e-5ad7-40fa-98f2-95f9f41e7ddd",
   "metadata": {},
   "outputs": [],
   "source": [
    "import pandas as pd\n",
    "import matplotlib.pyplot as plt\n",
    "import seaborn as sns\n",
    "import numpy as np\n",
    "import names"
   ]
  },
  {
   "cell_type": "markdown",
   "id": "48f1a09c-f3c1-4eab-ada9-47761a5e3894",
   "metadata": {},
   "source": [
    "### 1. ID"
   ]
  },
  {
   "cell_type": "markdown",
   "id": "7eada964-8d85-472c-8ca4-0d90d1d110d7",
   "metadata": {},
   "source": [
    "This variable will represent each person in the final dataset. There are 2 different approaches that were considered for this project:\n",
    "- Creating a list of numerated persons\n",
    "- Creating a list of person's names\n",
    "\n",
    "Both are shown below."
   ]
  },
  {
   "cell_type": "code",
   "execution_count": 12,
   "id": "17a1cc06-a4e8-4233-9b44-a423ce7bbcc8",
   "metadata": {},
   "outputs": [
    {
     "data": {
      "text/plain": [
       "['Person 1',\n",
       " 'Person 2',\n",
       " 'Person 3',\n",
       " 'Person 4',\n",
       " 'Person 5',\n",
       " 'Person 6',\n",
       " 'Person 7',\n",
       " 'Person 8',\n",
       " 'Person 9',\n",
       " 'Person 10']"
      ]
     },
     "execution_count": 12,
     "metadata": {},
     "output_type": "execute_result"
    }
   ],
   "source": [
    "# Creating a list of numerated persons.\n",
    "person = []\n",
    "for i in range (1, 11):\n",
    "    person.append (\"Person {}\".format(i))\n",
    "person"
   ]
  },
  {
   "cell_type": "code",
   "execution_count": 14,
   "id": "729aa56e-78dc-49f7-bba1-2e856801e55e",
   "metadata": {},
   "outputs": [
    {
     "name": "stdout",
     "output_type": "stream",
     "text": [
      "Johnnie Cochran\n",
      "Kari Moore\n",
      "Thomas Hale\n",
      "Corrine Stoner\n",
      "Randall Thibodeaux\n",
      "Kimberly Ralls\n",
      "David Wade\n",
      "Brittany Ackerman\n",
      "Freddy Stokes\n",
      "Willa Wogan\n"
     ]
    }
   ],
   "source": [
    "# Creating a list of names. [1]\n",
    "for i in range(10):\n",
    "    print(names.get_full_name())"
   ]
  },
  {
   "cell_type": "code",
   "execution_count": null,
   "id": "d81b8d22-2eba-449b-9b74-d0012aff064b",
   "metadata": {},
   "outputs": [],
   "source": []
  },
  {
   "cell_type": "markdown",
   "id": "c90e7d82-476a-4e1e-8445-c79126fd537f",
   "metadata": {},
   "source": [
    "## REFERENCES"
   ]
  },
  {
   "cell_type": "markdown",
   "id": "b771b3e2-828e-4ab8-97f5-57a34d6fc5d4",
   "metadata": {},
   "source": [
    "### MAIN\n",
    "\n",
    "- [1] https://en.wikipedia.org/wiki/Body_mass_index\n",
    "- [2] https://www.hindawi.com/journals/tswj/2012/849018/\n",
    "- [3] https://www.ncbi.nlm.nih.gov/pmc/articles/PMC4338356/\n",
    "- [4] https://www.ncbi.nlm.nih.gov/pmc/articles/PMC6484200/\n",
    "- [5] https://builtin.com/data-science/data-types-statistics\n",
    "- [6] https://data.worldbank.org/indicator/SP.POP.TOTL.FE.ZS?locations=IE"
   ]
  },
  {
   "cell_type": "markdown",
   "id": "2c5b3f7c-e75b-4a74-bb90-38f77d1f1daa",
   "metadata": {},
   "source": [
    "### CODE\n",
    "\n",
    "- [1] https://moonbooks.org/Articles/How-to-generate-random-names-first-and-last-names-with-python-/"
   ]
  },
  {
   "cell_type": "code",
   "execution_count": null,
   "id": "3dd50532-182b-4565-bc43-b2f60d7108d1",
   "metadata": {},
   "outputs": [],
   "source": []
  }
 ],
 "metadata": {
  "kernelspec": {
   "display_name": "Python 3",
   "language": "python",
   "name": "python3"
  },
  "language_info": {
   "codemirror_mode": {
    "name": "ipython",
    "version": 3
   },
   "file_extension": ".py",
   "mimetype": "text/x-python",
   "name": "python",
   "nbconvert_exporter": "python",
   "pygments_lexer": "ipython3",
   "version": "3.8.8"
  }
 },
 "nbformat": 4,
 "nbformat_minor": 5
}
