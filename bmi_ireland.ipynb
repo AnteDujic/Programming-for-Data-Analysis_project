{
 "cells": [
  {
   "cell_type": "markdown",
   "id": "12c497c8-48e1-463a-aa84-bce975041582",
   "metadata": {},
   "source": [
    "# BMI INDEX IN IRELAND\n",
    "## AUTHOR: ANTE DUJIC"
   ]
  },
  {
   "cell_type": "markdown",
   "id": "b0415fd6-5ef2-49b0-b72b-ae4444f17592",
   "metadata": {},
   "source": [
    "## INTRODUCTION"
   ]
  },
  {
   "cell_type": "markdown",
   "id": "44b117ea-0395-4227-90ed-5003731ee332",
   "metadata": {},
   "source": [
    "This notebook contains a step by step simulated dataset of a relationship between BMI and Alcohol consumption in Ireland. The data is modeled and synthesised using *numpy.random* package in Python. \n",
    "\n",
    "Body mass index (BMI) is a value derived from the mass (weight) and height of a person. The BMI is defined as the body mass divided by the square of the body height, and is expressed in units of kg/m2, resulting from mass in kilograms and height in metres. [1]  It is widely used to diagnose whether individuals are underweight, overweight, or obese. [2] Alcohol consumption is often linked to a high weight. Drinking more than seven times per week was associated with increased risk of weight gain and development of overweight and obesity. [3] Average BMI is increased with an increased level of alcohol consumption in men and women. [4] The goal of this project is to show how to simulate the data based on a real life reasearch. The variables that are simulated are:\n",
    "\n",
    "1. Name\n",
    "2. Gender\n",
    "3. Age\n",
    "4. Height\n",
    "5. Weight\n",
    "6. BMI\n",
    "7. Alcohol Consumption\n",
    "8. BMI Classification\n",
    "\n",
    "Further below it is explained how each of the variables are simulated and what is the relationship between them, if there is any. "
   ]
  },
  {
   "cell_type": "code",
   "execution_count": null,
   "id": "8cff22a7-29f1-4e4f-9356-8b414c622ad9",
   "metadata": {},
   "outputs": [],
   "source": []
  },
  {
   "cell_type": "code",
   "execution_count": null,
   "id": "0d0f46cd-0379-43a3-990b-0ca7cbe41dcd",
   "metadata": {},
   "outputs": [],
   "source": []
  },
  {
   "cell_type": "code",
   "execution_count": null,
   "id": "17a1cc06-a4e8-4233-9b44-a423ce7bbcc8",
   "metadata": {},
   "outputs": [],
   "source": []
  },
  {
   "cell_type": "code",
   "execution_count": null,
   "id": "729aa56e-78dc-49f7-bba1-2e856801e55e",
   "metadata": {},
   "outputs": [],
   "source": []
  },
  {
   "cell_type": "code",
   "execution_count": null,
   "id": "7621aeb1-5f75-4ccb-b1aa-5bde4f8f590c",
   "metadata": {},
   "outputs": [],
   "source": []
  },
  {
   "cell_type": "code",
   "execution_count": null,
   "id": "be9f999c-3e5a-4a8c-a636-3053588a5c60",
   "metadata": {},
   "outputs": [],
   "source": []
  },
  {
   "cell_type": "code",
   "execution_count": null,
   "id": "d81b8d22-2eba-449b-9b74-d0012aff064b",
   "metadata": {},
   "outputs": [],
   "source": []
  },
  {
   "cell_type": "markdown",
   "id": "c90e7d82-476a-4e1e-8445-c79126fd537f",
   "metadata": {},
   "source": [
    "## REFERENCES"
   ]
  },
  {
   "cell_type": "markdown",
   "id": "b771b3e2-828e-4ab8-97f5-57a34d6fc5d4",
   "metadata": {},
   "source": [
    "- [1] https://en.wikipedia.org/wiki/Body_mass_index\n",
    "- [2] https://www.hindawi.com/journals/tswj/2012/849018/\n",
    "- [3] https://www.ncbi.nlm.nih.gov/pmc/articles/PMC4338356/\n",
    "- [4] https://www.ncbi.nlm.nih.gov/pmc/articles/PMC6484200/"
   ]
  },
  {
   "cell_type": "code",
   "execution_count": null,
   "id": "1db096bf-4cb6-4d34-b02b-5f4ccdeaca40",
   "metadata": {},
   "outputs": [],
   "source": []
  }
 ],
 "metadata": {
  "kernelspec": {
   "display_name": "Python 3",
   "language": "python",
   "name": "python3"
  },
  "language_info": {
   "codemirror_mode": {
    "name": "ipython",
    "version": 3
   },
   "file_extension": ".py",
   "mimetype": "text/x-python",
   "name": "python",
   "nbconvert_exporter": "python",
   "pygments_lexer": "ipython3",
   "version": "3.8.8"
  }
 },
 "nbformat": 4,
 "nbformat_minor": 5
}
