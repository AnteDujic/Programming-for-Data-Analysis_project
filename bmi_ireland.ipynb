{
 "cells": [
  {
   "cell_type": "markdown",
   "id": "12c497c8-48e1-463a-aa84-bce975041582",
   "metadata": {},
   "source": [
    "# BMI INDEX IN IRELAND\n",
    "## AUTHOR: ANTE DUJIC"
   ]
  },
  {
   "cell_type": "markdown",
   "id": "b0415fd6-5ef2-49b0-b72b-ae4444f17592",
   "metadata": {},
   "source": [
    "## INTRODUCTION"
   ]
  },
  {
   "cell_type": "markdown",
   "id": "44b117ea-0395-4227-90ed-5003731ee332",
   "metadata": {},
   "source": [
    "This notebook contains a step by step simulated dataset of a relationship between BMI and Alcohol consumption in Ireland. The data is modeled and synthesised using *numpy.random* package in Python. \n",
    "\n",
    "Body mass index (BMI) is a value derived from the mass (weight) and height of a person. The BMI is defined as the body mass divided by the square of the body height, and is expressed in units of kg/m2, resulting from mass in kilograms and height in metres. [1]  It is widely used to diagnose whether individuals are underweight, overweight, or obese. [2] Alcohol consumption is often linked to a high weight. Drinking more than seven times per week was associated with increased risk of weight gain and development of overweight and obesity. [3] Average BMI is increased with an increased level of alcohol consumption in men and women. [4] The goal of this project is to create a dataset that will reflect the real life, with its destribution and relationships. The variables that will be generated are:\n",
    "1. ID\n",
    "2. Gender\n",
    "3. Age\n",
    "4. Height\n",
    "5. Weight\n",
    "6. BMI\n",
    "7. Alcohol Consumption\n",
    "8. BMI Classification\n"
   ]
  },
  {
   "cell_type": "code",
   "execution_count": 16,
   "id": "06fc847e-5ad7-40fa-98f2-95f9f41e7ddd",
   "metadata": {},
   "outputs": [],
   "source": [
    "# Libraries.\n",
    "import pandas as pd\n",
    "import matplotlib.pyplot as plt\n",
    "import seaborn as sns\n",
    "import numpy as np\n",
    "import names"
   ]
  },
  {
   "cell_type": "code",
   "execution_count": 19,
   "id": "61824e64-37d3-437b-90d5-cd44e6ec91a4",
   "metadata": {},
   "outputs": [],
   "source": [
    "# Random number generator.\n",
    "rng = np.random.default_rng(seed = 1)"
   ]
  },
  {
   "cell_type": "markdown",
   "id": "48f1a09c-f3c1-4eab-ada9-47761a5e3894",
   "metadata": {},
   "source": [
    "### 1. ID"
   ]
  },
  {
   "cell_type": "markdown",
   "id": "7eada964-8d85-472c-8ca4-0d90d1d110d7",
   "metadata": {},
   "source": [
    "This variable will represent each person in the final dataset. There are 2 different approaches that were considered for this project:\n",
    "- Creating a list of numerated persons\n",
    "- Creating a list of person's names\n",
    "\n",
    "Both are shown below."
   ]
  },
  {
   "cell_type": "code",
   "execution_count": 12,
   "id": "17a1cc06-a4e8-4233-9b44-a423ce7bbcc8",
   "metadata": {},
   "outputs": [
    {
     "data": {
      "text/plain": [
       "['Person 1',\n",
       " 'Person 2',\n",
       " 'Person 3',\n",
       " 'Person 4',\n",
       " 'Person 5',\n",
       " 'Person 6',\n",
       " 'Person 7',\n",
       " 'Person 8',\n",
       " 'Person 9',\n",
       " 'Person 10']"
      ]
     },
     "execution_count": 12,
     "metadata": {},
     "output_type": "execute_result"
    }
   ],
   "source": [
    "# Creating a list of numerated persons.\n",
    "person = []\n",
    "for i in range (1, 11):\n",
    "    person.append (\"Person {}\".format(i))\n",
    "person"
   ]
  },
  {
   "cell_type": "code",
   "execution_count": 14,
   "id": "729aa56e-78dc-49f7-bba1-2e856801e55e",
   "metadata": {},
   "outputs": [
    {
     "name": "stdout",
     "output_type": "stream",
     "text": [
      "Johnnie Cochran\n",
      "Kari Moore\n",
      "Thomas Hale\n",
      "Corrine Stoner\n",
      "Randall Thibodeaux\n",
      "Kimberly Ralls\n",
      "David Wade\n",
      "Brittany Ackerman\n",
      "Freddy Stokes\n",
      "Willa Wogan\n"
     ]
    }
   ],
   "source": [
    "# Creating a list of names. [1]\n",
    "for i in range(10):\n",
    "    print(names.get_full_name())"
   ]
  },
  {
   "cell_type": "markdown",
   "id": "e58d8c82-b679-4625-8c94-df7a345b2db0",
   "metadata": {},
   "source": [
    "### 2. GENDER"
   ]
  },
  {
   "cell_type": "markdown",
   "id": "3c9f65de-a39f-4677-a422-f19f88889277",
   "metadata": {},
   "source": [
    "Gender is a categorical variable [5] and it can have two values: *male* and *female*. According to the latest World Bank data from 2020., percentage of female in Irish population is 50.4% [6] Male population is then 49.6%. I've used *random.choice* function to generate this data. For the sake of this project, I've decided to round these percentages."
   ]
  },
  {
   "cell_type": "code",
   "execution_count": 28,
   "id": "d81b8d22-2eba-449b-9b74-d0012aff064b",
   "metadata": {},
   "outputs": [
    {
     "data": {
      "text/plain": [
       "array(['Female', 'Male', 'Female', 'Male', 'Male', 'Male', 'Male', 'Male',\n",
       "       'Male', 'Female'], dtype='<U6')"
      ]
     },
     "execution_count": 28,
     "metadata": {},
     "output_type": "execute_result"
    }
   ],
   "source": [
    "# Generating gender with set probability.\n",
    "gender_choice = [\"Female\", \"Male\"]\n",
    "gender = rng.choice (gender_choice, p = [0.51, 0.49], size = 10)\n",
    "gender"
   ]
  },
  {
   "cell_type": "code",
   "execution_count": null,
   "id": "24d6b5e7-76f2-48fe-b56e-ade38cedae8f",
   "metadata": {},
   "outputs": [],
   "source": []
  },
  {
   "cell_type": "code",
   "execution_count": null,
   "id": "dfcf3d57-64f8-4221-b977-cd35a7263105",
   "metadata": {},
   "outputs": [],
   "source": []
  },
  {
   "cell_type": "code",
   "execution_count": null,
   "id": "274e4ff1-6d10-4f41-80ea-b9bc00a1814f",
   "metadata": {},
   "outputs": [],
   "source": []
  },
  {
   "cell_type": "code",
   "execution_count": null,
   "id": "9d811cc5-aa4d-4f42-9a22-f56d47ddff45",
   "metadata": {},
   "outputs": [],
   "source": []
  },
  {
   "cell_type": "code",
   "execution_count": null,
   "id": "4429b329-6965-4d63-9371-bb3ee5a8a625",
   "metadata": {},
   "outputs": [],
   "source": []
  },
  {
   "cell_type": "code",
   "execution_count": null,
   "id": "b1f43148-047b-4590-9406-6d8602ea70c5",
   "metadata": {},
   "outputs": [],
   "source": []
  },
  {
   "cell_type": "code",
   "execution_count": null,
   "id": "431c3610-b189-4b79-bf34-fac9ff7b41c1",
   "metadata": {},
   "outputs": [],
   "source": []
  },
  {
   "cell_type": "code",
   "execution_count": null,
   "id": "bce75d68-4485-4ee3-9bbc-52848dd4840c",
   "metadata": {},
   "outputs": [],
   "source": []
  },
  {
   "cell_type": "code",
   "execution_count": null,
   "id": "0ae9959b-65e3-4b49-8f7c-471e2c567010",
   "metadata": {},
   "outputs": [],
   "source": []
  },
  {
   "cell_type": "code",
   "execution_count": null,
   "id": "bb00033d-4b0c-423c-b3a7-c918ecd7039b",
   "metadata": {},
   "outputs": [],
   "source": []
  },
  {
   "cell_type": "code",
   "execution_count": null,
   "id": "4a7c682f-8999-421d-aa91-592714d0a1e1",
   "metadata": {},
   "outputs": [],
   "source": []
  },
  {
   "cell_type": "markdown",
   "id": "c90e7d82-476a-4e1e-8445-c79126fd537f",
   "metadata": {},
   "source": [
    "## REFERENCES"
   ]
  },
  {
   "cell_type": "markdown",
   "id": "b771b3e2-828e-4ab8-97f5-57a34d6fc5d4",
   "metadata": {},
   "source": [
    "### MAIN\n",
    "\n",
    "- [1] https://en.wikipedia.org/wiki/Body_mass_index\n",
    "- [2] https://www.hindawi.com/journals/tswj/2012/849018/\n",
    "- [3] https://www.ncbi.nlm.nih.gov/pmc/articles/PMC4338356/\n",
    "- [4] https://www.ncbi.nlm.nih.gov/pmc/articles/PMC6484200/\n",
    "- [5] https://builtin.com/data-science/data-types-statistics\n",
    "- [6] https://data.worldbank.org/indicator/SP.POP.TOTL.FE.ZS?locations=IE"
   ]
  },
  {
   "cell_type": "markdown",
   "id": "2c5b3f7c-e75b-4a74-bb90-38f77d1f1daa",
   "metadata": {},
   "source": [
    "### CODE\n",
    "\n",
    "- [1] https://moonbooks.org/Articles/How-to-generate-random-names-first-and-last-names-with-python-/"
   ]
  },
  {
   "cell_type": "code",
   "execution_count": null,
   "id": "3dd50532-182b-4565-bc43-b2f60d7108d1",
   "metadata": {},
   "outputs": [],
   "source": []
  }
 ],
 "metadata": {
  "kernelspec": {
   "display_name": "Python 3",
   "language": "python",
   "name": "python3"
  },
  "language_info": {
   "codemirror_mode": {
    "name": "ipython",
    "version": 3
   },
   "file_extension": ".py",
   "mimetype": "text/x-python",
   "name": "python",
   "nbconvert_exporter": "python",
   "pygments_lexer": "ipython3",
   "version": "3.8.8"
  }
 },
 "nbformat": 4,
 "nbformat_minor": 5
}
