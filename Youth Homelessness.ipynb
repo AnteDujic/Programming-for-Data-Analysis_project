{
 "cells": [
  {
   "cell_type": "markdown",
   "id": "2410e8b6-bbd9-485c-8173-5928c2308d27",
   "metadata": {},
   "source": [
    "https://www.focusireland.ie/wp-content/uploads/2021/09/Insights-into-Youth-Homelessness-No-1.pdf"
   ]
  },
  {
   "cell_type": "code",
   "execution_count": 1,
   "id": "b0668a41-f359-418a-9ff5-9efd67ae5a5a",
   "metadata": {},
   "outputs": [],
   "source": [
    "import pandas as pd\n",
    "import matplotlib.pyplot as plt\n",
    "import seaborn as sns\n",
    "import numpy as np"
   ]
  },
  {
   "cell_type": "code",
   "execution_count": 2,
   "id": "794bd386-ce47-4cfc-980c-a4486a83d066",
   "metadata": {},
   "outputs": [],
   "source": [
    "rng = np.random.default_rng(seed = 1)"
   ]
  },
  {
   "cell_type": "code",
   "execution_count": 3,
   "id": "7d188504-1971-4c57-a8f8-027e41d2d38e",
   "metadata": {},
   "outputs": [],
   "source": [
    "person = []\n",
    "for i in range (1,745):\n",
    "    person.append (\"Person {}\".format(i))\n",
    "#person"
   ]
  },
  {
   "cell_type": "code",
   "execution_count": 4,
   "id": "4c021cbc-c99c-4153-8be9-c314f270de8e",
   "metadata": {},
   "outputs": [],
   "source": [
    "df = pd.DataFrame(index=None)\n",
    "df[\"Person\"] = person"
   ]
  },
  {
   "cell_type": "code",
   "execution_count": 5,
   "id": "42a36642-1f30-4501-baf3-92d8c5d132c9",
   "metadata": {},
   "outputs": [],
   "source": [
    "age = rng.integers (18, 24, 744)\n",
    "#age"
   ]
  },
  {
   "cell_type": "code",
   "execution_count": 6,
   "id": "14b6b2c5-cf1a-42e0-8d01-048e16d7376c",
   "metadata": {},
   "outputs": [
    {
     "data": {
      "text/html": [
       "<div>\n",
       "<style scoped>\n",
       "    .dataframe tbody tr th:only-of-type {\n",
       "        vertical-align: middle;\n",
       "    }\n",
       "\n",
       "    .dataframe tbody tr th {\n",
       "        vertical-align: top;\n",
       "    }\n",
       "\n",
       "    .dataframe thead th {\n",
       "        text-align: right;\n",
       "    }\n",
       "</style>\n",
       "<table border=\"1\" class=\"dataframe\">\n",
       "  <thead>\n",
       "    <tr style=\"text-align: right;\">\n",
       "      <th></th>\n",
       "      <th>Person</th>\n",
       "      <th>Age</th>\n",
       "    </tr>\n",
       "  </thead>\n",
       "  <tbody>\n",
       "    <tr>\n",
       "      <th>718</th>\n",
       "      <td>Person 719</td>\n",
       "      <td>19</td>\n",
       "    </tr>\n",
       "    <tr>\n",
       "      <th>692</th>\n",
       "      <td>Person 693</td>\n",
       "      <td>19</td>\n",
       "    </tr>\n",
       "    <tr>\n",
       "      <th>711</th>\n",
       "      <td>Person 712</td>\n",
       "      <td>20</td>\n",
       "    </tr>\n",
       "    <tr>\n",
       "      <th>33</th>\n",
       "      <td>Person 34</td>\n",
       "      <td>18</td>\n",
       "    </tr>\n",
       "    <tr>\n",
       "      <th>284</th>\n",
       "      <td>Person 285</td>\n",
       "      <td>21</td>\n",
       "    </tr>\n",
       "  </tbody>\n",
       "</table>\n",
       "</div>"
      ],
      "text/plain": [
       "         Person  Age\n",
       "718  Person 719   19\n",
       "692  Person 693   19\n",
       "711  Person 712   20\n",
       "33    Person 34   18\n",
       "284  Person 285   21"
      ]
     },
     "execution_count": 6,
     "metadata": {},
     "output_type": "execute_result"
    }
   ],
   "source": [
    "df[\"Age\"] = age\n",
    "df.sample(5)"
   ]
  },
  {
   "cell_type": "code",
   "execution_count": 7,
   "id": "9ede1e35-baec-43e2-8d4f-5e85af6c4aa3",
   "metadata": {},
   "outputs": [],
   "source": [
    "sex_choice = [\"Male\", \"Female\"]\n",
    "sex = rng.choice (sex_choice, p = [0.79, 0.21], size = 744)"
   ]
  },
  {
   "cell_type": "code",
   "execution_count": 8,
   "id": "709d122c-ca5e-401c-9c85-566ff1bf67a9",
   "metadata": {},
   "outputs": [
    {
     "data": {
      "text/html": [
       "<div>\n",
       "<style scoped>\n",
       "    .dataframe tbody tr th:only-of-type {\n",
       "        vertical-align: middle;\n",
       "    }\n",
       "\n",
       "    .dataframe tbody tr th {\n",
       "        vertical-align: top;\n",
       "    }\n",
       "\n",
       "    .dataframe thead th {\n",
       "        text-align: right;\n",
       "    }\n",
       "</style>\n",
       "<table border=\"1\" class=\"dataframe\">\n",
       "  <thead>\n",
       "    <tr style=\"text-align: right;\">\n",
       "      <th></th>\n",
       "      <th>Person</th>\n",
       "      <th>Age</th>\n",
       "      <th>Sex</th>\n",
       "    </tr>\n",
       "  </thead>\n",
       "  <tbody>\n",
       "    <tr>\n",
       "      <th>15</th>\n",
       "      <td>Person 16</td>\n",
       "      <td>20</td>\n",
       "      <td>Male</td>\n",
       "    </tr>\n",
       "    <tr>\n",
       "      <th>535</th>\n",
       "      <td>Person 536</td>\n",
       "      <td>23</td>\n",
       "      <td>Male</td>\n",
       "    </tr>\n",
       "    <tr>\n",
       "      <th>571</th>\n",
       "      <td>Person 572</td>\n",
       "      <td>22</td>\n",
       "      <td>Male</td>\n",
       "    </tr>\n",
       "    <tr>\n",
       "      <th>584</th>\n",
       "      <td>Person 585</td>\n",
       "      <td>20</td>\n",
       "      <td>Male</td>\n",
       "    </tr>\n",
       "    <tr>\n",
       "      <th>164</th>\n",
       "      <td>Person 165</td>\n",
       "      <td>22</td>\n",
       "      <td>Female</td>\n",
       "    </tr>\n",
       "  </tbody>\n",
       "</table>\n",
       "</div>"
      ],
      "text/plain": [
       "         Person  Age     Sex\n",
       "15    Person 16   20    Male\n",
       "535  Person 536   23    Male\n",
       "571  Person 572   22    Male\n",
       "584  Person 585   20    Male\n",
       "164  Person 165   22  Female"
      ]
     },
     "execution_count": 8,
     "metadata": {},
     "output_type": "execute_result"
    }
   ],
   "source": [
    "df[\"Sex\"] = sex\n",
    "df.sample(5)"
   ]
  },
  {
   "cell_type": "code",
   "execution_count": 9,
   "id": "f39f257d-4e04-418d-a04c-e39bfcd46b4d",
   "metadata": {},
   "outputs": [],
   "source": [
    "citizenship_choice = [\"Irish\", \"EU\", \"Non-EU\", \"Unknown\"]\n",
    "citizenship = rng.choice (citizenship_choice, p = [0.71, 0.13, 0.13, 0.03], size = 744)"
   ]
  },
  {
   "cell_type": "code",
   "execution_count": 10,
   "id": "e83fc041-79ad-4dc3-a34d-e594d317e16a",
   "metadata": {},
   "outputs": [
    {
     "data": {
      "text/html": [
       "<div>\n",
       "<style scoped>\n",
       "    .dataframe tbody tr th:only-of-type {\n",
       "        vertical-align: middle;\n",
       "    }\n",
       "\n",
       "    .dataframe tbody tr th {\n",
       "        vertical-align: top;\n",
       "    }\n",
       "\n",
       "    .dataframe thead th {\n",
       "        text-align: right;\n",
       "    }\n",
       "</style>\n",
       "<table border=\"1\" class=\"dataframe\">\n",
       "  <thead>\n",
       "    <tr style=\"text-align: right;\">\n",
       "      <th></th>\n",
       "      <th>Person</th>\n",
       "      <th>Age</th>\n",
       "      <th>Sex</th>\n",
       "      <th>Citizenship</th>\n",
       "    </tr>\n",
       "  </thead>\n",
       "  <tbody>\n",
       "    <tr>\n",
       "      <th>694</th>\n",
       "      <td>Person 695</td>\n",
       "      <td>20</td>\n",
       "      <td>Male</td>\n",
       "      <td>Irish</td>\n",
       "    </tr>\n",
       "    <tr>\n",
       "      <th>121</th>\n",
       "      <td>Person 122</td>\n",
       "      <td>19</td>\n",
       "      <td>Male</td>\n",
       "      <td>Irish</td>\n",
       "    </tr>\n",
       "    <tr>\n",
       "      <th>36</th>\n",
       "      <td>Person 37</td>\n",
       "      <td>23</td>\n",
       "      <td>Male</td>\n",
       "      <td>Irish</td>\n",
       "    </tr>\n",
       "    <tr>\n",
       "      <th>657</th>\n",
       "      <td>Person 658</td>\n",
       "      <td>18</td>\n",
       "      <td>Male</td>\n",
       "      <td>Irish</td>\n",
       "    </tr>\n",
       "    <tr>\n",
       "      <th>704</th>\n",
       "      <td>Person 705</td>\n",
       "      <td>19</td>\n",
       "      <td>Male</td>\n",
       "      <td>Non-EU</td>\n",
       "    </tr>\n",
       "  </tbody>\n",
       "</table>\n",
       "</div>"
      ],
      "text/plain": [
       "         Person  Age   Sex Citizenship\n",
       "694  Person 695   20  Male       Irish\n",
       "121  Person 122   19  Male       Irish\n",
       "36    Person 37   23  Male       Irish\n",
       "657  Person 658   18  Male       Irish\n",
       "704  Person 705   19  Male      Non-EU"
      ]
     },
     "execution_count": 10,
     "metadata": {},
     "output_type": "execute_result"
    }
   ],
   "source": [
    "df[\"Citizenship\"] = citizenship\n",
    "df.sample(5)"
   ]
  },
  {
   "cell_type": "code",
   "execution_count": 11,
   "id": "193e9648-f008-41b1-b694-60e50d2ae09d",
   "metadata": {},
   "outputs": [
    {
     "data": {
      "text/html": [
       "<div>\n",
       "<style scoped>\n",
       "    .dataframe tbody tr th:only-of-type {\n",
       "        vertical-align: middle;\n",
       "    }\n",
       "\n",
       "    .dataframe tbody tr th {\n",
       "        vertical-align: top;\n",
       "    }\n",
       "\n",
       "    .dataframe thead th {\n",
       "        text-align: right;\n",
       "    }\n",
       "</style>\n",
       "<table border=\"1\" class=\"dataframe\">\n",
       "  <thead>\n",
       "    <tr style=\"text-align: right;\">\n",
       "      <th></th>\n",
       "      <th>Person</th>\n",
       "      <th>Age</th>\n",
       "      <th>Sex</th>\n",
       "      <th>Citizenship</th>\n",
       "      <th>Months Homeless</th>\n",
       "    </tr>\n",
       "  </thead>\n",
       "  <tbody>\n",
       "    <tr>\n",
       "      <th>0</th>\n",
       "      <td>Person 1</td>\n",
       "      <td>20</td>\n",
       "      <td>Male</td>\n",
       "      <td>Irish</td>\n",
       "      <td>11.220879</td>\n",
       "    </tr>\n",
       "    <tr>\n",
       "      <th>1</th>\n",
       "      <td>Person 2</td>\n",
       "      <td>21</td>\n",
       "      <td>Male</td>\n",
       "      <td>Non-EU</td>\n",
       "      <td>9.934557</td>\n",
       "    </tr>\n",
       "    <tr>\n",
       "      <th>2</th>\n",
       "      <td>Person 3</td>\n",
       "      <td>22</td>\n",
       "      <td>Male</td>\n",
       "      <td>Irish</td>\n",
       "      <td>10.491431</td>\n",
       "    </tr>\n",
       "    <tr>\n",
       "      <th>3</th>\n",
       "      <td>Person 4</td>\n",
       "      <td>23</td>\n",
       "      <td>Male</td>\n",
       "      <td>Unknown</td>\n",
       "      <td>12.668601</td>\n",
       "    </tr>\n",
       "    <tr>\n",
       "      <th>4</th>\n",
       "      <td>Person 5</td>\n",
       "      <td>18</td>\n",
       "      <td>Male</td>\n",
       "      <td>Irish</td>\n",
       "      <td>10.000765</td>\n",
       "    </tr>\n",
       "    <tr>\n",
       "      <th>...</th>\n",
       "      <td>...</td>\n",
       "      <td>...</td>\n",
       "      <td>...</td>\n",
       "      <td>...</td>\n",
       "      <td>...</td>\n",
       "    </tr>\n",
       "    <tr>\n",
       "      <th>739</th>\n",
       "      <td>Person 740</td>\n",
       "      <td>21</td>\n",
       "      <td>Female</td>\n",
       "      <td>Irish</td>\n",
       "      <td>9.814083</td>\n",
       "    </tr>\n",
       "    <tr>\n",
       "      <th>740</th>\n",
       "      <td>Person 741</td>\n",
       "      <td>23</td>\n",
       "      <td>Female</td>\n",
       "      <td>Irish</td>\n",
       "      <td>10.941853</td>\n",
       "    </tr>\n",
       "    <tr>\n",
       "      <th>741</th>\n",
       "      <td>Person 742</td>\n",
       "      <td>20</td>\n",
       "      <td>Female</td>\n",
       "      <td>EU</td>\n",
       "      <td>13.274175</td>\n",
       "    </tr>\n",
       "    <tr>\n",
       "      <th>742</th>\n",
       "      <td>Person 743</td>\n",
       "      <td>20</td>\n",
       "      <td>Male</td>\n",
       "      <td>Non-EU</td>\n",
       "      <td>12.672852</td>\n",
       "    </tr>\n",
       "    <tr>\n",
       "      <th>743</th>\n",
       "      <td>Person 744</td>\n",
       "      <td>22</td>\n",
       "      <td>Male</td>\n",
       "      <td>Irish</td>\n",
       "      <td>10.380587</td>\n",
       "    </tr>\n",
       "  </tbody>\n",
       "</table>\n",
       "<p>744 rows × 5 columns</p>\n",
       "</div>"
      ],
      "text/plain": [
       "         Person  Age     Sex Citizenship  Months Homeless\n",
       "0      Person 1   20    Male       Irish        11.220879\n",
       "1      Person 2   21    Male      Non-EU         9.934557\n",
       "2      Person 3   22    Male       Irish        10.491431\n",
       "3      Person 4   23    Male     Unknown        12.668601\n",
       "4      Person 5   18    Male       Irish        10.000765\n",
       "..          ...  ...     ...         ...              ...\n",
       "739  Person 740   21  Female       Irish         9.814083\n",
       "740  Person 741   23  Female       Irish        10.941853\n",
       "741  Person 742   20  Female          EU        13.274175\n",
       "742  Person 743   20    Male      Non-EU        12.672852\n",
       "743  Person 744   22    Male       Irish        10.380587\n",
       "\n",
       "[744 rows x 5 columns]"
      ]
     },
     "execution_count": 11,
     "metadata": {},
     "output_type": "execute_result"
    }
   ],
   "source": [
    "def applyFunc(s):\n",
    "    if s == 18:\n",
    "        return rng.normal (loc = 10.32)\n",
    "    elif s == 19:\n",
    "        return rng.normal (loc = 7.52)\n",
    "    elif s == 20:\n",
    "        return rng.normal (loc = 12.24)\n",
    "    elif s == 21:\n",
    "        return rng.normal (loc = 8.57)\n",
    "    elif s == 22:\n",
    "        return rng.normal (loc = 9.35)\n",
    "    elif s == 23:\n",
    "        return rng.normal (loc = 10.05)\n",
    "    elif s == 24:\n",
    "        return rng.normal (loc = 7.83)\n",
    "    elif s == 25:\n",
    "        return rng.normal (loc = 8.1)\n",
    "    return ''\n",
    "df[\"Months Homeless\"] = df[\"Age\"].apply(applyFunc)\n",
    "df"
   ]
  },
  {
   "cell_type": "code",
   "execution_count": null,
   "id": "86026564-6c3b-4755-b47a-02cce35b03d5",
   "metadata": {},
   "outputs": [],
   "source": []
  },
  {
   "cell_type": "code",
   "execution_count": 12,
   "id": "4e0f89a7-1cf4-476a-ae0e-0dcf92d9684b",
   "metadata": {},
   "outputs": [
    {
     "name": "stdout",
     "output_type": "stream",
     "text": [
      "Richard Farber\n",
      "Dong Stoner\n",
      "Michael Tuggle\n",
      "Frank Benner\n",
      "Matthew Singleton\n",
      "Thomas Pfannenstiel\n",
      "Miguel Cayo\n",
      "Mark Calvin\n",
      "Steven Williams\n",
      "Joseph Steinberg\n"
     ]
    }
   ],
   "source": [
    "import names\n",
    "for i in range(10):\n",
    "    rand_name = names.get_full_name(gender='male')\n",
    "    print(rand_name)"
   ]
  },
  {
   "cell_type": "code",
   "execution_count": 13,
   "id": "b46edcd7-1a58-4667-a2fb-2b9d8dd3516f",
   "metadata": {},
   "outputs": [
    {
     "data": {
      "text/plain": [
       "'Joseph Steinberg'"
      ]
     },
     "execution_count": 13,
     "metadata": {},
     "output_type": "execute_result"
    }
   ],
   "source": [
    "rand_name"
   ]
  },
  {
   "cell_type": "code",
   "execution_count": 23,
   "id": "0466f548-0ee3-487e-ada2-ea56c72c4319",
   "metadata": {},
   "outputs": [
    {
     "data": {
      "text/plain": [
       "array([26.00556557, 30.21082485, 58.94453243, ..., 25.3345717 ,\n",
       "       63.23105073, 28.35559826])"
      ]
     },
     "execution_count": 23,
     "metadata": {},
     "output_type": "execute_result"
    }
   ],
   "source": [
    "a = rng.normal(50, 15, 7500)\n",
    "a"
   ]
  },
  {
   "cell_type": "code",
   "execution_count": 22,
   "id": "07bb1e92-745f-4c60-8874-56991aa07f2d",
   "metadata": {},
   "outputs": [
    {
     "data": {
      "text/plain": [
       "(array([  12.,  104.,  456., 1263., 2074., 2004., 1119.,  386.,   68.,\n",
       "          14.]),\n",
       " array([ -5.31750018,   5.8842139 ,  17.08592799,  28.28764207,\n",
       "         39.48935615,  50.69107023,  61.89278432,  73.0944984 ,\n",
       "         84.29621248,  95.49792656, 106.69964064]),\n",
       " <BarContainer object of 10 artists>)"
      ]
     },
     "execution_count": 22,
     "metadata": {},
     "output_type": "execute_result"
    },
    {
     "data": {
      "image/png": "[encoded data removed]",
      "text/plain": [
       "<Figure size 432x288 with 1 Axes>"
      ]
     },
     "metadata": {
      "needs_background": "light"
     },
     "output_type": "display_data"
    }
   ],
   "source": [
    "plt.hist(a)"
   ]
  },
  {
   "cell_type": "code",
   "execution_count": null,
   "id": "75cef474-fcdc-408d-9e8a-2c2613241390",
   "metadata": {},
   "outputs": [],
   "source": []
  }
 ],
 "metadata": {
  "kernelspec": {
   "display_name": "Python 3",
   "language": "python",
   "name": "python3"
  },
  "language_info": {
   "codemirror_mode": {
    "name": "ipython",
    "version": 3
   },
   "file_extension": ".py",
   "mimetype": "text/x-python",
   "name": "python",
   "nbconvert_exporter": "python",
   "pygments_lexer": "ipython3",
   "version": "3.8.8"
  }
 },
 "nbformat": 4,
 "nbformat_minor": 5
}
