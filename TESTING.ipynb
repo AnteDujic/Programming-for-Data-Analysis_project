{
 "cells": [
  {
   "cell_type": "code",
   "execution_count": 1,
   "id": "c18185a5-4cfd-4939-ad0c-0ade8d0e563e",
   "metadata": {},
   "outputs": [],
   "source": [
    "import pandas as pd\n",
    "import matplotlib.pyplot as plt\n",
    "import seaborn as sns\n",
    "import numpy as np\n",
    "import names"
   ]
  },
  {
   "cell_type": "code",
   "execution_count": null,
   "id": "b66dab7e-3b38-4ee6-ba3c-30b63fbda755",
   "metadata": {},
   "outputs": [],
   "source": []
  },
  {
   "cell_type": "code",
   "execution_count": 2,
   "id": "f8909ce3-75a1-4b69-bf29-5c1a05028fca",
   "metadata": {},
   "outputs": [],
   "source": [
    "rng = np.random.default_rng(seed = 1)"
   ]
  },
  {
   "cell_type": "code",
   "execution_count": 3,
   "id": "92ec35df-95c6-4b5a-b462-d178c3f340fc",
   "metadata": {},
   "outputs": [],
   "source": [
    "person = []\n",
    "for i in range (1,100001):\n",
    "    person.append (\"ID {}\".format(i))\n",
    "#person"
   ]
  },
  {
   "cell_type": "code",
   "execution_count": 4,
   "id": "355cc1cc-1d5c-4c2e-97ba-d8220a73019a",
   "metadata": {},
   "outputs": [],
   "source": [
    "df = pd.DataFrame(index=None)\n",
    "df[\"Person\"] = person"
   ]
  },
  {
   "cell_type": "code",
   "execution_count": 5,
   "id": "4c7f3b93-ab05-429b-be1e-196dcb0df0f4",
   "metadata": {},
   "outputs": [],
   "source": [
    "age = []\n",
    "for i in range(100000):\n",
    "    a = np.clip(np.random.normal(50, 15), 15, 100)\n",
    "    age.append(int(a))"
   ]
  },
  {
   "cell_type": "code",
   "execution_count": 6,
   "id": "b4337226-3bec-4194-90df-a74d940833de",
   "metadata": {},
   "outputs": [],
   "source": [
    "df[\"Age\"] = age"
   ]
  },
  {
   "cell_type": "code",
   "execution_count": 7,
   "id": "975272d3-1ad1-475e-9668-c1ea26393b96",
   "metadata": {},
   "outputs": [],
   "source": [
    "gender_choice = [\"Male\", \"Female\"]\n",
    "gender = rng.choice (gender_choice, p = [0.79, 0.21], size = 100000)"
   ]
  },
  {
   "cell_type": "code",
   "execution_count": 8,
   "id": "9e26387e-74e9-4e36-a7c2-4b5f6a52ab84",
   "metadata": {},
   "outputs": [],
   "source": [
    "df[\"Gender\"] = gender"
   ]
  },
  {
   "cell_type": "code",
   "execution_count": 9,
   "id": "4bd68512-a1a5-4f59-b7ab-a6fe753f0501",
   "metadata": {},
   "outputs": [],
   "source": [
    "def applyFunc(s):\n",
    "    if s == \"Male\":\n",
    "        m = rng.normal(179, 10)\n",
    "        return round(m, 1)\n",
    "    elif s == \"Female\":\n",
    "        f = rng.normal(164, 10)\n",
    "        return round(f, 1)\n",
    "    \n",
    "df[\"Height\"] = df[\"Gender\"].apply(applyFunc)"
   ]
  },
  {
   "cell_type": "code",
   "execution_count": 10,
   "id": "c649e34d-cf15-4045-a344-ae369288ce1a",
   "metadata": {},
   "outputs": [],
   "source": [
    "def applyFunc(s):\n",
    "    if s == \"Male\":\n",
    "        m = np.clip(np.random.normal(89.2, 7 ), 30, 200)\n",
    "        return round(m, 1)\n",
    "    elif s == \"Female\":\n",
    "        f = np.clip(np.random.normal(73.1, 7 ), 30, 200)\n",
    "        return round(f, 1)\n",
    "df[\"Weight\"] = df[\"Gender\"].apply(applyFunc)"
   ]
  },
  {
   "cell_type": "code",
   "execution_count": 11,
   "id": "06df72e7-7eee-4c8b-ace9-3364abfc587e",
   "metadata": {
    "tags": []
   },
   "outputs": [],
   "source": [
    "df[\"BMI\"] = (df[\"Weight\"] / ((df[\"Height\"])/100)**2).round(1)"
   ]
  },
  {
   "cell_type": "code",
   "execution_count": 12,
   "id": "1f6f3862-23fa-4532-9831-1868c4dbfcb4",
   "metadata": {},
   "outputs": [],
   "source": [
    "def applyFunc(s):\n",
    "    if s == \"Male\":\n",
    "        m = rng.gamma(38.57,0.98)\n",
    "        return round(m, 1)\n",
    "    elif s == \"Female\":\n",
    "        f = rng.gamma(15.55,0.91)\n",
    "        return round(f, 1)\n",
    "df[\"Alcohol consumption\"] = df[\"Gender\"].apply(applyFunc)"
   ]
  },
  {
   "cell_type": "code",
   "execution_count": 13,
   "id": "98663d74-62d1-4805-8065-22d5be5d62fc",
   "metadata": {},
   "outputs": [],
   "source": [
    "def applyFunc(s):\n",
    "    if s <18.5:\n",
    "        return \"Underweight\"\n",
    "    elif s >=18.5 and s <25:\n",
    "        return \"Healthy weight\"\n",
    "    elif s >=25 and s <30:\n",
    "        return \"Overweight\"\n",
    "    elif s >=30 and s <40:\n",
    "        return \"Overweight\"\n",
    "    elif s >=25:\n",
    "        return \"Obese\"\n",
    "df[\"BMI Classification\"] = df[\"BMI\"].apply(applyFunc)"
   ]
  },
  {
   "cell_type": "code",
   "execution_count": 14,
   "id": "5a7f67d1-055f-4561-b120-f71170f5add2",
   "metadata": {},
   "outputs": [
    {
     "data": {
      "text/html": [
       "<div>\n",
       "<style scoped>\n",
       "    .dataframe tbody tr th:only-of-type {\n",
       "        vertical-align: middle;\n",
       "    }\n",
       "\n",
       "    .dataframe tbody tr th {\n",
       "        vertical-align: top;\n",
       "    }\n",
       "\n",
       "    .dataframe thead th {\n",
       "        text-align: right;\n",
       "    }\n",
       "</style>\n",
       "<table border=\"1\" class=\"dataframe\">\n",
       "  <thead>\n",
       "    <tr style=\"text-align: right;\">\n",
       "      <th></th>\n",
       "      <th>Person</th>\n",
       "      <th>Age</th>\n",
       "      <th>Gender</th>\n",
       "      <th>Height</th>\n",
       "      <th>Weight</th>\n",
       "      <th>BMI</th>\n",
       "      <th>Alcohol consumption</th>\n",
       "      <th>BMI Classification</th>\n",
       "    </tr>\n",
       "  </thead>\n",
       "  <tbody>\n",
       "    <tr>\n",
       "      <th>0</th>\n",
       "      <td>ID 1</td>\n",
       "      <td>53</td>\n",
       "      <td>Male</td>\n",
       "      <td>166.8</td>\n",
       "      <td>79.3</td>\n",
       "      <td>28.5</td>\n",
       "      <td>32.4</td>\n",
       "      <td>Overweight</td>\n",
       "    </tr>\n",
       "    <tr>\n",
       "      <th>1</th>\n",
       "      <td>ID 2</td>\n",
       "      <td>54</td>\n",
       "      <td>Female</td>\n",
       "      <td>170.2</td>\n",
       "      <td>69.6</td>\n",
       "      <td>24.0</td>\n",
       "      <td>16.0</td>\n",
       "      <td>Healthy weight</td>\n",
       "    </tr>\n",
       "    <tr>\n",
       "      <th>2</th>\n",
       "      <td>ID 3</td>\n",
       "      <td>36</td>\n",
       "      <td>Male</td>\n",
       "      <td>186.2</td>\n",
       "      <td>96.7</td>\n",
       "      <td>27.9</td>\n",
       "      <td>40.5</td>\n",
       "      <td>Overweight</td>\n",
       "    </tr>\n",
       "    <tr>\n",
       "      <th>3</th>\n",
       "      <td>ID 4</td>\n",
       "      <td>70</td>\n",
       "      <td>Female</td>\n",
       "      <td>180.8</td>\n",
       "      <td>79.5</td>\n",
       "      <td>24.3</td>\n",
       "      <td>16.4</td>\n",
       "      <td>Healthy weight</td>\n",
       "    </tr>\n",
       "    <tr>\n",
       "      <th>4</th>\n",
       "      <td>ID 5</td>\n",
       "      <td>23</td>\n",
       "      <td>Male</td>\n",
       "      <td>162.3</td>\n",
       "      <td>86.7</td>\n",
       "      <td>32.9</td>\n",
       "      <td>43.1</td>\n",
       "      <td>Overweight</td>\n",
       "    </tr>\n",
       "    <tr>\n",
       "      <th>...</th>\n",
       "      <td>...</td>\n",
       "      <td>...</td>\n",
       "      <td>...</td>\n",
       "      <td>...</td>\n",
       "      <td>...</td>\n",
       "      <td>...</td>\n",
       "      <td>...</td>\n",
       "      <td>...</td>\n",
       "    </tr>\n",
       "    <tr>\n",
       "      <th>99995</th>\n",
       "      <td>ID 99996</td>\n",
       "      <td>42</td>\n",
       "      <td>Male</td>\n",
       "      <td>150.2</td>\n",
       "      <td>99.2</td>\n",
       "      <td>44.0</td>\n",
       "      <td>41.1</td>\n",
       "      <td>Obese</td>\n",
       "    </tr>\n",
       "    <tr>\n",
       "      <th>99996</th>\n",
       "      <td>ID 99997</td>\n",
       "      <td>16</td>\n",
       "      <td>Male</td>\n",
       "      <td>175.2</td>\n",
       "      <td>90.4</td>\n",
       "      <td>29.5</td>\n",
       "      <td>53.1</td>\n",
       "      <td>Overweight</td>\n",
       "    </tr>\n",
       "    <tr>\n",
       "      <th>99997</th>\n",
       "      <td>ID 99998</td>\n",
       "      <td>68</td>\n",
       "      <td>Male</td>\n",
       "      <td>147.2</td>\n",
       "      <td>93.0</td>\n",
       "      <td>42.9</td>\n",
       "      <td>32.9</td>\n",
       "      <td>Obese</td>\n",
       "    </tr>\n",
       "    <tr>\n",
       "      <th>99998</th>\n",
       "      <td>ID 99999</td>\n",
       "      <td>24</td>\n",
       "      <td>Male</td>\n",
       "      <td>151.3</td>\n",
       "      <td>93.4</td>\n",
       "      <td>40.8</td>\n",
       "      <td>42.1</td>\n",
       "      <td>Obese</td>\n",
       "    </tr>\n",
       "    <tr>\n",
       "      <th>99999</th>\n",
       "      <td>ID 100000</td>\n",
       "      <td>53</td>\n",
       "      <td>Male</td>\n",
       "      <td>183.8</td>\n",
       "      <td>82.9</td>\n",
       "      <td>24.5</td>\n",
       "      <td>36.9</td>\n",
       "      <td>Healthy weight</td>\n",
       "    </tr>\n",
       "  </tbody>\n",
       "</table>\n",
       "<p>100000 rows × 8 columns</p>\n",
       "</div>"
      ],
      "text/plain": [
       "          Person  Age  Gender  Height  Weight   BMI  Alcohol consumption  \\\n",
       "0           ID 1   53    Male   166.8    79.3  28.5                 32.4   \n",
       "1           ID 2   54  Female   170.2    69.6  24.0                 16.0   \n",
       "2           ID 3   36    Male   186.2    96.7  27.9                 40.5   \n",
       "3           ID 4   70  Female   180.8    79.5  24.3                 16.4   \n",
       "4           ID 5   23    Male   162.3    86.7  32.9                 43.1   \n",
       "...          ...  ...     ...     ...     ...   ...                  ...   \n",
       "99995   ID 99996   42    Male   150.2    99.2  44.0                 41.1   \n",
       "99996   ID 99997   16    Male   175.2    90.4  29.5                 53.1   \n",
       "99997   ID 99998   68    Male   147.2    93.0  42.9                 32.9   \n",
       "99998   ID 99999   24    Male   151.3    93.4  40.8                 42.1   \n",
       "99999  ID 100000   53    Male   183.8    82.9  24.5                 36.9   \n",
       "\n",
       "      BMI Classification  \n",
       "0             Overweight  \n",
       "1         Healthy weight  \n",
       "2             Overweight  \n",
       "3         Healthy weight  \n",
       "4             Overweight  \n",
       "...                  ...  \n",
       "99995              Obese  \n",
       "99996         Overweight  \n",
       "99997              Obese  \n",
       "99998              Obese  \n",
       "99999     Healthy weight  \n",
       "\n",
       "[100000 rows x 8 columns]"
      ]
     },
     "execution_count": 14,
     "metadata": {},
     "output_type": "execute_result"
    }
   ],
   "source": [
    "df"
   ]
  },
  {
   "cell_type": "markdown",
   "id": "54679e61-56f6-448d-aa1d-9ebe1df5fa9c",
   "metadata": {},
   "source": [
    "alcohol consumption g per day"
   ]
  },
  {
   "cell_type": "code",
   "execution_count": 15,
   "id": "35b5f1e7-1737-4d84-91d4-04b3e4bc64f7",
   "metadata": {},
   "outputs": [
    {
     "data": {
      "text/html": [
       "<div>\n",
       "<style scoped>\n",
       "    .dataframe tbody tr th:only-of-type {\n",
       "        vertical-align: middle;\n",
       "    }\n",
       "\n",
       "    .dataframe tbody tr th {\n",
       "        vertical-align: top;\n",
       "    }\n",
       "\n",
       "    .dataframe thead th {\n",
       "        text-align: right;\n",
       "    }\n",
       "</style>\n",
       "<table border=\"1\" class=\"dataframe\">\n",
       "  <thead>\n",
       "    <tr style=\"text-align: right;\">\n",
       "      <th></th>\n",
       "      <th>Age</th>\n",
       "      <th>Height</th>\n",
       "      <th>Weight</th>\n",
       "      <th>BMI</th>\n",
       "      <th>Alcohol consumption</th>\n",
       "    </tr>\n",
       "  </thead>\n",
       "  <tbody>\n",
       "    <tr>\n",
       "      <th>count</th>\n",
       "      <td>100000.000000</td>\n",
       "      <td>100000.000000</td>\n",
       "      <td>100000.000000</td>\n",
       "      <td>100000.000000</td>\n",
       "      <td>100000.000000</td>\n",
       "    </tr>\n",
       "    <tr>\n",
       "      <th>mean</th>\n",
       "      <td>49.501290</td>\n",
       "      <td>175.840289</td>\n",
       "      <td>85.829671</td>\n",
       "      <td>27.983249</td>\n",
       "      <td>32.803156</td>\n",
       "    </tr>\n",
       "    <tr>\n",
       "      <th>std</th>\n",
       "      <td>14.922393</td>\n",
       "      <td>11.713063</td>\n",
       "      <td>9.568379</td>\n",
       "      <td>4.004344</td>\n",
       "      <td>11.172768</td>\n",
       "    </tr>\n",
       "    <tr>\n",
       "      <th>min</th>\n",
       "      <td>15.000000</td>\n",
       "      <td>125.100000</td>\n",
       "      <td>44.700000</td>\n",
       "      <td>13.700000</td>\n",
       "      <td>4.300000</td>\n",
       "    </tr>\n",
       "    <tr>\n",
       "      <th>25%</th>\n",
       "      <td>39.000000</td>\n",
       "      <td>168.200000</td>\n",
       "      <td>80.000000</td>\n",
       "      <td>25.200000</td>\n",
       "      <td>28.400000</td>\n",
       "    </tr>\n",
       "    <tr>\n",
       "      <th>50%</th>\n",
       "      <td>49.000000</td>\n",
       "      <td>176.400000</td>\n",
       "      <td>86.900000</td>\n",
       "      <td>27.700000</td>\n",
       "      <td>35.400000</td>\n",
       "    </tr>\n",
       "    <tr>\n",
       "      <th>75%</th>\n",
       "      <td>60.000000</td>\n",
       "      <td>183.900000</td>\n",
       "      <td>92.600000</td>\n",
       "      <td>30.400000</td>\n",
       "      <td>40.400000</td>\n",
       "    </tr>\n",
       "    <tr>\n",
       "      <th>max</th>\n",
       "      <td>100.000000</td>\n",
       "      <td>220.200000</td>\n",
       "      <td>117.400000</td>\n",
       "      <td>50.200000</td>\n",
       "      <td>70.100000</td>\n",
       "    </tr>\n",
       "  </tbody>\n",
       "</table>\n",
       "</div>"
      ],
      "text/plain": [
       "                 Age         Height         Weight            BMI  \\\n",
       "count  100000.000000  100000.000000  100000.000000  100000.000000   \n",
       "mean       49.501290     175.840289      85.829671      27.983249   \n",
       "std        14.922393      11.713063       9.568379       4.004344   \n",
       "min        15.000000     125.100000      44.700000      13.700000   \n",
       "25%        39.000000     168.200000      80.000000      25.200000   \n",
       "50%        49.000000     176.400000      86.900000      27.700000   \n",
       "75%        60.000000     183.900000      92.600000      30.400000   \n",
       "max       100.000000     220.200000     117.400000      50.200000   \n",
       "\n",
       "       Alcohol consumption  \n",
       "count        100000.000000  \n",
       "mean             32.803156  \n",
       "std              11.172768  \n",
       "min               4.300000  \n",
       "25%              28.400000  \n",
       "50%              35.400000  \n",
       "75%              40.400000  \n",
       "max              70.100000  "
      ]
     },
     "execution_count": 15,
     "metadata": {},
     "output_type": "execute_result"
    }
   ],
   "source": [
    "df.describe()"
   ]
  },
  {
   "cell_type": "code",
   "execution_count": 16,
   "id": "70f8ef06-182b-45b7-ac56-a9b1a0da7713",
   "metadata": {},
   "outputs": [
    {
     "data": {
      "text/plain": [
       "Overweight        76701\n",
       "Healthy weight    22448\n",
       "Obese               621\n",
       "Underweight         230\n",
       "Name: BMI Classification, dtype: int64"
      ]
     },
     "execution_count": 16,
     "metadata": {},
     "output_type": "execute_result"
    }
   ],
   "source": [
    "df[\"BMI Classification\"].value_counts()"
   ]
  },
  {
   "cell_type": "code",
   "execution_count": 17,
   "id": "d20e03de-d42b-44f9-b41d-1db5decf9bc5",
   "metadata": {},
   "outputs": [
    {
     "data": {
      "text/html": [
       "<div>\n",
       "<style scoped>\n",
       "    .dataframe tbody tr th:only-of-type {\n",
       "        vertical-align: middle;\n",
       "    }\n",
       "\n",
       "    .dataframe tbody tr th {\n",
       "        vertical-align: top;\n",
       "    }\n",
       "\n",
       "    .dataframe thead th {\n",
       "        text-align: right;\n",
       "    }\n",
       "</style>\n",
       "<table border=\"1\" class=\"dataframe\">\n",
       "  <thead>\n",
       "    <tr style=\"text-align: right;\">\n",
       "      <th></th>\n",
       "      <th>Age</th>\n",
       "      <th>Height</th>\n",
       "      <th>Weight</th>\n",
       "      <th>BMI</th>\n",
       "      <th>Alcohol consumption</th>\n",
       "    </tr>\n",
       "  </thead>\n",
       "  <tbody>\n",
       "    <tr>\n",
       "      <th>Age</th>\n",
       "      <td>1.000000</td>\n",
       "      <td>0.004261</td>\n",
       "      <td>0.002411</td>\n",
       "      <td>-0.002073</td>\n",
       "      <td>-0.001031</td>\n",
       "    </tr>\n",
       "    <tr>\n",
       "      <th>Height</th>\n",
       "      <td>0.004261</td>\n",
       "      <td>1.000000</td>\n",
       "      <td>0.353520</td>\n",
       "      <td>-0.657532</td>\n",
       "      <td>0.447184</td>\n",
       "    </tr>\n",
       "    <tr>\n",
       "      <th>Weight</th>\n",
       "      <td>0.002411</td>\n",
       "      <td>0.353520</td>\n",
       "      <td>1.000000</td>\n",
       "      <td>0.461360</td>\n",
       "      <td>0.589963</td>\n",
       "    </tr>\n",
       "    <tr>\n",
       "      <th>BMI</th>\n",
       "      <td>-0.002073</td>\n",
       "      <td>-0.657532</td>\n",
       "      <td>0.461360</td>\n",
       "      <td>1.000000</td>\n",
       "      <td>0.054581</td>\n",
       "    </tr>\n",
       "    <tr>\n",
       "      <th>Alcohol consumption</th>\n",
       "      <td>-0.001031</td>\n",
       "      <td>0.447184</td>\n",
       "      <td>0.589963</td>\n",
       "      <td>0.054581</td>\n",
       "      <td>1.000000</td>\n",
       "    </tr>\n",
       "  </tbody>\n",
       "</table>\n",
       "</div>"
      ],
      "text/plain": [
       "                          Age    Height    Weight       BMI  \\\n",
       "Age                  1.000000  0.004261  0.002411 -0.002073   \n",
       "Height               0.004261  1.000000  0.353520 -0.657532   \n",
       "Weight               0.002411  0.353520  1.000000  0.461360   \n",
       "BMI                 -0.002073 -0.657532  0.461360  1.000000   \n",
       "Alcohol consumption -0.001031  0.447184  0.589963  0.054581   \n",
       "\n",
       "                     Alcohol consumption  \n",
       "Age                            -0.001031  \n",
       "Height                          0.447184  \n",
       "Weight                          0.589963  \n",
       "BMI                             0.054581  \n",
       "Alcohol consumption             1.000000  "
      ]
     },
     "execution_count": 17,
     "metadata": {},
     "output_type": "execute_result"
    }
   ],
   "source": [
    "df.corr()"
   ]
  },
  {
   "cell_type": "code",
   "execution_count": null,
   "id": "80d45274-2d71-43b0-9d3f-2eec156fa62e",
   "metadata": {},
   "outputs": [],
   "source": []
  },
  {
   "cell_type": "code",
   "execution_count": null,
   "id": "2a005627-0955-4132-bb9a-f18ffef78ad6",
   "metadata": {},
   "outputs": [],
   "source": []
  },
  {
   "cell_type": "code",
   "execution_count": null,
   "id": "edbf5c43-860e-41fa-862f-9968d3e919f1",
   "metadata": {},
   "outputs": [],
   "source": []
  },
  {
   "cell_type": "code",
   "execution_count": 18,
   "id": "4ebe73fb-d93c-4ceb-b9f5-4d06704d23e2",
   "metadata": {},
   "outputs": [
    {
     "data": {
      "text/html": [
       "<div>\n",
       "<style scoped>\n",
       "    .dataframe tbody tr th:only-of-type {\n",
       "        vertical-align: middle;\n",
       "    }\n",
       "\n",
       "    .dataframe tbody tr th {\n",
       "        vertical-align: top;\n",
       "    }\n",
       "\n",
       "    .dataframe thead th {\n",
       "        text-align: right;\n",
       "    }\n",
       "</style>\n",
       "<table border=\"1\" class=\"dataframe\">\n",
       "  <thead>\n",
       "    <tr style=\"text-align: right;\">\n",
       "      <th></th>\n",
       "      <th>Height</th>\n",
       "      <th>Weight</th>\n",
       "    </tr>\n",
       "  </thead>\n",
       "  <tbody>\n",
       "    <tr>\n",
       "      <th>0</th>\n",
       "      <td>177.779427</td>\n",
       "      <td>89.030297</td>\n",
       "    </tr>\n",
       "    <tr>\n",
       "      <th>1</th>\n",
       "      <td>178.257526</td>\n",
       "      <td>89.431240</td>\n",
       "    </tr>\n",
       "    <tr>\n",
       "      <th>2</th>\n",
       "      <td>180.486450</td>\n",
       "      <td>91.718545</td>\n",
       "    </tr>\n",
       "    <tr>\n",
       "      <th>3</th>\n",
       "      <td>178.653549</td>\n",
       "      <td>88.683132</td>\n",
       "    </tr>\n",
       "    <tr>\n",
       "      <th>4</th>\n",
       "      <td>180.814163</td>\n",
       "      <td>91.688742</td>\n",
       "    </tr>\n",
       "    <tr>\n",
       "      <th>...</th>\n",
       "      <td>...</td>\n",
       "      <td>...</td>\n",
       "    </tr>\n",
       "    <tr>\n",
       "      <th>95</th>\n",
       "      <td>178.705287</td>\n",
       "      <td>88.544101</td>\n",
       "    </tr>\n",
       "    <tr>\n",
       "      <th>96</th>\n",
       "      <td>178.769774</td>\n",
       "      <td>88.838695</td>\n",
       "    </tr>\n",
       "    <tr>\n",
       "      <th>97</th>\n",
       "      <td>179.408441</td>\n",
       "      <td>89.316389</td>\n",
       "    </tr>\n",
       "    <tr>\n",
       "      <th>98</th>\n",
       "      <td>178.782605</td>\n",
       "      <td>88.613751</td>\n",
       "    </tr>\n",
       "    <tr>\n",
       "      <th>99</th>\n",
       "      <td>178.174195</td>\n",
       "      <td>87.351546</td>\n",
       "    </tr>\n",
       "  </tbody>\n",
       "</table>\n",
       "<p>100 rows × 2 columns</p>\n",
       "</div>"
      ],
      "text/plain": [
       "        Height     Weight\n",
       "0   177.779427  89.030297\n",
       "1   178.257526  89.431240\n",
       "2   180.486450  91.718545\n",
       "3   178.653549  88.683132\n",
       "4   180.814163  91.688742\n",
       "..         ...        ...\n",
       "95  178.705287  88.544101\n",
       "96  178.769774  88.838695\n",
       "97  179.408441  89.316389\n",
       "98  178.782605  88.613751\n",
       "99  178.174195  87.351546\n",
       "\n",
       "[100 rows x 2 columns]"
      ]
     },
     "execution_count": 18,
     "metadata": {},
     "output_type": "execute_result"
    }
   ],
   "source": [
    "fmean = [179, 89.2]\n",
    "fcov = np.array([[1, 0.7], \n",
    "                [0.7, 1]]) \n",
    "\n",
    "data = np.random.multivariate_normal(fmean, fcov, 100)\n",
    "data = pd.DataFrame(data)\n",
    "data.columns = ['Height','Weight']\n",
    "data"
   ]
  },
  {
   "cell_type": "code",
   "execution_count": 19,
   "id": "20ab0c7d-5e9a-487a-8b7f-345f3b3b93f7",
   "metadata": {},
   "outputs": [
    {
     "data": {
      "text/plain": [
       "<AxesSubplot:xlabel='Height', ylabel='Weight'>"
      ]
     },
     "execution_count": 19,
     "metadata": {},
     "output_type": "execute_result"
    },
    {
     "data": {
      "image/png": "[encoded data removed]",
      "text/plain": [
       "<Figure size 432x288 with 1 Axes>"
      ]
     },
     "metadata": {
      "needs_background": "light"
     },
     "output_type": "display_data"
    }
   ],
   "source": [
    "sns.scatterplot (x = data[\"Height\"], y = data[\"Weight\"])"
   ]
  },
  {
   "cell_type": "code",
   "execution_count": null,
   "id": "16c41284-facc-4aae-910c-548e2ffd41ba",
   "metadata": {},
   "outputs": [],
   "source": []
  },
  {
   "cell_type": "code",
   "execution_count": null,
   "id": "7237b255-697a-4676-afa5-5390c7d41f78",
   "metadata": {},
   "outputs": [],
   "source": []
  },
  {
   "cell_type": "code",
   "execution_count": null,
   "id": "c0fb93af-c37d-4b4b-9a96-09830bb6d116",
   "metadata": {},
   "outputs": [],
   "source": []
  },
  {
   "cell_type": "code",
   "execution_count": null,
   "id": "d28e371a-a471-4db7-9ae8-4cc5a4dfba1e",
   "metadata": {},
   "outputs": [],
   "source": []
  },
  {
   "cell_type": "code",
   "execution_count": null,
   "id": "2b2d4a7c-494a-4aea-99de-5314285000cd",
   "metadata": {},
   "outputs": [],
   "source": []
  },
  {
   "cell_type": "code",
   "execution_count": 21,
   "id": "1a346266-b8c4-45ca-bcb9-f83375f604c1",
   "metadata": {},
   "outputs": [
    {
     "ename": "SyntaxError",
     "evalue": "invalid syntax (<ipython-input-21-3f018b926de8>, line 12)",
     "output_type": "error",
     "traceback": [
      "\u001b[1;36m  File \u001b[1;32m\"<ipython-input-21-3f018b926de8>\"\u001b[1;36m, line \u001b[1;32m12\u001b[0m\n\u001b[1;33m    m_data = rng.multivariate_normal(m_means, m_covs)\u001b[0m\n\u001b[1;37m    ^\u001b[0m\n\u001b[1;31mSyntaxError\u001b[0m\u001b[1;31m:\u001b[0m invalid syntax\n"
     ]
    }
   ],
   "source": [
    "# Defining a function.\n",
    "def applyFunc(s):\n",
    "    if s == \"Male\": # If male.\n",
    "        # Create an array of height and weight.\n",
    "        m_means = [179, 89.2, 37.5] # mean for height and weight.\n",
    "        m_stds = [5, 12, 6.3] #standard deviation\n",
    "        m_corr = 0.6 # correlation\n",
    "        m_ncorr = 0.1\n",
    "        m_covs = [[m_stds[0]**2,  m_stds[0]*m_stds[1]*m_corr, m_stds[0]*m_stds[2]*m_ncorr], \n",
    "                [m_stds[0]*m_stds[1]*m_corr, m_stds[1]**2 , m_stds[1]*m_stds[2]*m_corr],\n",
    "                [m_stds[0]*m_stds[2]*m_ncorr, m_stds[1]*m_stds[2]*m_ncorr, m_stds[2]**2]]\n",
    "        m_data = rng.multivariate_normal(m_means, m_covs)       \n",
    "        m_data = m_data.round(1)\n",
    "        return m_data[0], m_data[1], m_data[2]\n",
    "    if s == \"Female\": # If female.\n",
    "         # Create an array of height and weight.\n",
    "        f_means = [164, 73.1, 15.55] # mean for height and weight.\n",
    "        f_stds = [5, 12, 6.3] #standard deviation\n",
    "        f_corr = 0.5 # correlation\n",
    "        f_ncorr = 0.1\n",
    "        f_covs = [[f_stds[0]**2,  f_stds[0]*f_stds[1]*f_corr, f_stds[0]*f_stds[2]*f_ncorr], \n",
    "                [f_stds[0]*f_stds[1]*f_corr, f_stds[1]**2 , f_stds[1]*f_stds[2]*f_corr],\n",
    "                [f_stds[0]*f_stds[2]*f_ncorr, f_stds[1]*f_stds[2]*f_ncorr, f_stds[2]**2]]  \n",
    "        f_data = rng.multivariate_normal(f_means, f_covs)       \n",
    "        f_data = f_data.round(1)\n",
    "        return f_data[0], f_data[1], f_data[2]\n",
    "\n",
    "# Create an array based on gender\n",
    "height_weight = df[\"gender\"].apply(applyFunc)\n",
    "# Assign array elements [3]\n",
    "df[\"height\"]= height_weight.str[0]\n",
    "df[\"weight\"]= height_weight.str[1]\n",
    "df[\"alcohol_consumption\"] = height_weight.str[2]\n",
    "# Current dataset\n",
    "df.head()"
   ]
  },
  {
   "cell_type": "code",
   "execution_count": null,
   "id": "039dd2a5-b6a9-4679-a2b6-9f82e7992f1c",
   "metadata": {},
   "outputs": [],
   "source": []
  },
  {
   "cell_type": "code",
   "execution_count": null,
   "id": "81d88a91-588d-4724-b90c-204498832c77",
   "metadata": {},
   "outputs": [],
   "source": []
  },
  {
   "cell_type": "code",
   "execution_count": null,
   "id": "9d022550-8277-491c-b33f-5673407b16ed",
   "metadata": {},
   "outputs": [],
   "source": []
  },
  {
   "cell_type": "code",
   "execution_count": null,
   "id": "50177f49-4b10-43d9-9c40-bbc54616a10e",
   "metadata": {},
   "outputs": [],
   "source": []
  },
  {
   "cell_type": "code",
   "execution_count": null,
   "id": "ca8018ae-7e1e-4443-b73b-66fad41caf4f",
   "metadata": {},
   "outputs": [],
   "source": []
  },
  {
   "cell_type": "code",
   "execution_count": 46,
   "id": "9af257fd-cec5-4013-9e4a-2abbb729b57a",
   "metadata": {},
   "outputs": [
    {
     "data": {
      "text/plain": [
       "<AxesSubplot:ylabel='Density'>"
      ]
     },
     "execution_count": 46,
     "metadata": {},
     "output_type": "execute_result"
    },
    {
     "data": {
      "image/png": "[encoded data removed]",
      "text/plain": [
       "<Figure size 1800x504 with 1 Axes>"
      ]
     },
     "metadata": {},
     "output_type": "display_data"
    }
   ],
   "source": [
    "for seed in range (10):\n",
    "    rng = np.random.default_rng(seed)\n",
    "\n",
    "    n = []\n",
    "    for i in range(1000):\n",
    "        a = np.clip(np.random.normal(37.5, 6.3), 20, 100)\n",
    "        n.append((a))\n",
    "    sns.kdeplot(n, alpha = 0.7)\n",
    "m = rng.gamma(38.57,0.98, 1000)\n",
    "sns.kdeplot (m, linewidth = 3, color = \"b\")\n"
   ]
  }
 ],
 "metadata": {
  "kernelspec": {
   "display_name": "Python 3",
   "language": "python",
   "name": "python3"
  },
  "language_info": {
   "codemirror_mode": {
    "name": "ipython",
    "version": 3
   },
   "file_extension": ".py",
   "mimetype": "text/x-python",
   "name": "python",
   "nbconvert_exporter": "python",
   "pygments_lexer": "ipython3",
   "version": "3.8.8"
  }
 },
 "nbformat": 4,
 "nbformat_minor": 5
}
