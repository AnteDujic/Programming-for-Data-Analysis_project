{
 "cells": [
  {
   "cell_type": "code",
   "execution_count": 1,
   "id": "85699eda-0069-4b80-96d1-457f0a999b53",
   "metadata": {},
   "outputs": [],
   "source": [
    "import pandas as pd\n",
    "import matplotlib.pyplot as plt\n",
    "import seaborn as sns\n",
    "import numpy as np"
   ]
  },
  {
   "cell_type": "code",
   "execution_count": 2,
   "id": "9026d2a7-093b-42f3-9443-1a0acb3bb72c",
   "metadata": {},
   "outputs": [
    {
     "data": {
      "text/html": [
       "<div>\n",
       "<style scoped>\n",
       "    .dataframe tbody tr th:only-of-type {\n",
       "        vertical-align: middle;\n",
       "    }\n",
       "\n",
       "    .dataframe tbody tr th {\n",
       "        vertical-align: top;\n",
       "    }\n",
       "\n",
       "    .dataframe thead th {\n",
       "        text-align: right;\n",
       "    }\n",
       "</style>\n",
       "<table border=\"1\" class=\"dataframe\">\n",
       "  <thead>\n",
       "    <tr style=\"text-align: right;\">\n",
       "      <th></th>\n",
       "      <th>HDI Rank</th>\n",
       "      <th>Country</th>\n",
       "      <th>1990</th>\n",
       "      <th>Unnamed: 3</th>\n",
       "      <th>1991</th>\n",
       "      <th>Unnamed: 5</th>\n",
       "      <th>1992</th>\n",
       "      <th>Unnamed: 7</th>\n",
       "      <th>1993</th>\n",
       "      <th>Unnamed: 9</th>\n",
       "      <th>...</th>\n",
       "      <th>2015</th>\n",
       "      <th>Unnamed: 53</th>\n",
       "      <th>2016</th>\n",
       "      <th>Unnamed: 55</th>\n",
       "      <th>2017</th>\n",
       "      <th>Unnamed: 57</th>\n",
       "      <th>2018</th>\n",
       "      <th>Unnamed: 59</th>\n",
       "      <th>2019</th>\n",
       "      <th>Unnamed: 61</th>\n",
       "    </tr>\n",
       "  </thead>\n",
       "  <tbody>\n",
       "    <tr>\n",
       "      <th>0</th>\n",
       "      <td>169</td>\n",
       "      <td>Afghanistan</td>\n",
       "      <td>0.302</td>\n",
       "      <td>NaN</td>\n",
       "      <td>0.307</td>\n",
       "      <td>NaN</td>\n",
       "      <td>0.316</td>\n",
       "      <td>NaN</td>\n",
       "      <td>0.312</td>\n",
       "      <td>NaN</td>\n",
       "      <td>...</td>\n",
       "      <td>0.500</td>\n",
       "      <td>NaN</td>\n",
       "      <td>0.502</td>\n",
       "      <td>NaN</td>\n",
       "      <td>0.506</td>\n",
       "      <td>NaN</td>\n",
       "      <td>0.509</td>\n",
       "      <td>NaN</td>\n",
       "      <td>0.511</td>\n",
       "      <td>NaN</td>\n",
       "    </tr>\n",
       "    <tr>\n",
       "      <th>1</th>\n",
       "      <td>69</td>\n",
       "      <td>Albania</td>\n",
       "      <td>0.650</td>\n",
       "      <td>NaN</td>\n",
       "      <td>0.631</td>\n",
       "      <td>NaN</td>\n",
       "      <td>0.615</td>\n",
       "      <td>NaN</td>\n",
       "      <td>0.618</td>\n",
       "      <td>NaN</td>\n",
       "      <td>...</td>\n",
       "      <td>0.788</td>\n",
       "      <td>NaN</td>\n",
       "      <td>0.788</td>\n",
       "      <td>NaN</td>\n",
       "      <td>0.790</td>\n",
       "      <td>NaN</td>\n",
       "      <td>0.792</td>\n",
       "      <td>NaN</td>\n",
       "      <td>0.795</td>\n",
       "      <td>NaN</td>\n",
       "    </tr>\n",
       "    <tr>\n",
       "      <th>2</th>\n",
       "      <td>91</td>\n",
       "      <td>Algeria</td>\n",
       "      <td>0.572</td>\n",
       "      <td>NaN</td>\n",
       "      <td>0.576</td>\n",
       "      <td>NaN</td>\n",
       "      <td>0.582</td>\n",
       "      <td>NaN</td>\n",
       "      <td>0.586</td>\n",
       "      <td>NaN</td>\n",
       "      <td>...</td>\n",
       "      <td>0.740</td>\n",
       "      <td>NaN</td>\n",
       "      <td>0.743</td>\n",
       "      <td>NaN</td>\n",
       "      <td>0.745</td>\n",
       "      <td>NaN</td>\n",
       "      <td>0.746</td>\n",
       "      <td>NaN</td>\n",
       "      <td>0.748</td>\n",
       "      <td>NaN</td>\n",
       "    </tr>\n",
       "    <tr>\n",
       "      <th>3</th>\n",
       "      <td>36</td>\n",
       "      <td>Andorra</td>\n",
       "      <td>..</td>\n",
       "      <td>NaN</td>\n",
       "      <td>..</td>\n",
       "      <td>NaN</td>\n",
       "      <td>..</td>\n",
       "      <td>NaN</td>\n",
       "      <td>..</td>\n",
       "      <td>NaN</td>\n",
       "      <td>...</td>\n",
       "      <td>0.862</td>\n",
       "      <td>NaN</td>\n",
       "      <td>0.866</td>\n",
       "      <td>NaN</td>\n",
       "      <td>0.863</td>\n",
       "      <td>NaN</td>\n",
       "      <td>0.867</td>\n",
       "      <td>NaN</td>\n",
       "      <td>0.868</td>\n",
       "      <td>NaN</td>\n",
       "    </tr>\n",
       "    <tr>\n",
       "      <th>4</th>\n",
       "      <td>148</td>\n",
       "      <td>Angola</td>\n",
       "      <td>..</td>\n",
       "      <td>NaN</td>\n",
       "      <td>..</td>\n",
       "      <td>NaN</td>\n",
       "      <td>..</td>\n",
       "      <td>NaN</td>\n",
       "      <td>..</td>\n",
       "      <td>NaN</td>\n",
       "      <td>...</td>\n",
       "      <td>0.572</td>\n",
       "      <td>NaN</td>\n",
       "      <td>0.578</td>\n",
       "      <td>NaN</td>\n",
       "      <td>0.582</td>\n",
       "      <td>NaN</td>\n",
       "      <td>0.582</td>\n",
       "      <td>NaN</td>\n",
       "      <td>0.581</td>\n",
       "      <td>NaN</td>\n",
       "    </tr>\n",
       "    <tr>\n",
       "      <th>...</th>\n",
       "      <td>...</td>\n",
       "      <td>...</td>\n",
       "      <td>...</td>\n",
       "      <td>...</td>\n",
       "      <td>...</td>\n",
       "      <td>...</td>\n",
       "      <td>...</td>\n",
       "      <td>...</td>\n",
       "      <td>...</td>\n",
       "      <td>...</td>\n",
       "      <td>...</td>\n",
       "      <td>...</td>\n",
       "      <td>...</td>\n",
       "      <td>...</td>\n",
       "      <td>...</td>\n",
       "      <td>...</td>\n",
       "      <td>...</td>\n",
       "      <td>...</td>\n",
       "      <td>...</td>\n",
       "      <td>...</td>\n",
       "      <td>...</td>\n",
       "    </tr>\n",
       "    <tr>\n",
       "      <th>202</th>\n",
       "      <td></td>\n",
       "      <td>Least Developed Countries</td>\n",
       "      <td>0.350</td>\n",
       "      <td>NaN</td>\n",
       "      <td>0.353</td>\n",
       "      <td>NaN</td>\n",
       "      <td>0.354</td>\n",
       "      <td>NaN</td>\n",
       "      <td>0.358</td>\n",
       "      <td>NaN</td>\n",
       "      <td>...</td>\n",
       "      <td>0.516</td>\n",
       "      <td>NaN</td>\n",
       "      <td>0.520</td>\n",
       "      <td>NaN</td>\n",
       "      <td>0.525</td>\n",
       "      <td>NaN</td>\n",
       "      <td>0.528</td>\n",
       "      <td>NaN</td>\n",
       "      <td>0.538</td>\n",
       "      <td>NaN</td>\n",
       "    </tr>\n",
       "    <tr>\n",
       "      <th>203</th>\n",
       "      <td></td>\n",
       "      <td>Small Island Developing States</td>\n",
       "      <td>0.595</td>\n",
       "      <td>NaN</td>\n",
       "      <td>0.598</td>\n",
       "      <td>NaN</td>\n",
       "      <td>0.603</td>\n",
       "      <td>NaN</td>\n",
       "      <td>0.608</td>\n",
       "      <td>NaN</td>\n",
       "      <td>...</td>\n",
       "      <td>0.717</td>\n",
       "      <td>NaN</td>\n",
       "      <td>0.719</td>\n",
       "      <td>NaN</td>\n",
       "      <td>0.722</td>\n",
       "      <td>NaN</td>\n",
       "      <td>0.723</td>\n",
       "      <td>NaN</td>\n",
       "      <td>0.728</td>\n",
       "      <td>NaN</td>\n",
       "    </tr>\n",
       "    <tr>\n",
       "      <th>204</th>\n",
       "      <td></td>\n",
       "      <td>Organization for Economic Co-operation and Dev...</td>\n",
       "      <td>0.785</td>\n",
       "      <td>NaN</td>\n",
       "      <td>0.790</td>\n",
       "      <td>NaN</td>\n",
       "      <td>0.788</td>\n",
       "      <td>NaN</td>\n",
       "      <td>0.800</td>\n",
       "      <td>NaN</td>\n",
       "      <td>...</td>\n",
       "      <td>0.889</td>\n",
       "      <td>NaN</td>\n",
       "      <td>0.892</td>\n",
       "      <td>NaN</td>\n",
       "      <td>0.894</td>\n",
       "      <td>NaN</td>\n",
       "      <td>0.895</td>\n",
       "      <td>NaN</td>\n",
       "      <td>0.900</td>\n",
       "      <td>NaN</td>\n",
       "    </tr>\n",
       "    <tr>\n",
       "      <th>205</th>\n",
       "      <td></td>\n",
       "      <td>World</td>\n",
       "      <td>0.598</td>\n",
       "      <td>NaN</td>\n",
       "      <td>0.601</td>\n",
       "      <td>NaN</td>\n",
       "      <td>0.601</td>\n",
       "      <td>NaN</td>\n",
       "      <td>0.608</td>\n",
       "      <td>NaN</td>\n",
       "      <td>...</td>\n",
       "      <td>0.722</td>\n",
       "      <td>NaN</td>\n",
       "      <td>0.727</td>\n",
       "      <td>NaN</td>\n",
       "      <td>0.729</td>\n",
       "      <td>NaN</td>\n",
       "      <td>0.731</td>\n",
       "      <td>NaN</td>\n",
       "      <td>0.737</td>\n",
       "      <td>NaN</td>\n",
       "    </tr>\n",
       "    <tr>\n",
       "      <th>206</th>\n",
       "      <td>NaN</td>\n",
       "      <td>NaN</td>\n",
       "      <td>NaN</td>\n",
       "      <td>NaN</td>\n",
       "      <td>NaN</td>\n",
       "      <td>NaN</td>\n",
       "      <td>NaN</td>\n",
       "      <td>NaN</td>\n",
       "      <td>NaN</td>\n",
       "      <td>NaN</td>\n",
       "      <td>...</td>\n",
       "      <td>NaN</td>\n",
       "      <td>NaN</td>\n",
       "      <td>NaN</td>\n",
       "      <td>NaN</td>\n",
       "      <td>NaN</td>\n",
       "      <td>NaN</td>\n",
       "      <td>NaN</td>\n",
       "      <td>NaN</td>\n",
       "      <td>NaN</td>\n",
       "      <td>NaN</td>\n",
       "    </tr>\n",
       "  </tbody>\n",
       "</table>\n",
       "<p>207 rows × 62 columns</p>\n",
       "</div>"
      ],
      "text/plain": [
       "    HDI Rank                                            Country   1990  \\\n",
       "0        169                                        Afghanistan  0.302   \n",
       "1         69                                            Albania  0.650   \n",
       "2         91                                            Algeria  0.572   \n",
       "3         36                                            Andorra     ..   \n",
       "4        148                                             Angola     ..   \n",
       "..       ...                                                ...    ...   \n",
       "202                                   Least Developed Countries  0.350   \n",
       "203                              Small Island Developing States  0.595   \n",
       "204           Organization for Economic Co-operation and Dev...  0.785   \n",
       "205                                                       World  0.598   \n",
       "206      NaN                                                NaN    NaN   \n",
       "\n",
       "     Unnamed: 3   1991  Unnamed: 5   1992  Unnamed: 7   1993  Unnamed: 9  ...  \\\n",
       "0           NaN  0.307         NaN  0.316         NaN  0.312         NaN  ...   \n",
       "1           NaN  0.631         NaN  0.615         NaN  0.618         NaN  ...   \n",
       "2           NaN  0.576         NaN  0.582         NaN  0.586         NaN  ...   \n",
       "3           NaN     ..         NaN     ..         NaN     ..         NaN  ...   \n",
       "4           NaN     ..         NaN     ..         NaN     ..         NaN  ...   \n",
       "..          ...    ...         ...    ...         ...    ...         ...  ...   \n",
       "202         NaN  0.353         NaN  0.354         NaN  0.358         NaN  ...   \n",
       "203         NaN  0.598         NaN  0.603         NaN  0.608         NaN  ...   \n",
       "204         NaN  0.790         NaN  0.788         NaN  0.800         NaN  ...   \n",
       "205         NaN  0.601         NaN  0.601         NaN  0.608         NaN  ...   \n",
       "206         NaN    NaN         NaN    NaN         NaN    NaN         NaN  ...   \n",
       "\n",
       "      2015  Unnamed: 53   2016  Unnamed: 55   2017  Unnamed: 57   2018  \\\n",
       "0    0.500          NaN  0.502          NaN  0.506          NaN  0.509   \n",
       "1    0.788          NaN  0.788          NaN  0.790          NaN  0.792   \n",
       "2    0.740          NaN  0.743          NaN  0.745          NaN  0.746   \n",
       "3    0.862          NaN  0.866          NaN  0.863          NaN  0.867   \n",
       "4    0.572          NaN  0.578          NaN  0.582          NaN  0.582   \n",
       "..     ...          ...    ...          ...    ...          ...    ...   \n",
       "202  0.516          NaN  0.520          NaN  0.525          NaN  0.528   \n",
       "203  0.717          NaN  0.719          NaN  0.722          NaN  0.723   \n",
       "204  0.889          NaN  0.892          NaN  0.894          NaN  0.895   \n",
       "205  0.722          NaN  0.727          NaN  0.729          NaN  0.731   \n",
       "206    NaN          NaN    NaN          NaN    NaN          NaN    NaN   \n",
       "\n",
       "     Unnamed: 59   2019  Unnamed: 61  \n",
       "0            NaN  0.511          NaN  \n",
       "1            NaN  0.795          NaN  \n",
       "2            NaN  0.748          NaN  \n",
       "3            NaN  0.868          NaN  \n",
       "4            NaN  0.581          NaN  \n",
       "..           ...    ...          ...  \n",
       "202          NaN  0.538          NaN  \n",
       "203          NaN  0.728          NaN  \n",
       "204          NaN  0.900          NaN  \n",
       "205          NaN  0.737          NaN  \n",
       "206          NaN    NaN          NaN  \n",
       "\n",
       "[207 rows x 62 columns]"
      ]
     },
     "execution_count": 2,
     "metadata": {},
     "output_type": "execute_result"
    }
   ],
   "source": [
    "df = pd.read_csv (\"Human Development Index (HDI).csv\", skiprows = 5)\n",
    "df"
   ]
  },
  {
   "cell_type": "code",
   "execution_count": 3,
   "id": "6d6dded4-e739-4e9c-b312-0c4dc2c972b0",
   "metadata": {},
   "outputs": [
    {
     "name": "stderr",
     "output_type": "stream",
     "text": [
      "C:\\Users\\Kompic\\anaconda3\\lib\\site-packages\\pandas\\core\\frame.py:4308: SettingWithCopyWarning: \n",
      "A value is trying to be set on a copy of a slice from a DataFrame\n",
      "\n",
      "See the caveats in the documentation: https://pandas.pydata.org/pandas-docs/stable/user_guide/indexing.html#returning-a-view-versus-a-copy\n",
      "  return super().drop(\n"
     ]
    }
   ],
   "source": [
    "df = df[[\"Country\", \"2019\"]]\n",
    "df.drop(df.tail(18).index,inplace=True)\n",
    "df.columns = [\"Country\", \"HDI\"]"
   ]
  },
  {
   "cell_type": "code",
   "execution_count": 4,
   "id": "14646186-2665-4f52-8d6a-dc15222d2d6a",
   "metadata": {},
   "outputs": [
    {
     "data": {
      "text/plain": [
       "0      0.511\n",
       "1      0.795\n",
       "2      0.748\n",
       "3      0.868\n",
       "4      0.581\n",
       "       ...  \n",
       "184    0.711\n",
       "185    0.704\n",
       "186    0.470\n",
       "187    0.584\n",
       "188    0.571\n",
       "Name: HDI, Length: 189, dtype: float64"
      ]
     },
     "execution_count": 4,
     "metadata": {},
     "output_type": "execute_result"
    }
   ],
   "source": [
    "x = df[\"HDI\"]\n",
    "x = x.apply(pd.to_numeric, errors='coerce')\n",
    "x"
   ]
  },
  {
   "cell_type": "code",
   "execution_count": 5,
   "id": "89d8ecc7-ad39-483b-88e0-22aedd571a4f",
   "metadata": {},
   "outputs": [
    {
     "data": {
      "text/plain": [
       "(array([ 3.,  7.,  8., 13., 11., 11.,  8.,  8., 19., 19., 19., 17., 12.,\n",
       "        16., 18.]),\n",
       " array([0.394     , 0.43153333, 0.46906667, 0.5066    , 0.54413333,\n",
       "        0.58166667, 0.6192    , 0.65673333, 0.69426667, 0.7318    ,\n",
       "        0.76933333, 0.80686667, 0.8444    , 0.88193333, 0.91946667,\n",
       "        0.957     ]),\n",
       " <BarContainer object of 15 artists>)"
      ]
     },
     "execution_count": 5,
     "metadata": {},
     "output_type": "execute_result"
    },
    {
     "data": {
      "image/png": "[encoded data removed]",
      "text/plain": [
       "<Figure size 1800x720 with 1 Axes>"
      ]
     },
     "metadata": {
      "needs_background": "light"
     },
     "output_type": "display_data"
    }
   ],
   "source": [
    "fig = plt.gcf()\n",
    "fig.set_size_inches(25, 10)\n",
    "\n",
    "plt.hist(x, bins = 15)"
   ]
  },
  {
   "cell_type": "code",
   "execution_count": 6,
   "id": "ff7a5a47-a956-4857-8095-1dc95300d619",
   "metadata": {},
   "outputs": [
    {
     "data": {
      "text/plain": [
       "<AxesSubplot:xlabel='HDI', ylabel='Density'>"
      ]
     },
     "execution_count": 6,
     "metadata": {},
     "output_type": "execute_result"
    },
    {
     "data": {
      "image/png": "[encoded data removed]",
      "text/plain": [
       "<Figure size 1800x720 with 1 Axes>"
      ]
     },
     "metadata": {
      "needs_background": "light"
     },
     "output_type": "display_data"
    }
   ],
   "source": [
    "fig = plt.gcf()\n",
    "fig.set_size_inches(25, 10)\n",
    "sns.kdeplot (data = x)"
   ]
  },
  {
   "cell_type": "code",
   "execution_count": null,
   "id": "ce5c88f5-301b-4cdf-84ba-a4c9668144ac",
   "metadata": {},
   "outputs": [],
   "source": []
  },
  {
   "cell_type": "code",
   "execution_count": null,
   "id": "1c4bc1a2-452f-436e-be21-c9f28265bba6",
   "metadata": {},
   "outputs": [],
   "source": []
  },
  {
   "cell_type": "code",
   "execution_count": null,
   "id": "7714de3e-95cc-496b-948e-60fe7d08342d",
   "metadata": {},
   "outputs": [],
   "source": []
  },
  {
   "cell_type": "code",
   "execution_count": null,
   "id": "f07d51e6-9dce-401b-b427-7064a9a84657",
   "metadata": {},
   "outputs": [],
   "source": []
  },
  {
   "cell_type": "code",
   "execution_count": 7,
   "id": "1037beb1-ecf0-46a9-88f3-2c0f0be39810",
   "metadata": {},
   "outputs": [
    {
     "data": {
      "text/html": [
       "<div>\n",
       "<style scoped>\n",
       "    .dataframe tbody tr th:only-of-type {\n",
       "        vertical-align: middle;\n",
       "    }\n",
       "\n",
       "    .dataframe tbody tr th {\n",
       "        vertical-align: top;\n",
       "    }\n",
       "\n",
       "    .dataframe thead th {\n",
       "        text-align: right;\n",
       "    }\n",
       "</style>\n",
       "<table border=\"1\" class=\"dataframe\">\n",
       "  <thead>\n",
       "    <tr style=\"text-align: right;\">\n",
       "      <th></th>\n",
       "      <th>HDI Rank</th>\n",
       "      <th>Country</th>\n",
       "      <th>1990</th>\n",
       "      <th>Unnamed: 3</th>\n",
       "      <th>1991</th>\n",
       "      <th>Unnamed: 5</th>\n",
       "      <th>1992</th>\n",
       "      <th>Unnamed: 7</th>\n",
       "      <th>1993</th>\n",
       "      <th>Unnamed: 9</th>\n",
       "      <th>...</th>\n",
       "      <th>2015</th>\n",
       "      <th>Unnamed: 53</th>\n",
       "      <th>2016</th>\n",
       "      <th>Unnamed: 55</th>\n",
       "      <th>2017</th>\n",
       "      <th>Unnamed: 57</th>\n",
       "      <th>2018</th>\n",
       "      <th>Unnamed: 59</th>\n",
       "      <th>2019</th>\n",
       "      <th>Unnamed: 61</th>\n",
       "    </tr>\n",
       "  </thead>\n",
       "  <tbody>\n",
       "    <tr>\n",
       "      <th>0</th>\n",
       "      <td>169</td>\n",
       "      <td>Afghanistan</td>\n",
       "      <td>50.3</td>\n",
       "      <td>NaN</td>\n",
       "      <td>51.0</td>\n",
       "      <td>NaN</td>\n",
       "      <td>51.6</td>\n",
       "      <td>NaN</td>\n",
       "      <td>52.3</td>\n",
       "      <td>NaN</td>\n",
       "      <td>...</td>\n",
       "      <td>63.4</td>\n",
       "      <td>NaN</td>\n",
       "      <td>63.8</td>\n",
       "      <td>NaN</td>\n",
       "      <td>64.1</td>\n",
       "      <td>NaN</td>\n",
       "      <td>64.5</td>\n",
       "      <td>NaN</td>\n",
       "      <td>64.8</td>\n",
       "      <td>NaN</td>\n",
       "    </tr>\n",
       "    <tr>\n",
       "      <th>1</th>\n",
       "      <td>69</td>\n",
       "      <td>Albania</td>\n",
       "      <td>71.8</td>\n",
       "      <td>NaN</td>\n",
       "      <td>71.8</td>\n",
       "      <td>NaN</td>\n",
       "      <td>71.8</td>\n",
       "      <td>NaN</td>\n",
       "      <td>71.9</td>\n",
       "      <td>NaN</td>\n",
       "      <td>...</td>\n",
       "      <td>78.0</td>\n",
       "      <td>NaN</td>\n",
       "      <td>78.2</td>\n",
       "      <td>NaN</td>\n",
       "      <td>78.3</td>\n",
       "      <td>NaN</td>\n",
       "      <td>78.5</td>\n",
       "      <td>NaN</td>\n",
       "      <td>78.6</td>\n",
       "      <td>NaN</td>\n",
       "    </tr>\n",
       "    <tr>\n",
       "      <th>2</th>\n",
       "      <td>91</td>\n",
       "      <td>Algeria</td>\n",
       "      <td>66.9</td>\n",
       "      <td>NaN</td>\n",
       "      <td>67.3</td>\n",
       "      <td>NaN</td>\n",
       "      <td>67.6</td>\n",
       "      <td>NaN</td>\n",
       "      <td>67.9</td>\n",
       "      <td>NaN</td>\n",
       "      <td>...</td>\n",
       "      <td>76.1</td>\n",
       "      <td>NaN</td>\n",
       "      <td>76.3</td>\n",
       "      <td>NaN</td>\n",
       "      <td>76.5</td>\n",
       "      <td>NaN</td>\n",
       "      <td>76.7</td>\n",
       "      <td>NaN</td>\n",
       "      <td>76.9</td>\n",
       "      <td>NaN</td>\n",
       "    </tr>\n",
       "    <tr>\n",
       "      <th>3</th>\n",
       "      <td>36</td>\n",
       "      <td>Andorra</td>\n",
       "      <td>76.5</td>\n",
       "      <td>NaN</td>\n",
       "      <td>76.7</td>\n",
       "      <td>NaN</td>\n",
       "      <td>76.9</td>\n",
       "      <td>NaN</td>\n",
       "      <td>77.0</td>\n",
       "      <td>NaN</td>\n",
       "      <td>...</td>\n",
       "      <td>81.4</td>\n",
       "      <td>NaN</td>\n",
       "      <td>81.5</td>\n",
       "      <td>NaN</td>\n",
       "      <td>81.7</td>\n",
       "      <td>NaN</td>\n",
       "      <td>81.8</td>\n",
       "      <td>NaN</td>\n",
       "      <td>81.9</td>\n",
       "      <td>a</td>\n",
       "    </tr>\n",
       "    <tr>\n",
       "      <th>4</th>\n",
       "      <td>148</td>\n",
       "      <td>Angola</td>\n",
       "      <td>45.3</td>\n",
       "      <td>NaN</td>\n",
       "      <td>45.3</td>\n",
       "      <td>NaN</td>\n",
       "      <td>45.2</td>\n",
       "      <td>NaN</td>\n",
       "      <td>45.2</td>\n",
       "      <td>NaN</td>\n",
       "      <td>...</td>\n",
       "      <td>59.4</td>\n",
       "      <td>NaN</td>\n",
       "      <td>59.9</td>\n",
       "      <td>NaN</td>\n",
       "      <td>60.4</td>\n",
       "      <td>NaN</td>\n",
       "      <td>60.8</td>\n",
       "      <td>NaN</td>\n",
       "      <td>61.1</td>\n",
       "      <td>NaN</td>\n",
       "    </tr>\n",
       "    <tr>\n",
       "      <th>...</th>\n",
       "      <td>...</td>\n",
       "      <td>...</td>\n",
       "      <td>...</td>\n",
       "      <td>...</td>\n",
       "      <td>...</td>\n",
       "      <td>...</td>\n",
       "      <td>...</td>\n",
       "      <td>...</td>\n",
       "      <td>...</td>\n",
       "      <td>...</td>\n",
       "      <td>...</td>\n",
       "      <td>...</td>\n",
       "      <td>...</td>\n",
       "      <td>...</td>\n",
       "      <td>...</td>\n",
       "      <td>...</td>\n",
       "      <td>...</td>\n",
       "      <td>...</td>\n",
       "      <td>...</td>\n",
       "      <td>...</td>\n",
       "      <td>...</td>\n",
       "    </tr>\n",
       "    <tr>\n",
       "      <th>205</th>\n",
       "      <td></td>\n",
       "      <td>Small Island Developing States</td>\n",
       "      <td>65.8</td>\n",
       "      <td>NaN</td>\n",
       "      <td>66.0</td>\n",
       "      <td>NaN</td>\n",
       "      <td>66.3</td>\n",
       "      <td>NaN</td>\n",
       "      <td>66.5</td>\n",
       "      <td>NaN</td>\n",
       "      <td>...</td>\n",
       "      <td>71.3</td>\n",
       "      <td>NaN</td>\n",
       "      <td>71.5</td>\n",
       "      <td>NaN</td>\n",
       "      <td>71.7</td>\n",
       "      <td>NaN</td>\n",
       "      <td>71.8</td>\n",
       "      <td>NaN</td>\n",
       "      <td>72.0</td>\n",
       "      <td>NaN</td>\n",
       "    </tr>\n",
       "    <tr>\n",
       "      <th>206</th>\n",
       "      <td></td>\n",
       "      <td>Organization for Economic Co-operation and Dev...</td>\n",
       "      <td>74.8</td>\n",
       "      <td>NaN</td>\n",
       "      <td>75.0</td>\n",
       "      <td>NaN</td>\n",
       "      <td>75.2</td>\n",
       "      <td>NaN</td>\n",
       "      <td>75.4</td>\n",
       "      <td>NaN</td>\n",
       "      <td>...</td>\n",
       "      <td>80.1</td>\n",
       "      <td>NaN</td>\n",
       "      <td>80.2</td>\n",
       "      <td>NaN</td>\n",
       "      <td>80.3</td>\n",
       "      <td>NaN</td>\n",
       "      <td>80.4</td>\n",
       "      <td>NaN</td>\n",
       "      <td>80.4</td>\n",
       "      <td>NaN</td>\n",
       "    </tr>\n",
       "    <tr>\n",
       "      <th>207</th>\n",
       "      <td></td>\n",
       "      <td>World</td>\n",
       "      <td>65.4</td>\n",
       "      <td>NaN</td>\n",
       "      <td>65.6</td>\n",
       "      <td>NaN</td>\n",
       "      <td>65.8</td>\n",
       "      <td>NaN</td>\n",
       "      <td>66.0</td>\n",
       "      <td>NaN</td>\n",
       "      <td>...</td>\n",
       "      <td>72.0</td>\n",
       "      <td>NaN</td>\n",
       "      <td>72.2</td>\n",
       "      <td>NaN</td>\n",
       "      <td>72.4</td>\n",
       "      <td>NaN</td>\n",
       "      <td>72.6</td>\n",
       "      <td>NaN</td>\n",
       "      <td>72.8</td>\n",
       "      <td>NaN</td>\n",
       "    </tr>\n",
       "    <tr>\n",
       "      <th>208</th>\n",
       "      <td>a: Value from UNDESA (2011).</td>\n",
       "      <td>NaN</td>\n",
       "      <td>NaN</td>\n",
       "      <td>NaN</td>\n",
       "      <td>NaN</td>\n",
       "      <td>NaN</td>\n",
       "      <td>NaN</td>\n",
       "      <td>NaN</td>\n",
       "      <td>NaN</td>\n",
       "      <td>NaN</td>\n",
       "      <td>...</td>\n",
       "      <td>NaN</td>\n",
       "      <td>NaN</td>\n",
       "      <td>NaN</td>\n",
       "      <td>NaN</td>\n",
       "      <td>NaN</td>\n",
       "      <td>NaN</td>\n",
       "      <td>NaN</td>\n",
       "      <td>NaN</td>\n",
       "      <td>NaN</td>\n",
       "      <td>NaN</td>\n",
       "    </tr>\n",
       "    <tr>\n",
       "      <th>209</th>\n",
       "      <td>NaN</td>\n",
       "      <td>NaN</td>\n",
       "      <td>NaN</td>\n",
       "      <td>NaN</td>\n",
       "      <td>NaN</td>\n",
       "      <td>NaN</td>\n",
       "      <td>NaN</td>\n",
       "      <td>NaN</td>\n",
       "      <td>NaN</td>\n",
       "      <td>NaN</td>\n",
       "      <td>...</td>\n",
       "      <td>NaN</td>\n",
       "      <td>NaN</td>\n",
       "      <td>NaN</td>\n",
       "      <td>NaN</td>\n",
       "      <td>NaN</td>\n",
       "      <td>NaN</td>\n",
       "      <td>NaN</td>\n",
       "      <td>NaN</td>\n",
       "      <td>NaN</td>\n",
       "      <td>NaN</td>\n",
       "    </tr>\n",
       "  </tbody>\n",
       "</table>\n",
       "<p>210 rows × 62 columns</p>\n",
       "</div>"
      ],
      "text/plain": [
       "                         HDI Rank  \\\n",
       "0                             169   \n",
       "1                              69   \n",
       "2                              91   \n",
       "3                              36   \n",
       "4                             148   \n",
       "..                            ...   \n",
       "205                                 \n",
       "206                                 \n",
       "207                                 \n",
       "208  a: Value from UNDESA (2011).   \n",
       "209                           NaN   \n",
       "\n",
       "                                               Country  1990  Unnamed: 3  \\\n",
       "0                                          Afghanistan  50.3         NaN   \n",
       "1                                              Albania  71.8         NaN   \n",
       "2                                              Algeria  66.9         NaN   \n",
       "3                                              Andorra  76.5         NaN   \n",
       "4                                               Angola  45.3         NaN   \n",
       "..                                                 ...   ...         ...   \n",
       "205                     Small Island Developing States  65.8         NaN   \n",
       "206  Organization for Economic Co-operation and Dev...  74.8         NaN   \n",
       "207                                              World  65.4         NaN   \n",
       "208                                                NaN   NaN         NaN   \n",
       "209                                                NaN   NaN         NaN   \n",
       "\n",
       "     1991  Unnamed: 5  1992  Unnamed: 7  1993  Unnamed: 9  ...  2015  \\\n",
       "0    51.0         NaN  51.6         NaN  52.3         NaN  ...  63.4   \n",
       "1    71.8         NaN  71.8         NaN  71.9         NaN  ...  78.0   \n",
       "2    67.3         NaN  67.6         NaN  67.9         NaN  ...  76.1   \n",
       "3    76.7         NaN  76.9         NaN  77.0         NaN  ...  81.4   \n",
       "4    45.3         NaN  45.2         NaN  45.2         NaN  ...  59.4   \n",
       "..    ...         ...   ...         ...   ...         ...  ...   ...   \n",
       "205  66.0         NaN  66.3         NaN  66.5         NaN  ...  71.3   \n",
       "206  75.0         NaN  75.2         NaN  75.4         NaN  ...  80.1   \n",
       "207  65.6         NaN  65.8         NaN  66.0         NaN  ...  72.0   \n",
       "208   NaN         NaN   NaN         NaN   NaN         NaN  ...   NaN   \n",
       "209   NaN         NaN   NaN         NaN   NaN         NaN  ...   NaN   \n",
       "\n",
       "     Unnamed: 53  2016  Unnamed: 55  2017  Unnamed: 57  2018  Unnamed: 59  \\\n",
       "0            NaN  63.8          NaN  64.1          NaN  64.5          NaN   \n",
       "1            NaN  78.2          NaN  78.3          NaN  78.5          NaN   \n",
       "2            NaN  76.3          NaN  76.5          NaN  76.7          NaN   \n",
       "3            NaN  81.5          NaN  81.7          NaN  81.8          NaN   \n",
       "4            NaN  59.9          NaN  60.4          NaN  60.8          NaN   \n",
       "..           ...   ...          ...   ...          ...   ...          ...   \n",
       "205          NaN  71.5          NaN  71.7          NaN  71.8          NaN   \n",
       "206          NaN  80.2          NaN  80.3          NaN  80.4          NaN   \n",
       "207          NaN  72.2          NaN  72.4          NaN  72.6          NaN   \n",
       "208          NaN   NaN          NaN   NaN          NaN   NaN          NaN   \n",
       "209          NaN   NaN          NaN   NaN          NaN   NaN          NaN   \n",
       "\n",
       "     2019  Unnamed: 61  \n",
       "0    64.8          NaN  \n",
       "1    78.6          NaN  \n",
       "2    76.9          NaN  \n",
       "3    81.9            a  \n",
       "4    61.1          NaN  \n",
       "..    ...          ...  \n",
       "205  72.0          NaN  \n",
       "206  80.4          NaN  \n",
       "207  72.8          NaN  \n",
       "208   NaN          NaN  \n",
       "209   NaN          NaN  \n",
       "\n",
       "[210 rows x 62 columns]"
      ]
     },
     "execution_count": 7,
     "metadata": {},
     "output_type": "execute_result"
    }
   ],
   "source": [
    "df1 = pd.read_csv (\"Life expectancy at birth (years).csv\", skiprows = 6)\n",
    "df1"
   ]
  },
  {
   "cell_type": "code",
   "execution_count": 8,
   "id": "c55b4dd0-c70f-481b-a156-4e0e10f5702c",
   "metadata": {},
   "outputs": [
    {
     "name": "stderr",
     "output_type": "stream",
     "text": [
      "C:\\Users\\Kompic\\anaconda3\\lib\\site-packages\\pandas\\core\\frame.py:4308: SettingWithCopyWarning: \n",
      "A value is trying to be set on a copy of a slice from a DataFrame\n",
      "\n",
      "See the caveats in the documentation: https://pandas.pydata.org/pandas-docs/stable/user_guide/indexing.html#returning-a-view-versus-a-copy\n",
      "  return super().drop(\n"
     ]
    }
   ],
   "source": [
    "df1 = df1[[\"2019\"]]\n",
    "df1.drop(df1.tail(19).index,inplace=True)\n",
    "df1.columns = [\"Life expectancy\"]"
   ]
  },
  {
   "cell_type": "code",
   "execution_count": 9,
   "id": "c3a25371-c61a-40eb-9370-9716bf658718",
   "metadata": {},
   "outputs": [
    {
     "data": {
      "text/plain": [
       "0      64.8\n",
       "1      78.6\n",
       "2      76.9\n",
       "3      81.9\n",
       "4      61.1\n",
       "       ... \n",
       "186    72.1\n",
       "187    75.4\n",
       "188    66.1\n",
       "189    63.9\n",
       "190    61.5\n",
       "Name: Life expectancy, Length: 191, dtype: float64"
      ]
     },
     "execution_count": 9,
     "metadata": {},
     "output_type": "execute_result"
    }
   ],
   "source": [
    "x = df1[\"Life expectancy\"]\n",
    "x = x.apply(pd.to_numeric, errors='coerce')\n",
    "x"
   ]
  },
  {
   "cell_type": "code",
   "execution_count": null,
   "id": "eeb979ef-42dc-4cd1-988a-9d1210a9714f",
   "metadata": {},
   "outputs": [],
   "source": []
  },
  {
   "cell_type": "code",
   "execution_count": 10,
   "id": "f9ee897a-4a37-4b68-969a-9f61bc6a7a94",
   "metadata": {},
   "outputs": [
    {
     "data": {
      "text/plain": [
       "<AxesSubplot:xlabel='Life expectancy', ylabel='Density'>"
      ]
     },
     "execution_count": 10,
     "metadata": {},
     "output_type": "execute_result"
    },
    {
     "data": {
      "image/png": "[encoded data removed]",
      "text/plain": [
       "<Figure size 1800x720 with 1 Axes>"
      ]
     },
     "metadata": {
      "needs_background": "light"
     },
     "output_type": "display_data"
    }
   ],
   "source": [
    "fig = plt.gcf()\n",
    "fig.set_size_inches(25, 10)\n",
    "sns.kdeplot (data = x)"
   ]
  },
  {
   "cell_type": "code",
   "execution_count": null,
   "id": "fd00bfdb-0fd8-44a6-9626-cf1f17f197a2",
   "metadata": {},
   "outputs": [],
   "source": []
  },
  {
   "cell_type": "code",
   "execution_count": null,
   "id": "5a24d343-fde3-4c72-adc8-b01d5ecf1f2d",
   "metadata": {},
   "outputs": [],
   "source": []
  },
  {
   "cell_type": "code",
   "execution_count": null,
   "id": "961e0ff7-26e8-43dc-87d5-184ebacb1292",
   "metadata": {},
   "outputs": [],
   "source": []
  },
  {
   "cell_type": "code",
   "execution_count": null,
   "id": "4ab7278b-2ad9-4013-bcd6-461258df281c",
   "metadata": {},
   "outputs": [],
   "source": []
  },
  {
   "cell_type": "code",
   "execution_count": null,
   "id": "86eb3ee5-2317-4ade-8201-359d9b579b22",
   "metadata": {},
   "outputs": [],
   "source": []
  },
  {
   "cell_type": "code",
   "execution_count": 11,
   "id": "8703a03f-3bae-452f-acd1-3f3242675eb7",
   "metadata": {},
   "outputs": [
    {
     "data": {
      "text/html": [
       "<div>\n",
       "<style scoped>\n",
       "    .dataframe tbody tr th:only-of-type {\n",
       "        vertical-align: middle;\n",
       "    }\n",
       "\n",
       "    .dataframe tbody tr th {\n",
       "        vertical-align: top;\n",
       "    }\n",
       "\n",
       "    .dataframe thead th {\n",
       "        text-align: right;\n",
       "    }\n",
       "</style>\n",
       "<table border=\"1\" class=\"dataframe\">\n",
       "  <thead>\n",
       "    <tr style=\"text-align: right;\">\n",
       "      <th></th>\n",
       "      <th>HDI Rank</th>\n",
       "      <th>Country</th>\n",
       "      <th>1990</th>\n",
       "      <th>Unnamed: 3</th>\n",
       "      <th>1991</th>\n",
       "      <th>Unnamed: 5</th>\n",
       "      <th>1992</th>\n",
       "      <th>Unnamed: 7</th>\n",
       "      <th>1993</th>\n",
       "      <th>Unnamed: 9</th>\n",
       "      <th>...</th>\n",
       "      <th>2015</th>\n",
       "      <th>Unnamed: 53</th>\n",
       "      <th>2016</th>\n",
       "      <th>Unnamed: 55</th>\n",
       "      <th>2017</th>\n",
       "      <th>Unnamed: 57</th>\n",
       "      <th>2018</th>\n",
       "      <th>Unnamed: 59</th>\n",
       "      <th>2019</th>\n",
       "      <th>Unnamed: 61</th>\n",
       "    </tr>\n",
       "  </thead>\n",
       "  <tbody>\n",
       "    <tr>\n",
       "      <th>0</th>\n",
       "      <td>169</td>\n",
       "      <td>Afghanistan</td>\n",
       "      <td>1.5</td>\n",
       "      <td>NaN</td>\n",
       "      <td>1.6</td>\n",
       "      <td>NaN</td>\n",
       "      <td>1.6</td>\n",
       "      <td>NaN</td>\n",
       "      <td>1.7</td>\n",
       "      <td>NaN</td>\n",
       "      <td>...</td>\n",
       "      <td>3.6</td>\n",
       "      <td>NaN</td>\n",
       "      <td>3.6</td>\n",
       "      <td>NaN</td>\n",
       "      <td>3.8</td>\n",
       "      <td>NaN</td>\n",
       "      <td>3.9</td>\n",
       "      <td>NaN</td>\n",
       "      <td>3.9</td>\n",
       "      <td>a,b</td>\n",
       "    </tr>\n",
       "    <tr>\n",
       "      <th>1</th>\n",
       "      <td>69</td>\n",
       "      <td>Albania</td>\n",
       "      <td>7.8</td>\n",
       "      <td>NaN</td>\n",
       "      <td>7.8</td>\n",
       "      <td>NaN</td>\n",
       "      <td>7.8</td>\n",
       "      <td>NaN</td>\n",
       "      <td>7.8</td>\n",
       "      <td>NaN</td>\n",
       "      <td>...</td>\n",
       "      <td>10.0</td>\n",
       "      <td>NaN</td>\n",
       "      <td>10.0</td>\n",
       "      <td>NaN</td>\n",
       "      <td>10.1</td>\n",
       "      <td>NaN</td>\n",
       "      <td>10.1</td>\n",
       "      <td>NaN</td>\n",
       "      <td>10.1</td>\n",
       "      <td>b,c</td>\n",
       "    </tr>\n",
       "    <tr>\n",
       "      <th>2</th>\n",
       "      <td>91</td>\n",
       "      <td>Algeria</td>\n",
       "      <td>3.6</td>\n",
       "      <td>NaN</td>\n",
       "      <td>3.8</td>\n",
       "      <td>NaN</td>\n",
       "      <td>4.0</td>\n",
       "      <td>NaN</td>\n",
       "      <td>4.3</td>\n",
       "      <td>NaN</td>\n",
       "      <td>...</td>\n",
       "      <td>7.9</td>\n",
       "      <td>NaN</td>\n",
       "      <td>7.9</td>\n",
       "      <td>NaN</td>\n",
       "      <td>8.0</td>\n",
       "      <td>NaN</td>\n",
       "      <td>8.0</td>\n",
       "      <td>NaN</td>\n",
       "      <td>8.0</td>\n",
       "      <td>b,d</td>\n",
       "    </tr>\n",
       "    <tr>\n",
       "      <th>3</th>\n",
       "      <td>36</td>\n",
       "      <td>Andorra</td>\n",
       "      <td>..</td>\n",
       "      <td>NaN</td>\n",
       "      <td>..</td>\n",
       "      <td>NaN</td>\n",
       "      <td>..</td>\n",
       "      <td>NaN</td>\n",
       "      <td>..</td>\n",
       "      <td>NaN</td>\n",
       "      <td>...</td>\n",
       "      <td>10.6</td>\n",
       "      <td>NaN</td>\n",
       "      <td>10.6</td>\n",
       "      <td>NaN</td>\n",
       "      <td>10.5</td>\n",
       "      <td>NaN</td>\n",
       "      <td>10.5</td>\n",
       "      <td>NaN</td>\n",
       "      <td>10.5</td>\n",
       "      <td>b</td>\n",
       "    </tr>\n",
       "    <tr>\n",
       "      <th>4</th>\n",
       "      <td>148</td>\n",
       "      <td>Angola</td>\n",
       "      <td>..</td>\n",
       "      <td>NaN</td>\n",
       "      <td>..</td>\n",
       "      <td>NaN</td>\n",
       "      <td>..</td>\n",
       "      <td>NaN</td>\n",
       "      <td>..</td>\n",
       "      <td>NaN</td>\n",
       "      <td>...</td>\n",
       "      <td>5.0</td>\n",
       "      <td>NaN</td>\n",
       "      <td>5.1</td>\n",
       "      <td>NaN</td>\n",
       "      <td>5.1</td>\n",
       "      <td>NaN</td>\n",
       "      <td>5.2</td>\n",
       "      <td>NaN</td>\n",
       "      <td>5.2</td>\n",
       "      <td>b,c</td>\n",
       "    </tr>\n",
       "    <tr>\n",
       "      <th>...</th>\n",
       "      <td>...</td>\n",
       "      <td>...</td>\n",
       "      <td>...</td>\n",
       "      <td>...</td>\n",
       "      <td>...</td>\n",
       "      <td>...</td>\n",
       "      <td>...</td>\n",
       "      <td>...</td>\n",
       "      <td>...</td>\n",
       "      <td>...</td>\n",
       "      <td>...</td>\n",
       "      <td>...</td>\n",
       "      <td>...</td>\n",
       "      <td>...</td>\n",
       "      <td>...</td>\n",
       "      <td>...</td>\n",
       "      <td>...</td>\n",
       "      <td>...</td>\n",
       "      <td>...</td>\n",
       "      <td>...</td>\n",
       "      <td>...</td>\n",
       "    </tr>\n",
       "    <tr>\n",
       "      <th>214</th>\n",
       "      <td>h: Updated by HDRO using projections from Barr...</td>\n",
       "      <td>NaN</td>\n",
       "      <td>NaN</td>\n",
       "      <td>NaN</td>\n",
       "      <td>NaN</td>\n",
       "      <td>NaN</td>\n",
       "      <td>NaN</td>\n",
       "      <td>NaN</td>\n",
       "      <td>NaN</td>\n",
       "      <td>NaN</td>\n",
       "      <td>...</td>\n",
       "      <td>NaN</td>\n",
       "      <td>NaN</td>\n",
       "      <td>NaN</td>\n",
       "      <td>NaN</td>\n",
       "      <td>NaN</td>\n",
       "      <td>NaN</td>\n",
       "      <td>NaN</td>\n",
       "      <td>NaN</td>\n",
       "      <td>NaN</td>\n",
       "      <td>NaN</td>\n",
       "    </tr>\n",
       "    <tr>\n",
       "      <th>215</th>\n",
       "      <td>i: Updated by HDRO based on data from Eurostat...</td>\n",
       "      <td>NaN</td>\n",
       "      <td>NaN</td>\n",
       "      <td>NaN</td>\n",
       "      <td>NaN</td>\n",
       "      <td>NaN</td>\n",
       "      <td>NaN</td>\n",
       "      <td>NaN</td>\n",
       "      <td>NaN</td>\n",
       "      <td>NaN</td>\n",
       "      <td>...</td>\n",
       "      <td>NaN</td>\n",
       "      <td>NaN</td>\n",
       "      <td>NaN</td>\n",
       "      <td>NaN</td>\n",
       "      <td>NaN</td>\n",
       "      <td>NaN</td>\n",
       "      <td>NaN</td>\n",
       "      <td>NaN</td>\n",
       "      <td>NaN</td>\n",
       "      <td>NaN</td>\n",
       "    </tr>\n",
       "    <tr>\n",
       "      <th>216</th>\n",
       "      <td>j: Based on cross-country regression.</td>\n",
       "      <td>NaN</td>\n",
       "      <td>NaN</td>\n",
       "      <td>NaN</td>\n",
       "      <td>NaN</td>\n",
       "      <td>NaN</td>\n",
       "      <td>NaN</td>\n",
       "      <td>NaN</td>\n",
       "      <td>NaN</td>\n",
       "      <td>NaN</td>\n",
       "      <td>...</td>\n",
       "      <td>NaN</td>\n",
       "      <td>NaN</td>\n",
       "      <td>NaN</td>\n",
       "      <td>NaN</td>\n",
       "      <td>NaN</td>\n",
       "      <td>NaN</td>\n",
       "      <td>NaN</td>\n",
       "      <td>NaN</td>\n",
       "      <td>NaN</td>\n",
       "      <td>NaN</td>\n",
       "    </tr>\n",
       "    <tr>\n",
       "      <th>217</th>\n",
       "      <td>k: Imputed mean years of schooling for Austria.</td>\n",
       "      <td>NaN</td>\n",
       "      <td>NaN</td>\n",
       "      <td>NaN</td>\n",
       "      <td>NaN</td>\n",
       "      <td>NaN</td>\n",
       "      <td>NaN</td>\n",
       "      <td>NaN</td>\n",
       "      <td>NaN</td>\n",
       "      <td>NaN</td>\n",
       "      <td>...</td>\n",
       "      <td>NaN</td>\n",
       "      <td>NaN</td>\n",
       "      <td>NaN</td>\n",
       "      <td>NaN</td>\n",
       "      <td>NaN</td>\n",
       "      <td>NaN</td>\n",
       "      <td>NaN</td>\n",
       "      <td>NaN</td>\n",
       "      <td>NaN</td>\n",
       "      <td>NaN</td>\n",
       "    </tr>\n",
       "    <tr>\n",
       "      <th>218</th>\n",
       "      <td>NaN</td>\n",
       "      <td>NaN</td>\n",
       "      <td>NaN</td>\n",
       "      <td>NaN</td>\n",
       "      <td>NaN</td>\n",
       "      <td>NaN</td>\n",
       "      <td>NaN</td>\n",
       "      <td>NaN</td>\n",
       "      <td>NaN</td>\n",
       "      <td>NaN</td>\n",
       "      <td>...</td>\n",
       "      <td>NaN</td>\n",
       "      <td>NaN</td>\n",
       "      <td>NaN</td>\n",
       "      <td>NaN</td>\n",
       "      <td>NaN</td>\n",
       "      <td>NaN</td>\n",
       "      <td>NaN</td>\n",
       "      <td>NaN</td>\n",
       "      <td>NaN</td>\n",
       "      <td>NaN</td>\n",
       "    </tr>\n",
       "  </tbody>\n",
       "</table>\n",
       "<p>219 rows × 62 columns</p>\n",
       "</div>"
      ],
      "text/plain": [
       "                                              HDI Rank       Country 1990  \\\n",
       "0                                                  169   Afghanistan  1.5   \n",
       "1                                                   69       Albania  7.8   \n",
       "2                                                   91       Algeria  3.6   \n",
       "3                                                   36       Andorra   ..   \n",
       "4                                                  148        Angola   ..   \n",
       "..                                                 ...           ...  ...   \n",
       "214  h: Updated by HDRO using projections from Barr...           NaN  NaN   \n",
       "215  i: Updated by HDRO based on data from Eurostat...           NaN  NaN   \n",
       "216              j: Based on cross-country regression.           NaN  NaN   \n",
       "217    k: Imputed mean years of schooling for Austria.           NaN  NaN   \n",
       "218                                                NaN           NaN  NaN   \n",
       "\n",
       "     Unnamed: 3 1991  Unnamed: 5 1992  Unnamed: 7 1993  Unnamed: 9  ...  2015  \\\n",
       "0           NaN  1.6         NaN  1.6         NaN  1.7         NaN  ...   3.6   \n",
       "1           NaN  7.8         NaN  7.8         NaN  7.8         NaN  ...  10.0   \n",
       "2           NaN  3.8         NaN  4.0         NaN  4.3         NaN  ...   7.9   \n",
       "3           NaN   ..         NaN   ..         NaN   ..         NaN  ...  10.6   \n",
       "4           NaN   ..         NaN   ..         NaN   ..         NaN  ...   5.0   \n",
       "..          ...  ...         ...  ...         ...  ...         ...  ...   ...   \n",
       "214         NaN  NaN         NaN  NaN         NaN  NaN         NaN  ...   NaN   \n",
       "215         NaN  NaN         NaN  NaN         NaN  NaN         NaN  ...   NaN   \n",
       "216         NaN  NaN         NaN  NaN         NaN  NaN         NaN  ...   NaN   \n",
       "217         NaN  NaN         NaN  NaN         NaN  NaN         NaN  ...   NaN   \n",
       "218         NaN  NaN         NaN  NaN         NaN  NaN         NaN  ...   NaN   \n",
       "\n",
       "     Unnamed: 53  2016  Unnamed: 55  2017  Unnamed: 57  2018  Unnamed: 59  \\\n",
       "0            NaN   3.6          NaN   3.8          NaN   3.9          NaN   \n",
       "1            NaN  10.0          NaN  10.1          NaN  10.1          NaN   \n",
       "2            NaN   7.9          NaN   8.0          NaN   8.0          NaN   \n",
       "3            NaN  10.6          NaN  10.5          NaN  10.5          NaN   \n",
       "4            NaN   5.1          NaN   5.1          NaN   5.2          NaN   \n",
       "..           ...   ...          ...   ...          ...   ...          ...   \n",
       "214          NaN   NaN          NaN   NaN          NaN   NaN          NaN   \n",
       "215          NaN   NaN          NaN   NaN          NaN   NaN          NaN   \n",
       "216          NaN   NaN          NaN   NaN          NaN   NaN          NaN   \n",
       "217          NaN   NaN          NaN   NaN          NaN   NaN          NaN   \n",
       "218          NaN   NaN          NaN   NaN          NaN   NaN          NaN   \n",
       "\n",
       "     2019  Unnamed: 61  \n",
       "0     3.9          a,b  \n",
       "1    10.1          b,c  \n",
       "2     8.0          b,d  \n",
       "3    10.5            b  \n",
       "4     5.2          b,c  \n",
       "..    ...          ...  \n",
       "214   NaN          NaN  \n",
       "215   NaN          NaN  \n",
       "216   NaN          NaN  \n",
       "217   NaN          NaN  \n",
       "218   NaN          NaN  \n",
       "\n",
       "[219 rows x 62 columns]"
      ]
     },
     "execution_count": 11,
     "metadata": {},
     "output_type": "execute_result"
    }
   ],
   "source": [
    "df2 = pd.read_csv (\"Mean years of schooling (years).csv\", skiprows = 6)\n",
    "df2"
   ]
  },
  {
   "cell_type": "code",
   "execution_count": 12,
   "id": "08841b87-e535-4f64-b6d5-d8da883218c9",
   "metadata": {},
   "outputs": [
    {
     "name": "stderr",
     "output_type": "stream",
     "text": [
      "C:\\Users\\Kompic\\anaconda3\\lib\\site-packages\\pandas\\core\\frame.py:4308: SettingWithCopyWarning: \n",
      "A value is trying to be set on a copy of a slice from a DataFrame\n",
      "\n",
      "See the caveats in the documentation: https://pandas.pydata.org/pandas-docs/stable/user_guide/indexing.html#returning-a-view-versus-a-copy\n",
      "  return super().drop(\n"
     ]
    }
   ],
   "source": [
    "df2 = df2[[\"2019\"]]\n",
    "df2.drop(df2.tail(29).index,inplace=True)\n",
    "df2.columns = [\"Mean schooling years\"]"
   ]
  },
  {
   "cell_type": "code",
   "execution_count": 13,
   "id": "8822c43f-1850-4ac4-a861-62cb6846b75a",
   "metadata": {},
   "outputs": [
    {
     "data": {
      "text/plain": [
       "0       3.9\n",
       "1      10.1\n",
       "2       8.0\n",
       "3      10.5\n",
       "4       5.2\n",
       "       ... \n",
       "185    10.3\n",
       "186     8.3\n",
       "187     3.2\n",
       "188     7.2\n",
       "189     8.5\n",
       "Name: Mean schooling years, Length: 190, dtype: float64"
      ]
     },
     "execution_count": 13,
     "metadata": {},
     "output_type": "execute_result"
    }
   ],
   "source": [
    "x = df2[\"Mean schooling years\"]\n",
    "x = x.apply(pd.to_numeric, errors='coerce')\n",
    "x"
   ]
  },
  {
   "cell_type": "code",
   "execution_count": 14,
   "id": "996e53d5-e2b3-41f9-afe0-f9a9eddba751",
   "metadata": {},
   "outputs": [
    {
     "data": {
      "text/plain": [
       "(array([ 3.,  5., 11.,  8., 13., 14., 14., 12., 16., 15., 21., 17., 19.,\n",
       "        17.,  4.]),\n",
       " array([ 1.6 ,  2.44,  3.28,  4.12,  4.96,  5.8 ,  6.64,  7.48,  8.32,\n",
       "         9.16, 10.  , 10.84, 11.68, 12.52, 13.36, 14.2 ]),\n",
       " <BarContainer object of 15 artists>)"
      ]
     },
     "execution_count": 14,
     "metadata": {},
     "output_type": "execute_result"
    },
    {
     "data": {
      "image/png": "[encoded data removed]",
      "text/plain": [
       "<Figure size 1800x720 with 1 Axes>"
      ]
     },
     "metadata": {
      "needs_background": "light"
     },
     "output_type": "display_data"
    }
   ],
   "source": [
    "fig = plt.gcf()\n",
    "fig.set_size_inches(25, 10)\n",
    "\n",
    "plt.hist(x, bins = 15)"
   ]
  },
  {
   "cell_type": "code",
   "execution_count": 15,
   "id": "3362ee85-c7dd-4d52-84e7-df65fb0a951d",
   "metadata": {},
   "outputs": [
    {
     "data": {
      "text/plain": [
       "<AxesSubplot:xlabel='Mean schooling years', ylabel='Density'>"
      ]
     },
     "execution_count": 15,
     "metadata": {},
     "output_type": "execute_result"
    },
    {
     "data": {
      "image/png": "[encoded data removed]",
      "text/plain": [
       "<Figure size 1800x720 with 1 Axes>"
      ]
     },
     "metadata": {
      "needs_background": "light"
     },
     "output_type": "display_data"
    }
   ],
   "source": [
    "fig = plt.gcf()\n",
    "fig.set_size_inches(25, 10)\n",
    "sns.kdeplot (data = x)"
   ]
  },
  {
   "cell_type": "code",
   "execution_count": null,
   "id": "1220a323-c4ff-481d-aff9-1c997a2282cc",
   "metadata": {},
   "outputs": [],
   "source": []
  },
  {
   "cell_type": "code",
   "execution_count": null,
   "id": "7dd7c4de-36da-4567-b579-37a1bf6eb9c1",
   "metadata": {},
   "outputs": [],
   "source": []
  },
  {
   "cell_type": "code",
   "execution_count": null,
   "id": "0c756dbb-2ffa-45c3-8e8b-0b4fc878d3f2",
   "metadata": {},
   "outputs": [],
   "source": []
  },
  {
   "cell_type": "code",
   "execution_count": 16,
   "id": "b30b668a-be93-4528-a816-16c6b297f1db",
   "metadata": {},
   "outputs": [
    {
     "data": {
      "text/html": [
       "<div>\n",
       "<style scoped>\n",
       "    .dataframe tbody tr th:only-of-type {\n",
       "        vertical-align: middle;\n",
       "    }\n",
       "\n",
       "    .dataframe tbody tr th {\n",
       "        vertical-align: top;\n",
       "    }\n",
       "\n",
       "    .dataframe thead th {\n",
       "        text-align: right;\n",
       "    }\n",
       "</style>\n",
       "<table border=\"1\" class=\"dataframe\">\n",
       "  <thead>\n",
       "    <tr style=\"text-align: right;\">\n",
       "      <th></th>\n",
       "      <th>HDI Rank</th>\n",
       "      <th>Country</th>\n",
       "      <th>1990</th>\n",
       "      <th>Unnamed: 3</th>\n",
       "      <th>1991</th>\n",
       "      <th>Unnamed: 5</th>\n",
       "      <th>1992</th>\n",
       "      <th>Unnamed: 7</th>\n",
       "      <th>1993</th>\n",
       "      <th>Unnamed: 9</th>\n",
       "      <th>...</th>\n",
       "      <th>2015</th>\n",
       "      <th>Unnamed: 53</th>\n",
       "      <th>2016</th>\n",
       "      <th>Unnamed: 55</th>\n",
       "      <th>2017</th>\n",
       "      <th>Unnamed: 57</th>\n",
       "      <th>2018</th>\n",
       "      <th>Unnamed: 59</th>\n",
       "      <th>2019</th>\n",
       "      <th>Unnamed: 61</th>\n",
       "    </tr>\n",
       "  </thead>\n",
       "  <tbody>\n",
       "    <tr>\n",
       "      <th>0</th>\n",
       "      <td>169</td>\n",
       "      <td>Afghanistan</td>\n",
       "      <td>2478</td>\n",
       "      <td>NaN</td>\n",
       "      <td>2060</td>\n",
       "      <td>NaN</td>\n",
       "      <td>1922</td>\n",
       "      <td>NaN</td>\n",
       "      <td>1321</td>\n",
       "      <td>NaN</td>\n",
       "      <td>...</td>\n",
       "      <td>2128</td>\n",
       "      <td>NaN</td>\n",
       "      <td>2135</td>\n",
       "      <td>NaN</td>\n",
       "      <td>2230</td>\n",
       "      <td>NaN</td>\n",
       "      <td>2217</td>\n",
       "      <td>NaN</td>\n",
       "      <td>2229</td>\n",
       "      <td>NaN</td>\n",
       "    </tr>\n",
       "    <tr>\n",
       "      <th>1</th>\n",
       "      <td>69</td>\n",
       "      <td>Albania</td>\n",
       "      <td>4938</td>\n",
       "      <td>NaN</td>\n",
       "      <td>3496</td>\n",
       "      <td>NaN</td>\n",
       "      <td>3208</td>\n",
       "      <td>NaN</td>\n",
       "      <td>3685</td>\n",
       "      <td>NaN</td>\n",
       "      <td>...</td>\n",
       "      <td>12273</td>\n",
       "      <td>NaN</td>\n",
       "      <td>12753</td>\n",
       "      <td>NaN</td>\n",
       "      <td>13071</td>\n",
       "      <td>NaN</td>\n",
       "      <td>13637</td>\n",
       "      <td>NaN</td>\n",
       "      <td>13998</td>\n",
       "      <td>NaN</td>\n",
       "    </tr>\n",
       "    <tr>\n",
       "      <th>2</th>\n",
       "      <td>91</td>\n",
       "      <td>Algeria</td>\n",
       "      <td>8597</td>\n",
       "      <td>NaN</td>\n",
       "      <td>8206</td>\n",
       "      <td>NaN</td>\n",
       "      <td>8162</td>\n",
       "      <td>NaN</td>\n",
       "      <td>7830</td>\n",
       "      <td>NaN</td>\n",
       "      <td>...</td>\n",
       "      <td>11151</td>\n",
       "      <td>NaN</td>\n",
       "      <td>11554</td>\n",
       "      <td>NaN</td>\n",
       "      <td>11372</td>\n",
       "      <td>NaN</td>\n",
       "      <td>11302</td>\n",
       "      <td>NaN</td>\n",
       "      <td>11174</td>\n",
       "      <td>NaN</td>\n",
       "    </tr>\n",
       "    <tr>\n",
       "      <th>3</th>\n",
       "      <td>36</td>\n",
       "      <td>Andorra</td>\n",
       "      <td>45393</td>\n",
       "      <td>NaN</td>\n",
       "      <td>44773</td>\n",
       "      <td>NaN</td>\n",
       "      <td>43488</td>\n",
       "      <td>NaN</td>\n",
       "      <td>41569</td>\n",
       "      <td>NaN</td>\n",
       "      <td>...</td>\n",
       "      <td>51780</td>\n",
       "      <td>NaN</td>\n",
       "      <td>53245</td>\n",
       "      <td>NaN</td>\n",
       "      <td>54371</td>\n",
       "      <td>NaN</td>\n",
       "      <td>55254</td>\n",
       "      <td>NaN</td>\n",
       "      <td>56000</td>\n",
       "      <td>a</td>\n",
       "    </tr>\n",
       "    <tr>\n",
       "      <th>4</th>\n",
       "      <td>148</td>\n",
       "      <td>Angola</td>\n",
       "      <td>4823</td>\n",
       "      <td>NaN</td>\n",
       "      <td>5380</td>\n",
       "      <td>NaN</td>\n",
       "      <td>2064</td>\n",
       "      <td>NaN</td>\n",
       "      <td>2025</td>\n",
       "      <td>NaN</td>\n",
       "      <td>...</td>\n",
       "      <td>7652</td>\n",
       "      <td>NaN</td>\n",
       "      <td>7189</td>\n",
       "      <td>NaN</td>\n",
       "      <td>6862</td>\n",
       "      <td>NaN</td>\n",
       "      <td>6361</td>\n",
       "      <td>NaN</td>\n",
       "      <td>6104</td>\n",
       "      <td>NaN</td>\n",
       "    </tr>\n",
       "    <tr>\n",
       "      <th>...</th>\n",
       "      <td>...</td>\n",
       "      <td>...</td>\n",
       "      <td>...</td>\n",
       "      <td>...</td>\n",
       "      <td>...</td>\n",
       "      <td>...</td>\n",
       "      <td>...</td>\n",
       "      <td>...</td>\n",
       "      <td>...</td>\n",
       "      <td>...</td>\n",
       "      <td>...</td>\n",
       "      <td>...</td>\n",
       "      <td>...</td>\n",
       "      <td>...</td>\n",
       "      <td>...</td>\n",
       "      <td>...</td>\n",
       "      <td>...</td>\n",
       "      <td>...</td>\n",
       "      <td>...</td>\n",
       "      <td>...</td>\n",
       "      <td>...</td>\n",
       "    </tr>\n",
       "    <tr>\n",
       "      <th>211</th>\n",
       "      <td>d: Estimated using the purchasing power parity...</td>\n",
       "      <td>NaN</td>\n",
       "      <td>NaN</td>\n",
       "      <td>NaN</td>\n",
       "      <td>NaN</td>\n",
       "      <td>NaN</td>\n",
       "      <td>NaN</td>\n",
       "      <td>NaN</td>\n",
       "      <td>NaN</td>\n",
       "      <td>NaN</td>\n",
       "      <td>...</td>\n",
       "      <td>NaN</td>\n",
       "      <td>NaN</td>\n",
       "      <td>NaN</td>\n",
       "      <td>NaN</td>\n",
       "      <td>NaN</td>\n",
       "      <td>NaN</td>\n",
       "      <td>NaN</td>\n",
       "      <td>NaN</td>\n",
       "      <td>NaN</td>\n",
       "      <td>NaN</td>\n",
       "    </tr>\n",
       "    <tr>\n",
       "      <th>212</th>\n",
       "      <td>e: In calculating the HDI value, GNI per capit...</td>\n",
       "      <td>NaN</td>\n",
       "      <td>NaN</td>\n",
       "      <td>NaN</td>\n",
       "      <td>NaN</td>\n",
       "      <td>NaN</td>\n",
       "      <td>NaN</td>\n",
       "      <td>NaN</td>\n",
       "      <td>NaN</td>\n",
       "      <td>NaN</td>\n",
       "      <td>...</td>\n",
       "      <td>NaN</td>\n",
       "      <td>NaN</td>\n",
       "      <td>NaN</td>\n",
       "      <td>NaN</td>\n",
       "      <td>NaN</td>\n",
       "      <td>NaN</td>\n",
       "      <td>NaN</td>\n",
       "      <td>NaN</td>\n",
       "      <td>NaN</td>\n",
       "      <td>NaN</td>\n",
       "    </tr>\n",
       "    <tr>\n",
       "      <th>213</th>\n",
       "      <td>f: HDRO estimate based on data from World Bank...</td>\n",
       "      <td>NaN</td>\n",
       "      <td>NaN</td>\n",
       "      <td>NaN</td>\n",
       "      <td>NaN</td>\n",
       "      <td>NaN</td>\n",
       "      <td>NaN</td>\n",
       "      <td>NaN</td>\n",
       "      <td>NaN</td>\n",
       "      <td>NaN</td>\n",
       "      <td>...</td>\n",
       "      <td>NaN</td>\n",
       "      <td>NaN</td>\n",
       "      <td>NaN</td>\n",
       "      <td>NaN</td>\n",
       "      <td>NaN</td>\n",
       "      <td>NaN</td>\n",
       "      <td>NaN</td>\n",
       "      <td>NaN</td>\n",
       "      <td>NaN</td>\n",
       "      <td>NaN</td>\n",
       "    </tr>\n",
       "    <tr>\n",
       "      <th>214</th>\n",
       "      <td>g: HDRO estimate based on data from World Bank...</td>\n",
       "      <td>NaN</td>\n",
       "      <td>NaN</td>\n",
       "      <td>NaN</td>\n",
       "      <td>NaN</td>\n",
       "      <td>NaN</td>\n",
       "      <td>NaN</td>\n",
       "      <td>NaN</td>\n",
       "      <td>NaN</td>\n",
       "      <td>NaN</td>\n",
       "      <td>...</td>\n",
       "      <td>NaN</td>\n",
       "      <td>NaN</td>\n",
       "      <td>NaN</td>\n",
       "      <td>NaN</td>\n",
       "      <td>NaN</td>\n",
       "      <td>NaN</td>\n",
       "      <td>NaN</td>\n",
       "      <td>NaN</td>\n",
       "      <td>NaN</td>\n",
       "      <td>NaN</td>\n",
       "    </tr>\n",
       "    <tr>\n",
       "      <th>215</th>\n",
       "      <td>NaN</td>\n",
       "      <td>NaN</td>\n",
       "      <td>NaN</td>\n",
       "      <td>NaN</td>\n",
       "      <td>NaN</td>\n",
       "      <td>NaN</td>\n",
       "      <td>NaN</td>\n",
       "      <td>NaN</td>\n",
       "      <td>NaN</td>\n",
       "      <td>NaN</td>\n",
       "      <td>...</td>\n",
       "      <td>NaN</td>\n",
       "      <td>NaN</td>\n",
       "      <td>NaN</td>\n",
       "      <td>NaN</td>\n",
       "      <td>NaN</td>\n",
       "      <td>NaN</td>\n",
       "      <td>NaN</td>\n",
       "      <td>NaN</td>\n",
       "      <td>NaN</td>\n",
       "      <td>NaN</td>\n",
       "    </tr>\n",
       "  </tbody>\n",
       "</table>\n",
       "<p>216 rows × 62 columns</p>\n",
       "</div>"
      ],
      "text/plain": [
       "                                              HDI Rank       Country   1990  \\\n",
       "0                                                  169   Afghanistan   2478   \n",
       "1                                                   69       Albania   4938   \n",
       "2                                                   91       Algeria   8597   \n",
       "3                                                   36       Andorra  45393   \n",
       "4                                                  148        Angola   4823   \n",
       "..                                                 ...           ...    ...   \n",
       "211  d: Estimated using the purchasing power parity...           NaN    NaN   \n",
       "212  e: In calculating the HDI value, GNI per capit...           NaN    NaN   \n",
       "213  f: HDRO estimate based on data from World Bank...           NaN    NaN   \n",
       "214  g: HDRO estimate based on data from World Bank...           NaN    NaN   \n",
       "215                                                NaN           NaN    NaN   \n",
       "\n",
       "     Unnamed: 3   1991  Unnamed: 5   1992  Unnamed: 7   1993  Unnamed: 9  ...  \\\n",
       "0           NaN   2060         NaN   1922         NaN   1321         NaN  ...   \n",
       "1           NaN   3496         NaN   3208         NaN   3685         NaN  ...   \n",
       "2           NaN   8206         NaN   8162         NaN   7830         NaN  ...   \n",
       "3           NaN  44773         NaN  43488         NaN  41569         NaN  ...   \n",
       "4           NaN   5380         NaN   2064         NaN   2025         NaN  ...   \n",
       "..          ...    ...         ...    ...         ...    ...         ...  ...   \n",
       "211         NaN    NaN         NaN    NaN         NaN    NaN         NaN  ...   \n",
       "212         NaN    NaN         NaN    NaN         NaN    NaN         NaN  ...   \n",
       "213         NaN    NaN         NaN    NaN         NaN    NaN         NaN  ...   \n",
       "214         NaN    NaN         NaN    NaN         NaN    NaN         NaN  ...   \n",
       "215         NaN    NaN         NaN    NaN         NaN    NaN         NaN  ...   \n",
       "\n",
       "      2015  Unnamed: 53   2016  Unnamed: 55   2017  Unnamed: 57   2018  \\\n",
       "0     2128          NaN   2135          NaN   2230          NaN   2217   \n",
       "1    12273          NaN  12753          NaN  13071          NaN  13637   \n",
       "2    11151          NaN  11554          NaN  11372          NaN  11302   \n",
       "3    51780          NaN  53245          NaN  54371          NaN  55254   \n",
       "4     7652          NaN   7189          NaN   6862          NaN   6361   \n",
       "..     ...          ...    ...          ...    ...          ...    ...   \n",
       "211    NaN          NaN    NaN          NaN    NaN          NaN    NaN   \n",
       "212    NaN          NaN    NaN          NaN    NaN          NaN    NaN   \n",
       "213    NaN          NaN    NaN          NaN    NaN          NaN    NaN   \n",
       "214    NaN          NaN    NaN          NaN    NaN          NaN    NaN   \n",
       "215    NaN          NaN    NaN          NaN    NaN          NaN    NaN   \n",
       "\n",
       "     Unnamed: 59   2019  Unnamed: 61  \n",
       "0            NaN   2229          NaN  \n",
       "1            NaN  13998          NaN  \n",
       "2            NaN  11174          NaN  \n",
       "3            NaN  56000            a  \n",
       "4            NaN   6104          NaN  \n",
       "..           ...    ...          ...  \n",
       "211          NaN    NaN          NaN  \n",
       "212          NaN    NaN          NaN  \n",
       "213          NaN    NaN          NaN  \n",
       "214          NaN    NaN          NaN  \n",
       "215          NaN    NaN          NaN  \n",
       "\n",
       "[216 rows x 62 columns]"
      ]
     },
     "execution_count": 16,
     "metadata": {},
     "output_type": "execute_result"
    }
   ],
   "source": [
    "df3 = pd.read_csv (\"Gross national income (GNI) per capita (constant 2017 PPP$).csv\", skiprows = 6)\n",
    "df3"
   ]
  },
  {
   "cell_type": "code",
   "execution_count": 17,
   "id": "680add0c-3bce-44b5-bb73-adc9a1ed296a",
   "metadata": {},
   "outputs": [
    {
     "name": "stderr",
     "output_type": "stream",
     "text": [
      "C:\\Users\\Kompic\\anaconda3\\lib\\site-packages\\pandas\\core\\frame.py:4308: SettingWithCopyWarning: \n",
      "A value is trying to be set on a copy of a slice from a DataFrame\n",
      "\n",
      "See the caveats in the documentation: https://pandas.pydata.org/pandas-docs/stable/user_guide/indexing.html#returning-a-view-versus-a-copy\n",
      "  return super().drop(\n"
     ]
    }
   ],
   "source": [
    "df3 = df3[[\"2019\"]]\n",
    "df3.drop(df3.tail(25).index,inplace=True)\n",
    "df3.columns = [\"GDI\"]"
   ]
  },
  {
   "cell_type": "code",
   "execution_count": 18,
   "id": "1a54e7f5-28f1-4070-89bf-8988392a4dc9",
   "metadata": {},
   "outputs": [
    {
     "data": {
      "text/plain": [
       "0       2229\n",
       "1      13998\n",
       "2      11174\n",
       "3      56000\n",
       "4       6104\n",
       "       ...  \n",
       "186     7045\n",
       "187     7433\n",
       "188     1594\n",
       "189     3326\n",
       "190     2666\n",
       "Name: GDI, Length: 191, dtype: int64"
      ]
     },
     "execution_count": 18,
     "metadata": {},
     "output_type": "execute_result"
    }
   ],
   "source": [
    "x = df3[\"GDI\"]\n",
    "x = x.apply(pd.to_numeric, errors='coerce')\n",
    "x"
   ]
  },
  {
   "cell_type": "code",
   "execution_count": 19,
   "id": "248bba70-ed56-4e56-ae4b-1a5391d15fa0",
   "metadata": {},
   "outputs": [
    {
     "data": {
      "text/plain": [
       "(array([78., 45., 16., 13., 13.,  7.,  8.,  7.,  1.,  0.,  2.,  0.,  0.,\n",
       "         0.,  1.]),\n",
       " array([   754. ,   9439.2,  18124.4,  26809.6,  35494.8,  44180. ,\n",
       "         52865.2,  61550.4,  70235.6,  78920.8,  87606. ,  96291.2,\n",
       "        104976.4, 113661.6, 122346.8, 131032. ]),\n",
       " <BarContainer object of 15 artists>)"
      ]
     },
     "execution_count": 19,
     "metadata": {},
     "output_type": "execute_result"
    },
    {
     "data": {
      "image/png": "[encoded data removed]",
      "text/plain": [
       "<Figure size 1800x720 with 1 Axes>"
      ]
     },
     "metadata": {
      "needs_background": "light"
     },
     "output_type": "display_data"
    }
   ],
   "source": [
    "fig = plt.gcf()\n",
    "fig.set_size_inches(25, 10)\n",
    "\n",
    "plt.hist(x, bins = 15)"
   ]
  },
  {
   "cell_type": "code",
   "execution_count": 20,
   "id": "4588da00-0e72-4567-b123-e0c0b1dbcc4e",
   "metadata": {},
   "outputs": [
    {
     "data": {
      "text/plain": [
       "<AxesSubplot:xlabel='GDI', ylabel='Density'>"
      ]
     },
     "execution_count": 20,
     "metadata": {},
     "output_type": "execute_result"
    },
    {
     "data": {
      "image/png": "[encoded data removed]",
      "text/plain": [
       "<Figure size 1800x720 with 1 Axes>"
      ]
     },
     "metadata": {
      "needs_background": "light"
     },
     "output_type": "display_data"
    }
   ],
   "source": [
    "fig = plt.gcf()\n",
    "fig.set_size_inches(25, 10)\n",
    "sns.kdeplot (data = x)"
   ]
  },
  {
   "cell_type": "code",
   "execution_count": 21,
   "id": "f7e5b0cf-fc6e-4ed5-a95e-55d20b9806bd",
   "metadata": {},
   "outputs": [
    {
     "data": {
      "text/plain": [
       "count       191.000000\n",
       "mean      20125.151832\n",
       "std       21143.530535\n",
       "min         754.000000\n",
       "25%        4935.500000\n",
       "50%       12707.000000\n",
       "75%       28783.500000\n",
       "max      131032.000000\n",
       "Name: GDI, dtype: float64"
      ]
     },
     "execution_count": 21,
     "metadata": {},
     "output_type": "execute_result"
    }
   ],
   "source": [
    "x.describe()"
   ]
  },
  {
   "cell_type": "code",
   "execution_count": 22,
   "id": "96a6ad14-3a09-4bfb-8a6e-6ad73d4646ca",
   "metadata": {},
   "outputs": [
    {
     "data": {
      "text/plain": [
       "{'whiskers': [<matplotlib.lines.Line2D at 0x1743efd6d30>,\n",
       "  <matplotlib.lines.Line2D at 0x1743efe50d0>],\n",
       " 'caps': [<matplotlib.lines.Line2D at 0x1743efe5430>,\n",
       "  <matplotlib.lines.Line2D at 0x1743efe5790>],\n",
       " 'boxes': [<matplotlib.lines.Line2D at 0x1743efd69a0>],\n",
       " 'medians': [<matplotlib.lines.Line2D at 0x1743efe5af0>],\n",
       " 'fliers': [<matplotlib.lines.Line2D at 0x1743efe5e50>],\n",
       " 'means': []}"
      ]
     },
     "execution_count": 22,
     "metadata": {},
     "output_type": "execute_result"
    },
    {
     "data": {
      "image/png": "[encoded data removed]",
      "text/plain": [
       "<Figure size 1800x720 with 1 Axes>"
      ]
     },
     "metadata": {
      "needs_background": "light"
     },
     "output_type": "display_data"
    }
   ],
   "source": [
    "fig = plt.gcf()\n",
    "fig.set_size_inches(25, 10)\n",
    "plt.boxplot (x)"
   ]
  },
  {
   "cell_type": "code",
   "execution_count": 23,
   "id": "21d592fe-a9ac-4911-a188-58fffc5bf71c",
   "metadata": {},
   "outputs": [
    {
     "data": {
      "text/html": [
       "<div>\n",
       "<style scoped>\n",
       "    .dataframe tbody tr th:only-of-type {\n",
       "        vertical-align: middle;\n",
       "    }\n",
       "\n",
       "    .dataframe tbody tr th {\n",
       "        vertical-align: top;\n",
       "    }\n",
       "\n",
       "    .dataframe thead th {\n",
       "        text-align: right;\n",
       "    }\n",
       "</style>\n",
       "<table border=\"1\" class=\"dataframe\">\n",
       "  <thead>\n",
       "    <tr style=\"text-align: right;\">\n",
       "      <th></th>\n",
       "      <th>Country</th>\n",
       "      <th>HDI</th>\n",
       "    </tr>\n",
       "  </thead>\n",
       "  <tbody>\n",
       "    <tr>\n",
       "      <th>0</th>\n",
       "      <td>Afghanistan</td>\n",
       "      <td>0.511</td>\n",
       "    </tr>\n",
       "    <tr>\n",
       "      <th>1</th>\n",
       "      <td>Albania</td>\n",
       "      <td>0.795</td>\n",
       "    </tr>\n",
       "    <tr>\n",
       "      <th>2</th>\n",
       "      <td>Algeria</td>\n",
       "      <td>0.748</td>\n",
       "    </tr>\n",
       "    <tr>\n",
       "      <th>3</th>\n",
       "      <td>Andorra</td>\n",
       "      <td>0.868</td>\n",
       "    </tr>\n",
       "    <tr>\n",
       "      <th>4</th>\n",
       "      <td>Angola</td>\n",
       "      <td>0.581</td>\n",
       "    </tr>\n",
       "    <tr>\n",
       "      <th>...</th>\n",
       "      <td>...</td>\n",
       "      <td>...</td>\n",
       "    </tr>\n",
       "    <tr>\n",
       "      <th>184</th>\n",
       "      <td>Venezuela (Bolivarian Republic of)</td>\n",
       "      <td>0.711</td>\n",
       "    </tr>\n",
       "    <tr>\n",
       "      <th>185</th>\n",
       "      <td>Viet Nam</td>\n",
       "      <td>0.704</td>\n",
       "    </tr>\n",
       "    <tr>\n",
       "      <th>186</th>\n",
       "      <td>Yemen</td>\n",
       "      <td>0.470</td>\n",
       "    </tr>\n",
       "    <tr>\n",
       "      <th>187</th>\n",
       "      <td>Zambia</td>\n",
       "      <td>0.584</td>\n",
       "    </tr>\n",
       "    <tr>\n",
       "      <th>188</th>\n",
       "      <td>Zimbabwe</td>\n",
       "      <td>0.571</td>\n",
       "    </tr>\n",
       "  </tbody>\n",
       "</table>\n",
       "<p>189 rows × 2 columns</p>\n",
       "</div>"
      ],
      "text/plain": [
       "                                 Country    HDI\n",
       "0                            Afghanistan  0.511\n",
       "1                                Albania  0.795\n",
       "2                                Algeria  0.748\n",
       "3                                Andorra  0.868\n",
       "4                                 Angola  0.581\n",
       "..                                   ...    ...\n",
       "184   Venezuela (Bolivarian Republic of)  0.711\n",
       "185                             Viet Nam  0.704\n",
       "186                                Yemen  0.470\n",
       "187                               Zambia  0.584\n",
       "188                             Zimbabwe  0.571\n",
       "\n",
       "[189 rows x 2 columns]"
      ]
     },
     "execution_count": 23,
     "metadata": {},
     "output_type": "execute_result"
    }
   ],
   "source": [
    "df"
   ]
  },
  {
   "cell_type": "code",
   "execution_count": null,
   "id": "2d9727ff-cffc-459e-adc3-32b7fdf3e2cd",
   "metadata": {},
   "outputs": [],
   "source": []
  },
  {
   "cell_type": "code",
   "execution_count": null,
   "id": "495b2070-3911-418c-b888-15fc030728a0",
   "metadata": {},
   "outputs": [],
   "source": []
  },
  {
   "cell_type": "code",
   "execution_count": null,
   "id": "5efa3677-30a8-49e9-9983-87a748b0b4d7",
   "metadata": {},
   "outputs": [],
   "source": []
  },
  {
   "cell_type": "code",
   "execution_count": 24,
   "id": "811b4013-fe84-4393-861b-b9eee24434d0",
   "metadata": {},
   "outputs": [],
   "source": [
    "df = df.join(df1[[\"Life expectancy\"]])\n",
    "df = df.join(df2[[\"Mean schooling years\"]])\n",
    "df = df.join(df3[[\"GDI\"]])"
   ]
  },
  {
   "cell_type": "code",
   "execution_count": 25,
   "id": "07c4b4ef-809e-4d07-a546-383db29feacc",
   "metadata": {},
   "outputs": [],
   "source": [
    "df.to_csv (\"TEST.csv\", index = False)"
   ]
  },
  {
   "cell_type": "code",
   "execution_count": 26,
   "id": "6121befb-d541-48f8-9255-76530fc59283",
   "metadata": {},
   "outputs": [],
   "source": [
    "table = pd.read_csv (\"TEST.csv\", index_col = \"Country\")"
   ]
  },
  {
   "cell_type": "code",
   "execution_count": 27,
   "id": "1e1d2402-4e45-4ca8-b871-3cb3f6aa7631",
   "metadata": {},
   "outputs": [
    {
     "data": {
      "text/html": [
       "<div>\n",
       "<style scoped>\n",
       "    .dataframe tbody tr th:only-of-type {\n",
       "        vertical-align: middle;\n",
       "    }\n",
       "\n",
       "    .dataframe tbody tr th {\n",
       "        vertical-align: top;\n",
       "    }\n",
       "\n",
       "    .dataframe thead th {\n",
       "        text-align: right;\n",
       "    }\n",
       "</style>\n",
       "<table border=\"1\" class=\"dataframe\">\n",
       "  <thead>\n",
       "    <tr style=\"text-align: right;\">\n",
       "      <th></th>\n",
       "      <th>HDI</th>\n",
       "      <th>Life expectancy</th>\n",
       "      <th>Mean schooling years</th>\n",
       "      <th>GDI</th>\n",
       "    </tr>\n",
       "    <tr>\n",
       "      <th>Country</th>\n",
       "      <th></th>\n",
       "      <th></th>\n",
       "      <th></th>\n",
       "      <th></th>\n",
       "    </tr>\n",
       "  </thead>\n",
       "  <tbody>\n",
       "    <tr>\n",
       "      <th>Afghanistan</th>\n",
       "      <td>0.511</td>\n",
       "      <td>64.8</td>\n",
       "      <td>3.9</td>\n",
       "      <td>2229</td>\n",
       "    </tr>\n",
       "    <tr>\n",
       "      <th>Albania</th>\n",
       "      <td>0.795</td>\n",
       "      <td>78.6</td>\n",
       "      <td>10.1</td>\n",
       "      <td>13998</td>\n",
       "    </tr>\n",
       "    <tr>\n",
       "      <th>Algeria</th>\n",
       "      <td>0.748</td>\n",
       "      <td>76.9</td>\n",
       "      <td>8.0</td>\n",
       "      <td>11174</td>\n",
       "    </tr>\n",
       "    <tr>\n",
       "      <th>Andorra</th>\n",
       "      <td>0.868</td>\n",
       "      <td>81.9</td>\n",
       "      <td>10.5</td>\n",
       "      <td>56000</td>\n",
       "    </tr>\n",
       "    <tr>\n",
       "      <th>Angola</th>\n",
       "      <td>0.581</td>\n",
       "      <td>61.1</td>\n",
       "      <td>5.2</td>\n",
       "      <td>6104</td>\n",
       "    </tr>\n",
       "    <tr>\n",
       "      <th>...</th>\n",
       "      <td>...</td>\n",
       "      <td>...</td>\n",
       "      <td>...</td>\n",
       "      <td>...</td>\n",
       "    </tr>\n",
       "    <tr>\n",
       "      <th>Venezuela (Bolivarian Republic of)</th>\n",
       "      <td>0.711</td>\n",
       "      <td>71.7</td>\n",
       "      <td>7.1</td>\n",
       "      <td>7142</td>\n",
       "    </tr>\n",
       "    <tr>\n",
       "      <th>Viet Nam</th>\n",
       "      <td>0.704</td>\n",
       "      <td>70.5</td>\n",
       "      <td>10.3</td>\n",
       "      <td>3105</td>\n",
       "    </tr>\n",
       "    <tr>\n",
       "      <th>Yemen</th>\n",
       "      <td>0.470</td>\n",
       "      <td>72.1</td>\n",
       "      <td>8.3</td>\n",
       "      <td>7045</td>\n",
       "    </tr>\n",
       "    <tr>\n",
       "      <th>Zambia</th>\n",
       "      <td>0.584</td>\n",
       "      <td>75.4</td>\n",
       "      <td>3.2</td>\n",
       "      <td>7433</td>\n",
       "    </tr>\n",
       "    <tr>\n",
       "      <th>Zimbabwe</th>\n",
       "      <td>0.571</td>\n",
       "      <td>66.1</td>\n",
       "      <td>7.2</td>\n",
       "      <td>1594</td>\n",
       "    </tr>\n",
       "  </tbody>\n",
       "</table>\n",
       "<p>189 rows × 4 columns</p>\n",
       "</div>"
      ],
      "text/plain": [
       "                                       HDI  Life expectancy  \\\n",
       "Country                                                       \n",
       " Afghanistan                         0.511             64.8   \n",
       " Albania                             0.795             78.6   \n",
       " Algeria                             0.748             76.9   \n",
       " Andorra                             0.868             81.9   \n",
       " Angola                              0.581             61.1   \n",
       "...                                    ...              ...   \n",
       " Venezuela (Bolivarian Republic of)  0.711             71.7   \n",
       " Viet Nam                            0.704             70.5   \n",
       " Yemen                               0.470             72.1   \n",
       " Zambia                              0.584             75.4   \n",
       " Zimbabwe                            0.571             66.1   \n",
       "\n",
       "                                    Mean schooling years    GDI  \n",
       "Country                                                          \n",
       " Afghanistan                                         3.9   2229  \n",
       " Albania                                            10.1  13998  \n",
       " Algeria                                             8.0  11174  \n",
       " Andorra                                            10.5  56000  \n",
       " Angola                                              5.2   6104  \n",
       "...                                                  ...    ...  \n",
       " Venezuela (Bolivarian Republic of)                  7.1   7142  \n",
       " Viet Nam                                           10.3   3105  \n",
       " Yemen                                               8.3   7045  \n",
       " Zambia                                              3.2   7433  \n",
       " Zimbabwe                                            7.2   1594  \n",
       "\n",
       "[189 rows x 4 columns]"
      ]
     },
     "execution_count": 27,
     "metadata": {},
     "output_type": "execute_result"
    }
   ],
   "source": [
    "table"
   ]
  },
  {
   "cell_type": "code",
   "execution_count": 28,
   "id": "587273ad-cc1e-4c92-92f5-eca9962d81c0",
   "metadata": {},
   "outputs": [
    {
     "data": {
      "text/plain": [
       "HDI                     float64\n",
       "Life expectancy         float64\n",
       "Mean schooling years     object\n",
       "GDI                       int64\n",
       "dtype: object"
      ]
     },
     "execution_count": 28,
     "metadata": {},
     "output_type": "execute_result"
    }
   ],
   "source": [
    "table.dtypes"
   ]
  },
  {
   "cell_type": "code",
   "execution_count": 29,
   "id": "033cb9c7-0f56-4e48-a029-518cde57a71e",
   "metadata": {},
   "outputs": [],
   "source": [
    "table = table.apply(pd.to_numeric, errors='coerce')"
   ]
  },
  {
   "cell_type": "code",
   "execution_count": 30,
   "id": "e2a16adb-a69e-4454-914c-2b373a7983df",
   "metadata": {},
   "outputs": [
    {
     "data": {
      "text/plain": [
       "HDI                     float64\n",
       "Life expectancy         float64\n",
       "Mean schooling years    float64\n",
       "GDI                       int64\n",
       "dtype: object"
      ]
     },
     "execution_count": 30,
     "metadata": {},
     "output_type": "execute_result"
    }
   ],
   "source": [
    "table.dtypes"
   ]
  },
  {
   "cell_type": "code",
   "execution_count": 31,
   "id": "bdeb4273-93e8-43c2-b226-cf0041c147a6",
   "metadata": {},
   "outputs": [],
   "source": [
    "low = table[table[\"HDI\"] <= 0.549]\n",
    "medium = table[(table[\"HDI\"] >0.549) & (table[\"HDI\"] <=0.699)]\n",
    "high = table[(table[\"HDI\"] >0.699) & (table[\"HDI\"] <=0.799)]\n",
    "very_high = table[table[\"HDI\"] > 0.799]"
   ]
  },
  {
   "cell_type": "code",
   "execution_count": 32,
   "id": "80abac59-f26e-4672-8cc7-5f0f1eaf80b2",
   "metadata": {},
   "outputs": [
    {
     "data": {
      "text/html": [
       "<div>\n",
       "<style scoped>\n",
       "    .dataframe tbody tr th:only-of-type {\n",
       "        vertical-align: middle;\n",
       "    }\n",
       "\n",
       "    .dataframe tbody tr th {\n",
       "        vertical-align: top;\n",
       "    }\n",
       "\n",
       "    .dataframe thead th {\n",
       "        text-align: right;\n",
       "    }\n",
       "</style>\n",
       "<table border=\"1\" class=\"dataframe\">\n",
       "  <thead>\n",
       "    <tr style=\"text-align: right;\">\n",
       "      <th></th>\n",
       "      <th>HDI</th>\n",
       "      <th>Life expectancy</th>\n",
       "      <th>Mean schooling years</th>\n",
       "      <th>GDI</th>\n",
       "    </tr>\n",
       "    <tr>\n",
       "      <th>Country</th>\n",
       "      <th></th>\n",
       "      <th></th>\n",
       "      <th></th>\n",
       "      <th></th>\n",
       "    </tr>\n",
       "  </thead>\n",
       "  <tbody>\n",
       "    <tr>\n",
       "      <th>Burundi</th>\n",
       "      <td>0.433</td>\n",
       "      <td>61.6</td>\n",
       "      <td>3.3</td>\n",
       "      <td>754</td>\n",
       "    </tr>\n",
       "    <tr>\n",
       "      <th>Central African Republic</th>\n",
       "      <td>0.397</td>\n",
       "      <td>53.3</td>\n",
       "      <td>4.3</td>\n",
       "      <td>993</td>\n",
       "    </tr>\n",
       "    <tr>\n",
       "      <th>Malawi</th>\n",
       "      <td>0.483</td>\n",
       "      <td>67.0</td>\n",
       "      <td>4.7</td>\n",
       "      <td>1035</td>\n",
       "    </tr>\n",
       "    <tr>\n",
       "      <th>Congo (Democratic Republic of the)</th>\n",
       "      <td>0.480</td>\n",
       "      <td>60.7</td>\n",
       "      <td>6.8</td>\n",
       "      <td>1063</td>\n",
       "    </tr>\n",
       "    <tr>\n",
       "      <th>Nigeria</th>\n",
       "      <td>0.539</td>\n",
       "      <td>62.4</td>\n",
       "      <td>6.7</td>\n",
       "      <td>1201</td>\n",
       "    </tr>\n",
       "    <tr>\n",
       "      <th>Mozambique</th>\n",
       "      <td>0.456</td>\n",
       "      <td>76.7</td>\n",
       "      <td>3.5</td>\n",
       "      <td>1250</td>\n",
       "    </tr>\n",
       "    <tr>\n",
       "      <th>Liberia</th>\n",
       "      <td>0.480</td>\n",
       "      <td>54.3</td>\n",
       "      <td>4.8</td>\n",
       "      <td>1258</td>\n",
       "    </tr>\n",
       "    <tr>\n",
       "      <th>Chad</th>\n",
       "      <td>0.398</td>\n",
       "      <td>54.2</td>\n",
       "      <td>2.5</td>\n",
       "      <td>1555</td>\n",
       "    </tr>\n",
       "    <tr>\n",
       "      <th>Madagascar</th>\n",
       "      <td>0.528</td>\n",
       "      <td>82.3</td>\n",
       "      <td>6.1</td>\n",
       "      <td>1596</td>\n",
       "    </tr>\n",
       "    <tr>\n",
       "      <th>Haiti</th>\n",
       "      <td>0.510</td>\n",
       "      <td>64.0</td>\n",
       "      <td>5.6</td>\n",
       "      <td>1709</td>\n",
       "    </tr>\n",
       "    <tr>\n",
       "      <th>Guinea-Bissau</th>\n",
       "      <td>0.480</td>\n",
       "      <td>58.3</td>\n",
       "      <td>3.6</td>\n",
       "      <td>1996</td>\n",
       "    </tr>\n",
       "    <tr>\n",
       "      <th>Burkina Faso</th>\n",
       "      <td>0.452</td>\n",
       "      <td>61.6</td>\n",
       "      <td>1.6</td>\n",
       "      <td>2133</td>\n",
       "    </tr>\n",
       "    <tr>\n",
       "      <th>Gambia</th>\n",
       "      <td>0.496</td>\n",
       "      <td>62.0</td>\n",
       "      <td>3.9</td>\n",
       "      <td>2168</td>\n",
       "    </tr>\n",
       "    <tr>\n",
       "      <th>Ethiopia</th>\n",
       "      <td>0.485</td>\n",
       "      <td>66.6</td>\n",
       "      <td>2.9</td>\n",
       "      <td>2207</td>\n",
       "    </tr>\n",
       "    <tr>\n",
       "      <th>Afghanistan</th>\n",
       "      <td>0.511</td>\n",
       "      <td>64.8</td>\n",
       "      <td>3.9</td>\n",
       "      <td>2229</td>\n",
       "    </tr>\n",
       "    <tr>\n",
       "      <th>Mali</th>\n",
       "      <td>0.434</td>\n",
       "      <td>78.9</td>\n",
       "      <td>2.4</td>\n",
       "      <td>2269</td>\n",
       "    </tr>\n",
       "    <tr>\n",
       "      <th>Guinea</th>\n",
       "      <td>0.477</td>\n",
       "      <td>61.6</td>\n",
       "      <td>2.8</td>\n",
       "      <td>2405</td>\n",
       "    </tr>\n",
       "    <tr>\n",
       "      <th>Eritrea</th>\n",
       "      <td>0.459</td>\n",
       "      <td>66.3</td>\n",
       "      <td>3.9</td>\n",
       "      <td>2793</td>\n",
       "    </tr>\n",
       "    <tr>\n",
       "      <th>Lesotho</th>\n",
       "      <td>0.527</td>\n",
       "      <td>78.9</td>\n",
       "      <td>6.5</td>\n",
       "      <td>3151</td>\n",
       "    </tr>\n",
       "    <tr>\n",
       "      <th>Benin</th>\n",
       "      <td>0.545</td>\n",
       "      <td>61.8</td>\n",
       "      <td>3.8</td>\n",
       "      <td>3254</td>\n",
       "    </tr>\n",
       "    <tr>\n",
       "      <th>Tanzania (United Republic of)</th>\n",
       "      <td>0.529</td>\n",
       "      <td>72.7</td>\n",
       "      <td>10.7</td>\n",
       "      <td>3954</td>\n",
       "    </tr>\n",
       "    <tr>\n",
       "      <th>Togo</th>\n",
       "      <td>0.515</td>\n",
       "      <td>77.2</td>\n",
       "      <td>4.8</td>\n",
       "      <td>4440</td>\n",
       "    </tr>\n",
       "    <tr>\n",
       "      <th>C�te d'Ivoire</th>\n",
       "      <td>0.538</td>\n",
       "      <td>57.8</td>\n",
       "      <td>5.3</td>\n",
       "      <td>5069</td>\n",
       "    </tr>\n",
       "    <tr>\n",
       "      <th>Mauritania</th>\n",
       "      <td>0.546</td>\n",
       "      <td>74.1</td>\n",
       "      <td>4.7</td>\n",
       "      <td>5135</td>\n",
       "    </tr>\n",
       "    <tr>\n",
       "      <th>Niger</th>\n",
       "      <td>0.394</td>\n",
       "      <td>74.5</td>\n",
       "      <td>2.1</td>\n",
       "      <td>5284</td>\n",
       "    </tr>\n",
       "    <tr>\n",
       "      <th>Djibouti</th>\n",
       "      <td>0.524</td>\n",
       "      <td>67.1</td>\n",
       "      <td>4.1</td>\n",
       "      <td>5689</td>\n",
       "    </tr>\n",
       "    <tr>\n",
       "      <th>Yemen</th>\n",
       "      <td>0.470</td>\n",
       "      <td>72.1</td>\n",
       "      <td>8.3</td>\n",
       "      <td>7045</td>\n",
       "    </tr>\n",
       "    <tr>\n",
       "      <th>South Sudan</th>\n",
       "      <td>0.433</td>\n",
       "      <td>57.4</td>\n",
       "      <td>10.2</td>\n",
       "      <td>12129</td>\n",
       "    </tr>\n",
       "    <tr>\n",
       "      <th>Sudan</th>\n",
       "      <td>0.510</td>\n",
       "      <td>83.6</td>\n",
       "      <td>10.6</td>\n",
       "      <td>12707</td>\n",
       "    </tr>\n",
       "    <tr>\n",
       "      <th>Uganda</th>\n",
       "      <td>0.544</td>\n",
       "      <td>77.7</td>\n",
       "      <td>10.3</td>\n",
       "      <td>14909</td>\n",
       "    </tr>\n",
       "    <tr>\n",
       "      <th>Rwanda</th>\n",
       "      <td>0.543</td>\n",
       "      <td>72.6</td>\n",
       "      <td>4.4</td>\n",
       "      <td>26157</td>\n",
       "    </tr>\n",
       "    <tr>\n",
       "      <th>Sierra Leone</th>\n",
       "      <td>0.452</td>\n",
       "      <td>73.4</td>\n",
       "      <td>3.7</td>\n",
       "      <td>26903</td>\n",
       "    </tr>\n",
       "    <tr>\n",
       "      <th>Senegal</th>\n",
       "      <td>0.512</td>\n",
       "      <td>75.1</td>\n",
       "      <td>3.2</td>\n",
       "      <td>47495</td>\n",
       "    </tr>\n",
       "  </tbody>\n",
       "</table>\n",
       "</div>"
      ],
      "text/plain": [
       "                                       HDI  Life expectancy  \\\n",
       "Country                                                       \n",
       " Burundi                             0.433             61.6   \n",
       " Central African Republic            0.397             53.3   \n",
       " Malawi                              0.483             67.0   \n",
       " Congo (Democratic Republic of the)  0.480             60.7   \n",
       " Nigeria                             0.539             62.4   \n",
       " Mozambique                          0.456             76.7   \n",
       " Liberia                             0.480             54.3   \n",
       " Chad                                0.398             54.2   \n",
       " Madagascar                          0.528             82.3   \n",
       " Haiti                               0.510             64.0   \n",
       " Guinea-Bissau                       0.480             58.3   \n",
       " Burkina Faso                        0.452             61.6   \n",
       " Gambia                              0.496             62.0   \n",
       " Ethiopia                            0.485             66.6   \n",
       " Afghanistan                         0.511             64.8   \n",
       " Mali                                0.434             78.9   \n",
       " Guinea                              0.477             61.6   \n",
       " Eritrea                             0.459             66.3   \n",
       " Lesotho                             0.527             78.9   \n",
       " Benin                               0.545             61.8   \n",
       " Tanzania (United Republic of)       0.529             72.7   \n",
       " Togo                                0.515             77.2   \n",
       " C�te d'Ivoire                       0.538             57.8   \n",
       " Mauritania                          0.546             74.1   \n",
       " Niger                               0.394             74.5   \n",
       " Djibouti                            0.524             67.1   \n",
       " Yemen                               0.470             72.1   \n",
       " South Sudan                         0.433             57.4   \n",
       " Sudan                               0.510             83.6   \n",
       " Uganda                              0.544             77.7   \n",
       " Rwanda                              0.543             72.6   \n",
       " Sierra Leone                        0.452             73.4   \n",
       " Senegal                             0.512             75.1   \n",
       "\n",
       "                                     Mean schooling years    GDI  \n",
       "Country                                                           \n",
       " Burundi                                              3.3    754  \n",
       " Central African Republic                             4.3    993  \n",
       " Malawi                                               4.7   1035  \n",
       " Congo (Democratic Republic of the)                   6.8   1063  \n",
       " Nigeria                                              6.7   1201  \n",
       " Mozambique                                           3.5   1250  \n",
       " Liberia                                              4.8   1258  \n",
       " Chad                                                 2.5   1555  \n",
       " Madagascar                                           6.1   1596  \n",
       " Haiti                                                5.6   1709  \n",
       " Guinea-Bissau                                        3.6   1996  \n",
       " Burkina Faso                                         1.6   2133  \n",
       " Gambia                                               3.9   2168  \n",
       " Ethiopia                                             2.9   2207  \n",
       " Afghanistan                                          3.9   2229  \n",
       " Mali                                                 2.4   2269  \n",
       " Guinea                                               2.8   2405  \n",
       " Eritrea                                              3.9   2793  \n",
       " Lesotho                                              6.5   3151  \n",
       " Benin                                                3.8   3254  \n",
       " Tanzania (United Republic of)                       10.7   3954  \n",
       " Togo                                                 4.8   4440  \n",
       " C�te d'Ivoire                                        5.3   5069  \n",
       " Mauritania                                           4.7   5135  \n",
       " Niger                                                2.1   5284  \n",
       " Djibouti                                             4.1   5689  \n",
       " Yemen                                                8.3   7045  \n",
       " South Sudan                                         10.2  12129  \n",
       " Sudan                                               10.6  12707  \n",
       " Uganda                                              10.3  14909  \n",
       " Rwanda                                               4.4  26157  \n",
       " Sierra Leone                                         3.7  26903  \n",
       " Senegal                                              3.2  47495  "
      ]
     },
     "execution_count": 32,
     "metadata": {},
     "output_type": "execute_result"
    }
   ],
   "source": [
    "low.sort_values (\"GDI\")"
   ]
  },
  {
   "cell_type": "code",
   "execution_count": 33,
   "id": "62f4db97-12c9-4ff8-9e75-c7697748c073",
   "metadata": {},
   "outputs": [
    {
     "data": {
      "text/html": [
       "<div>\n",
       "<style scoped>\n",
       "    .dataframe tbody tr th:only-of-type {\n",
       "        vertical-align: middle;\n",
       "    }\n",
       "\n",
       "    .dataframe tbody tr th {\n",
       "        vertical-align: top;\n",
       "    }\n",
       "\n",
       "    .dataframe thead th {\n",
       "        text-align: right;\n",
       "    }\n",
       "</style>\n",
       "<table border=\"1\" class=\"dataframe\">\n",
       "  <thead>\n",
       "    <tr style=\"text-align: right;\">\n",
       "      <th></th>\n",
       "      <th>HDI</th>\n",
       "      <th>Life expectancy</th>\n",
       "      <th>Mean schooling years</th>\n",
       "      <th>GDI</th>\n",
       "    </tr>\n",
       "  </thead>\n",
       "  <tbody>\n",
       "    <tr>\n",
       "      <th>count</th>\n",
       "      <td>33.000000</td>\n",
       "      <td>33.000000</td>\n",
       "      <td>33.000000</td>\n",
       "      <td>33.000000</td>\n",
       "    </tr>\n",
       "    <tr>\n",
       "      <th>mean</th>\n",
       "      <td>0.487273</td>\n",
       "      <td>67.654545</td>\n",
       "      <td>5.030303</td>\n",
       "      <td>6482.878788</td>\n",
       "    </tr>\n",
       "    <tr>\n",
       "      <th>std</th>\n",
       "      <td>0.045460</td>\n",
       "      <td>8.614345</td>\n",
       "      <td>2.507051</td>\n",
       "      <td>9816.376944</td>\n",
       "    </tr>\n",
       "    <tr>\n",
       "      <th>min</th>\n",
       "      <td>0.394000</td>\n",
       "      <td>53.300000</td>\n",
       "      <td>1.600000</td>\n",
       "      <td>754.000000</td>\n",
       "    </tr>\n",
       "    <tr>\n",
       "      <th>25%</th>\n",
       "      <td>0.456000</td>\n",
       "      <td>61.600000</td>\n",
       "      <td>3.500000</td>\n",
       "      <td>1596.000000</td>\n",
       "    </tr>\n",
       "    <tr>\n",
       "      <th>50%</th>\n",
       "      <td>0.485000</td>\n",
       "      <td>66.600000</td>\n",
       "      <td>4.300000</td>\n",
       "      <td>2405.000000</td>\n",
       "    </tr>\n",
       "    <tr>\n",
       "      <th>75%</th>\n",
       "      <td>0.527000</td>\n",
       "      <td>74.500000</td>\n",
       "      <td>6.100000</td>\n",
       "      <td>5284.000000</td>\n",
       "    </tr>\n",
       "    <tr>\n",
       "      <th>max</th>\n",
       "      <td>0.546000</td>\n",
       "      <td>83.600000</td>\n",
       "      <td>10.700000</td>\n",
       "      <td>47495.000000</td>\n",
       "    </tr>\n",
       "  </tbody>\n",
       "</table>\n",
       "</div>"
      ],
      "text/plain": [
       "             HDI  Life expectancy  Mean schooling years           GDI\n",
       "count  33.000000        33.000000             33.000000     33.000000\n",
       "mean    0.487273        67.654545              5.030303   6482.878788\n",
       "std     0.045460         8.614345              2.507051   9816.376944\n",
       "min     0.394000        53.300000              1.600000    754.000000\n",
       "25%     0.456000        61.600000              3.500000   1596.000000\n",
       "50%     0.485000        66.600000              4.300000   2405.000000\n",
       "75%     0.527000        74.500000              6.100000   5284.000000\n",
       "max     0.546000        83.600000             10.700000  47495.000000"
      ]
     },
     "execution_count": 33,
     "metadata": {},
     "output_type": "execute_result"
    }
   ],
   "source": [
    "low.describe()"
   ]
  },
  {
   "cell_type": "code",
   "execution_count": 34,
   "id": "804f7150-024f-48ef-bbfe-f5796253dd9c",
   "metadata": {},
   "outputs": [
    {
     "data": {
      "text/html": [
       "<div>\n",
       "<style scoped>\n",
       "    .dataframe tbody tr th:only-of-type {\n",
       "        vertical-align: middle;\n",
       "    }\n",
       "\n",
       "    .dataframe tbody tr th {\n",
       "        vertical-align: top;\n",
       "    }\n",
       "\n",
       "    .dataframe thead th {\n",
       "        text-align: right;\n",
       "    }\n",
       "</style>\n",
       "<table border=\"1\" class=\"dataframe\">\n",
       "  <thead>\n",
       "    <tr style=\"text-align: right;\">\n",
       "      <th></th>\n",
       "      <th>HDI</th>\n",
       "      <th>Life expectancy</th>\n",
       "      <th>Mean schooling years</th>\n",
       "      <th>GDI</th>\n",
       "    </tr>\n",
       "  </thead>\n",
       "  <tbody>\n",
       "    <tr>\n",
       "      <th>count</th>\n",
       "      <td>37.000000</td>\n",
       "      <td>37.000000</td>\n",
       "      <td>37.000000</td>\n",
       "      <td>37.000000</td>\n",
       "    </tr>\n",
       "    <tr>\n",
       "      <th>mean</th>\n",
       "      <td>0.617541</td>\n",
       "      <td>70.894595</td>\n",
       "      <td>6.651351</td>\n",
       "      <td>11949.621622</td>\n",
       "    </tr>\n",
       "    <tr>\n",
       "      <th>std</th>\n",
       "      <td>0.041874</td>\n",
       "      <td>6.905229</td>\n",
       "      <td>2.012547</td>\n",
       "      <td>13504.102598</td>\n",
       "    </tr>\n",
       "    <tr>\n",
       "      <th>min</th>\n",
       "      <td>0.554000</td>\n",
       "      <td>58.700000</td>\n",
       "      <td>3.200000</td>\n",
       "      <td>1594.000000</td>\n",
       "    </tr>\n",
       "    <tr>\n",
       "      <th>25%</th>\n",
       "      <td>0.583000</td>\n",
       "      <td>65.500000</td>\n",
       "      <td>5.200000</td>\n",
       "      <td>4864.000000</td>\n",
       "    </tr>\n",
       "    <tr>\n",
       "      <th>50%</th>\n",
       "      <td>0.611000</td>\n",
       "      <td>71.500000</td>\n",
       "      <td>6.500000</td>\n",
       "      <td>7368.000000</td>\n",
       "    </tr>\n",
       "    <tr>\n",
       "      <th>75%</th>\n",
       "      <td>0.654000</td>\n",
       "      <td>75.400000</td>\n",
       "      <td>7.200000</td>\n",
       "      <td>10801.000000</td>\n",
       "    </tr>\n",
       "    <tr>\n",
       "      <th>max</th>\n",
       "      <td>0.697000</td>\n",
       "      <td>83.800000</td>\n",
       "      <td>13.400000</td>\n",
       "      <td>69394.000000</td>\n",
       "    </tr>\n",
       "  </tbody>\n",
       "</table>\n",
       "</div>"
      ],
      "text/plain": [
       "             HDI  Life expectancy  Mean schooling years           GDI\n",
       "count  37.000000        37.000000             37.000000     37.000000\n",
       "mean    0.617541        70.894595              6.651351  11949.621622\n",
       "std     0.041874         6.905229              2.012547  13504.102598\n",
       "min     0.554000        58.700000              3.200000   1594.000000\n",
       "25%     0.583000        65.500000              5.200000   4864.000000\n",
       "50%     0.611000        71.500000              6.500000   7368.000000\n",
       "75%     0.654000        75.400000              7.200000  10801.000000\n",
       "max     0.697000        83.800000             13.400000  69394.000000"
      ]
     },
     "execution_count": 34,
     "metadata": {},
     "output_type": "execute_result"
    }
   ],
   "source": [
    "medium.describe()"
   ]
  },
  {
   "cell_type": "code",
   "execution_count": 35,
   "id": "1aa4777c-1269-45b7-8af3-d0f7708fa4bc",
   "metadata": {},
   "outputs": [
    {
     "data": {
      "text/html": [
       "<div>\n",
       "<style scoped>\n",
       "    .dataframe tbody tr th:only-of-type {\n",
       "        vertical-align: middle;\n",
       "    }\n",
       "\n",
       "    .dataframe tbody tr th {\n",
       "        vertical-align: top;\n",
       "    }\n",
       "\n",
       "    .dataframe thead th {\n",
       "        text-align: right;\n",
       "    }\n",
       "</style>\n",
       "<table border=\"1\" class=\"dataframe\">\n",
       "  <thead>\n",
       "    <tr style=\"text-align: right;\">\n",
       "      <th></th>\n",
       "      <th>HDI</th>\n",
       "      <th>Life expectancy</th>\n",
       "      <th>Mean schooling years</th>\n",
       "      <th>GDI</th>\n",
       "    </tr>\n",
       "  </thead>\n",
       "  <tbody>\n",
       "    <tr>\n",
       "      <th>count</th>\n",
       "      <td>53.000000</td>\n",
       "      <td>53.000000</td>\n",
       "      <td>52.000000</td>\n",
       "      <td>53.000000</td>\n",
       "    </tr>\n",
       "    <tr>\n",
       "      <th>mean</th>\n",
       "      <td>0.747113</td>\n",
       "      <td>72.820755</td>\n",
       "      <td>9.042308</td>\n",
       "      <td>13649.849057</td>\n",
       "    </tr>\n",
       "    <tr>\n",
       "      <th>std</th>\n",
       "      <td>0.028418</td>\n",
       "      <td>5.338336</td>\n",
       "      <td>1.630271</td>\n",
       "      <td>10036.539394</td>\n",
       "    </tr>\n",
       "    <tr>\n",
       "      <th>min</th>\n",
       "      <td>0.703000</td>\n",
       "      <td>54.700000</td>\n",
       "      <td>3.800000</td>\n",
       "      <td>1602.000000</td>\n",
       "    </tr>\n",
       "    <tr>\n",
       "      <th>25%</th>\n",
       "      <td>0.720000</td>\n",
       "      <td>70.900000</td>\n",
       "      <td>8.100000</td>\n",
       "      <td>8554.000000</td>\n",
       "    </tr>\n",
       "    <tr>\n",
       "      <th>50%</th>\n",
       "      <td>0.743000</td>\n",
       "      <td>74.300000</td>\n",
       "      <td>9.000000</td>\n",
       "      <td>12447.000000</td>\n",
       "    </tr>\n",
       "    <tr>\n",
       "      <th>75%</th>\n",
       "      <td>0.777000</td>\n",
       "      <td>76.700000</td>\n",
       "      <td>10.300000</td>\n",
       "      <td>15688.000000</td>\n",
       "    </tr>\n",
       "    <tr>\n",
       "      <th>max</th>\n",
       "      <td>0.796000</td>\n",
       "      <td>82.500000</td>\n",
       "      <td>11.800000</td>\n",
       "      <td>63826.000000</td>\n",
       "    </tr>\n",
       "  </tbody>\n",
       "</table>\n",
       "</div>"
      ],
      "text/plain": [
       "             HDI  Life expectancy  Mean schooling years           GDI\n",
       "count  53.000000        53.000000             52.000000     53.000000\n",
       "mean    0.747113        72.820755              9.042308  13649.849057\n",
       "std     0.028418         5.338336              1.630271  10036.539394\n",
       "min     0.703000        54.700000              3.800000   1602.000000\n",
       "25%     0.720000        70.900000              8.100000   8554.000000\n",
       "50%     0.743000        74.300000              9.000000  12447.000000\n",
       "75%     0.777000        76.700000             10.300000  15688.000000\n",
       "max     0.796000        82.500000             11.800000  63826.000000"
      ]
     },
     "execution_count": 35,
     "metadata": {},
     "output_type": "execute_result"
    }
   ],
   "source": [
    "high.describe()"
   ]
  },
  {
   "cell_type": "code",
   "execution_count": 36,
   "id": "88330387-3e42-4071-926d-f7d7f619cd10",
   "metadata": {},
   "outputs": [
    {
     "data": {
      "text/html": [
       "<div>\n",
       "<style scoped>\n",
       "    .dataframe tbody tr th:only-of-type {\n",
       "        vertical-align: middle;\n",
       "    }\n",
       "\n",
       "    .dataframe tbody tr th {\n",
       "        vertical-align: top;\n",
       "    }\n",
       "\n",
       "    .dataframe thead th {\n",
       "        text-align: right;\n",
       "    }\n",
       "</style>\n",
       "<table border=\"1\" class=\"dataframe\">\n",
       "  <thead>\n",
       "    <tr style=\"text-align: right;\">\n",
       "      <th></th>\n",
       "      <th>HDI</th>\n",
       "      <th>Life expectancy</th>\n",
       "      <th>Mean schooling years</th>\n",
       "      <th>GDI</th>\n",
       "    </tr>\n",
       "  </thead>\n",
       "  <tbody>\n",
       "    <tr>\n",
       "      <th>count</th>\n",
       "      <td>66.000000</td>\n",
       "      <td>66.000000</td>\n",
       "      <td>66.000000</td>\n",
       "      <td>66.000000</td>\n",
       "    </tr>\n",
       "    <tr>\n",
       "      <th>mean</th>\n",
       "      <td>0.878970</td>\n",
       "      <td>76.237879</td>\n",
       "      <td>11.493939</td>\n",
       "      <td>37248.469697</td>\n",
       "    </tr>\n",
       "    <tr>\n",
       "      <th>std</th>\n",
       "      <td>0.050448</td>\n",
       "      <td>6.712096</td>\n",
       "      <td>1.690506</td>\n",
       "      <td>24581.701573</td>\n",
       "    </tr>\n",
       "    <tr>\n",
       "      <th>min</th>\n",
       "      <td>0.804000</td>\n",
       "      <td>54.700000</td>\n",
       "      <td>4.800000</td>\n",
       "      <td>1668.000000</td>\n",
       "    </tr>\n",
       "    <tr>\n",
       "      <th>25%</th>\n",
       "      <td>0.826500</td>\n",
       "      <td>72.450000</td>\n",
       "      <td>10.600000</td>\n",
       "      <td>19207.000000</td>\n",
       "    </tr>\n",
       "    <tr>\n",
       "      <th>50%</th>\n",
       "      <td>0.884500</td>\n",
       "      <td>77.750000</td>\n",
       "      <td>12.100000</td>\n",
       "      <td>34883.000000</td>\n",
       "    </tr>\n",
       "    <tr>\n",
       "      <th>75%</th>\n",
       "      <td>0.925000</td>\n",
       "      <td>81.825000</td>\n",
       "      <td>12.700000</td>\n",
       "      <td>53902.250000</td>\n",
       "    </tr>\n",
       "    <tr>\n",
       "      <th>max</th>\n",
       "      <td>0.957000</td>\n",
       "      <td>84.900000</td>\n",
       "      <td>14.200000</td>\n",
       "      <td>131032.000000</td>\n",
       "    </tr>\n",
       "  </tbody>\n",
       "</table>\n",
       "</div>"
      ],
      "text/plain": [
       "             HDI  Life expectancy  Mean schooling years            GDI\n",
       "count  66.000000        66.000000             66.000000      66.000000\n",
       "mean    0.878970        76.237879             11.493939   37248.469697\n",
       "std     0.050448         6.712096              1.690506   24581.701573\n",
       "min     0.804000        54.700000              4.800000    1668.000000\n",
       "25%     0.826500        72.450000             10.600000   19207.000000\n",
       "50%     0.884500        77.750000             12.100000   34883.000000\n",
       "75%     0.925000        81.825000             12.700000   53902.250000\n",
       "max     0.957000        84.900000             14.200000  131032.000000"
      ]
     },
     "execution_count": 36,
     "metadata": {},
     "output_type": "execute_result"
    }
   ],
   "source": [
    "very_high.describe()"
   ]
  },
  {
   "cell_type": "code",
   "execution_count": 37,
   "id": "b7b9b781-8c85-4b20-8c2b-bdc71ba06914",
   "metadata": {},
   "outputs": [
    {
     "data": {
      "text/plain": [
       "<AxesSubplot:xlabel='HDI', ylabel='Density'>"
      ]
     },
     "execution_count": 37,
     "metadata": {},
     "output_type": "execute_result"
    },
    {
     "data": {
      "image/png": "[encoded data removed]",
      "text/plain": [
       "<Figure size 432x288 with 1 Axes>"
      ]
     },
     "metadata": {
      "needs_background": "light"
     },
     "output_type": "display_data"
    }
   ],
   "source": [
    "sns.kdeplot (data = low[\"HDI\"])\n",
    "sns.kdeplot (data = medium[\"HDI\"])\n",
    "sns.kdeplot (data = high[\"HDI\"])\n",
    "sns.kdeplot (data = very_high[\"HDI\"])"
   ]
  },
  {
   "cell_type": "code",
   "execution_count": null,
   "id": "15f27e84-eb4d-4f6e-a4f6-3da71a31c71a",
   "metadata": {},
   "outputs": [],
   "source": []
  },
  {
   "cell_type": "code",
   "execution_count": 38,
   "id": "f091325a-a909-447e-890d-b2191a267d78",
   "metadata": {},
   "outputs": [
    {
     "data": {
      "text/plain": [
       "<AxesSubplot:xlabel='Life expectancy', ylabel='Density'>"
      ]
     },
     "execution_count": 38,
     "metadata": {},
     "output_type": "execute_result"
    },
    {
     "data": {
      "image/png": "[encoded data removed]",
      "text/plain": [
       "<Figure size 432x288 with 1 Axes>"
      ]
     },
     "metadata": {
      "needs_background": "light"
     },
     "output_type": "display_data"
    }
   ],
   "source": [
    "sns.kdeplot (data = low[\"Life expectancy\"])\n",
    "sns.kdeplot (data = medium[\"Life expectancy\"])\n",
    "sns.kdeplot (data = high[\"Life expectancy\"])\n",
    "sns.kdeplot (data = very_high[\"Life expectancy\"])"
   ]
  },
  {
   "cell_type": "code",
   "execution_count": 39,
   "id": "e5d20705-de5c-45fd-ab5b-44449994fcd6",
   "metadata": {},
   "outputs": [
    {
     "data": {
      "text/plain": [
       "<AxesSubplot:xlabel='Mean schooling years', ylabel='Density'>"
      ]
     },
     "execution_count": 39,
     "metadata": {},
     "output_type": "execute_result"
    },
    {
     "data": {
      "image/png": "[encoded data removed]",
      "text/plain": [
       "<Figure size 432x288 with 1 Axes>"
      ]
     },
     "metadata": {
      "needs_background": "light"
     },
     "output_type": "display_data"
    }
   ],
   "source": [
    "sns.kdeplot (data = low[\"Mean schooling years\"])\n",
    "sns.kdeplot (data = medium[\"Mean schooling years\"])\n",
    "sns.kdeplot (data = high[\"Mean schooling years\"])\n",
    "sns.kdeplot (data = very_high[\"Mean schooling years\"])"
   ]
  },
  {
   "cell_type": "code",
   "execution_count": 40,
   "id": "baaf930b-f4bb-4498-ae22-056e5b1cb660",
   "metadata": {},
   "outputs": [
    {
     "data": {
      "text/plain": [
       "<AxesSubplot:xlabel='GDI', ylabel='Density'>"
      ]
     },
     "execution_count": 40,
     "metadata": {},
     "output_type": "execute_result"
    },
    {
     "data": {
      "image/png": "[encoded data removed]",
      "text/plain": [
       "<Figure size 432x288 with 1 Axes>"
      ]
     },
     "metadata": {
      "needs_background": "light"
     },
     "output_type": "display_data"
    }
   ],
   "source": [
    "sns.kdeplot (data = low[\"GDI\"])\n",
    "sns.kdeplot (data = medium[\"GDI\"])\n",
    "sns.kdeplot (data = high[\"GDI\"])\n",
    "sns.kdeplot (data = very_high[\"GDI\"])"
   ]
  },
  {
   "cell_type": "code",
   "execution_count": 41,
   "id": "30d86a7f-eae1-46cc-b27a-4578ac777c93",
   "metadata": {},
   "outputs": [
    {
     "data": {
      "text/plain": [
       "(array([12.,  7.,  3.,  7.,  3.,  7.,  3.,  8.,  7.,  9.]),\n",
       " array([0.804 , 0.8193, 0.8346, 0.8499, 0.8652, 0.8805, 0.8958, 0.9111,\n",
       "        0.9264, 0.9417, 0.957 ]),\n",
       " <BarContainer object of 10 artists>)"
      ]
     },
     "execution_count": 41,
     "metadata": {},
     "output_type": "execute_result"
    },
    {
     "data": {
      "image/png": "[encoded data removed]",
      "text/plain": [
       "<Figure size 432x288 with 1 Axes>"
      ]
     },
     "metadata": {
      "needs_background": "light"
     },
     "output_type": "display_data"
    }
   ],
   "source": [
    "#plt.hist (low[\"GDI\"])\n",
    "#plt.hist (medium[\"GDI\"])\n",
    "#plt.hist (high[\"GDI\"])\n",
    "plt.hist (very_high[\"HDI\"])"
   ]
  },
  {
   "cell_type": "code",
   "execution_count": 42,
   "id": "aae7bfa1-0bf1-47b8-a643-baa6b8aed3de",
   "metadata": {},
   "outputs": [
    {
     "data": {
      "text/plain": [
       "(array([25.,  2.,  2.,  1.,  0.,  2.,  0.,  0.,  0.,  1.]),\n",
       " array([  754. ,  5428.1, 10102.2, 14776.3, 19450.4, 24124.5, 28798.6,\n",
       "        33472.7, 38146.8, 42820.9, 47495. ]),\n",
       " <BarContainer object of 10 artists>)"
      ]
     },
     "execution_count": 42,
     "metadata": {},
     "output_type": "execute_result"
    },
    {
     "data": {
      "image/png": "[encoded data removed]",
      "text/plain": [
       "<Figure size 432x288 with 1 Axes>"
      ]
     },
     "metadata": {
      "needs_background": "light"
     },
     "output_type": "display_data"
    }
   ],
   "source": [
    "plt.hist (low[\"GDI\"])"
   ]
  },
  {
   "cell_type": "code",
   "execution_count": 43,
   "id": "e3f83ffc-ee46-4e69-8209-aeb2e3e8f4d3",
   "metadata": {},
   "outputs": [
    {
     "data": {
      "text/plain": [
       "array([20043.21485456, 20063.68451885, 20065.33742978, 20072.32345609,\n",
       "       20087.15551511, 20087.24877917, 20149.01570705, 20179.30444933,\n",
       "       20209.16368301, 20217.33297079, 20230.92224992, 20236.44137685,\n",
       "       20305.50823794, 20345.70838844, 20367.71114352, 20382.50088207,\n",
       "       20382.79159958, 20388.767844  , 20403.50393066, 20419.42974691,\n",
       "       20437.67139652, 20471.05926981, 20483.90531001, 20493.80399676,\n",
       "       20514.46753436, 20522.58104124, 20627.73378986, 20744.38378389,\n",
       "       20750.98858656, 20766.72464913, 20817.66662715, 20862.73923247,\n",
       "       20888.71656697, 20937.64254327, 20971.42551322, 21147.95384514,\n",
       "       21260.47528885, 21510.75068226, 21689.68481554, 21696.16970364,\n",
       "       21700.72176577, 21735.20605621, 21786.77725086, 22064.66052399,\n",
       "       22065.47224003, 22361.97922932, 22568.72491559, 22648.2749339 ,\n",
       "       22745.19392378, 22928.25196395, 22947.97979642, 22970.21843371,\n",
       "       23012.68854475, 23080.24165012, 23271.25792299, 23582.69799563,\n",
       "       23853.85109479, 24151.91852878, 24593.55020598, 24637.10537309,\n",
       "       25246.13974015, 25646.78258123, 25931.82375081, 26275.30405397,\n",
       "       26820.56864558, 31810.44933245])"
      ]
     },
     "execution_count": 43,
     "metadata": {},
     "output_type": "execute_result"
    }
   ],
   "source": [
    "\n",
    "s = (np.random.default_rng().pareto(3, 66) + 4)* 5000\n",
    "s.sort()\n",
    "s"
   ]
  },
  {
   "cell_type": "code",
   "execution_count": 44,
   "id": "7559df12-b30c-40fb-8c5e-f63164701f98",
   "metadata": {
    "tags": []
   },
   "outputs": [
    {
     "data": {
      "text/plain": [
       "(array([36., 10.,  9.,  5.,  2.,  3.,  0.,  0.,  0.,  1.]),\n",
       " array([20043.21485456, 21219.93830235, 22396.66175014, 23573.38519793,\n",
       "        24750.10864572, 25926.8320935 , 27103.55554129, 28280.27898908,\n",
       "        29457.00243687, 30633.72588466, 31810.44933245]),\n",
       " <BarContainer object of 10 artists>)"
      ]
     },
     "execution_count": 44,
     "metadata": {},
     "output_type": "execute_result"
    },
    {
     "data": {
      "image/png": "[encoded data removed]",
      "text/plain": [
       "<Figure size 432x288 with 1 Axes>"
      ]
     },
     "metadata": {
      "needs_background": "light"
     },
     "output_type": "display_data"
    }
   ],
   "source": [
    "plt.hist (s)"
   ]
  },
  {
   "cell_type": "code",
   "execution_count": 45,
   "id": "d36f2b32-5f46-43a5-9a91-000680d67aad",
   "metadata": {},
   "outputs": [
    {
     "data": {
      "text/plain": [
       "<AxesSubplot:xlabel='GDI', ylabel='Density'>"
      ]
     },
     "execution_count": 45,
     "metadata": {},
     "output_type": "execute_result"
    },
    {
     "data": {
      "image/png": "[encoded data removed]",
      "text/plain": [
       "<Figure size 432x288 with 1 Axes>"
      ]
     },
     "metadata": {
      "needs_background": "light"
     },
     "output_type": "display_data"
    }
   ],
   "source": [
    "sns.kdeplot (s)\n",
    "sns.kdeplot (data = low[\"GDI\"])"
   ]
  },
  {
   "cell_type": "code",
   "execution_count": 46,
   "id": "da7653f8-96ef-4d69-bc66-f44f5fcf5076",
   "metadata": {},
   "outputs": [
    {
     "ename": "NameError",
     "evalue": "name 'h' is not defined",
     "output_type": "error",
     "traceback": [
      "\u001b[1;31m---------------------------------------------------------------------------\u001b[0m",
      "\u001b[1;31mNameError\u001b[0m                                 Traceback (most recent call last)",
      "\u001b[1;32m<ipython-input-46-ac725dcacac1>\u001b[0m in \u001b[0;36m<module>\u001b[1;34m\u001b[0m\n\u001b[1;32m----> 1\u001b[1;33m \u001b[0msns\u001b[0m\u001b[1;33m.\u001b[0m\u001b[0mhistplot\u001b[0m \u001b[1;33m(\u001b[0m\u001b[0mdata\u001b[0m \u001b[1;33m=\u001b[0m \u001b[0mh\u001b[0m\u001b[1;33m)\u001b[0m\u001b[1;33m\u001b[0m\u001b[1;33m\u001b[0m\u001b[0m\n\u001b[0m",
      "\u001b[1;31mNameError\u001b[0m: name 'h' is not defined"
     ]
    }
   ],
   "source": [
    "sns.histplot (data = h)"
   ]
  },
  {
   "cell_type": "code",
   "execution_count": 76,
   "id": "ac5e7b90-f74e-4cca-8560-3ac5e07f91e8",
   "metadata": {},
   "outputs": [
    {
     "ename": "TypeError",
     "evalue": "loop of ufunc does not support argument 0 of type str which has no callable log method",
     "output_type": "error",
     "traceback": [
      "\u001b[1;31m---------------------------------------------------------------------------\u001b[0m",
      "\u001b[1;31mAttributeError\u001b[0m                            Traceback (most recent call last)",
      "\u001b[1;31mAttributeError\u001b[0m: 'str' object has no attribute 'log'",
      "\nThe above exception was the direct cause of the following exception:\n",
      "\u001b[1;31mTypeError\u001b[0m                                 Traceback (most recent call last)",
      "\u001b[1;32m<ipython-input-76-06216fdb604e>\u001b[0m in \u001b[0;36m<module>\u001b[1;34m\u001b[0m\n\u001b[1;32m----> 1\u001b[1;33m \u001b[0mu\u001b[0m \u001b[1;33m=\u001b[0m \u001b[0mdf\u001b[0m\u001b[1;33m.\u001b[0m\u001b[0mloc\u001b[0m\u001b[1;33m[\u001b[0m\u001b[1;34m\"GDI\"\u001b[0m\u001b[1;33m]\u001b[0m \u001b[1;33m=\u001b[0m \u001b[0mnp\u001b[0m\u001b[1;33m.\u001b[0m\u001b[0mlog\u001b[0m\u001b[1;33m(\u001b[0m\u001b[0mdf\u001b[0m\u001b[1;33m[\u001b[0m\u001b[1;34m\"GDI\"\u001b[0m\u001b[1;33m]\u001b[0m\u001b[1;33m)\u001b[0m\u001b[1;33m\u001b[0m\u001b[1;33m\u001b[0m\u001b[0m\n\u001b[0m\u001b[0;32m      2\u001b[0m \u001b[0mu\u001b[0m\u001b[1;33m\u001b[0m\u001b[1;33m\u001b[0m\u001b[0m\n",
      "\u001b[1;32m~\\anaconda3\\lib\\site-packages\\pandas\\core\\generic.py\u001b[0m in \u001b[0;36m__array_ufunc__\u001b[1;34m(self, ufunc, method, *inputs, **kwargs)\u001b[0m\n\u001b[0;32m   1934\u001b[0m         \u001b[0mself\u001b[0m\u001b[1;33m,\u001b[0m \u001b[0mufunc\u001b[0m\u001b[1;33m:\u001b[0m \u001b[0mCallable\u001b[0m\u001b[1;33m,\u001b[0m \u001b[0mmethod\u001b[0m\u001b[1;33m:\u001b[0m \u001b[0mstr\u001b[0m\u001b[1;33m,\u001b[0m \u001b[1;33m*\u001b[0m\u001b[0minputs\u001b[0m\u001b[1;33m:\u001b[0m \u001b[0mAny\u001b[0m\u001b[1;33m,\u001b[0m \u001b[1;33m**\u001b[0m\u001b[0mkwargs\u001b[0m\u001b[1;33m:\u001b[0m \u001b[0mAny\u001b[0m\u001b[1;33m\u001b[0m\u001b[1;33m\u001b[0m\u001b[0m\n\u001b[0;32m   1935\u001b[0m     ):\n\u001b[1;32m-> 1936\u001b[1;33m         \u001b[1;32mreturn\u001b[0m \u001b[0marraylike\u001b[0m\u001b[1;33m.\u001b[0m\u001b[0marray_ufunc\u001b[0m\u001b[1;33m(\u001b[0m\u001b[0mself\u001b[0m\u001b[1;33m,\u001b[0m \u001b[0mufunc\u001b[0m\u001b[1;33m,\u001b[0m \u001b[0mmethod\u001b[0m\u001b[1;33m,\u001b[0m \u001b[1;33m*\u001b[0m\u001b[0minputs\u001b[0m\u001b[1;33m,\u001b[0m \u001b[1;33m**\u001b[0m\u001b[0mkwargs\u001b[0m\u001b[1;33m)\u001b[0m\u001b[1;33m\u001b[0m\u001b[1;33m\u001b[0m\u001b[0m\n\u001b[0m\u001b[0;32m   1937\u001b[0m \u001b[1;33m\u001b[0m\u001b[0m\n\u001b[0;32m   1938\u001b[0m     \u001b[1;31m# ideally we would define this to avoid the getattr checks, but\u001b[0m\u001b[1;33m\u001b[0m\u001b[1;33m\u001b[0m\u001b[1;33m\u001b[0m\u001b[0m\n",
      "\u001b[1;32m~\\anaconda3\\lib\\site-packages\\pandas\\core\\arraylike.py\u001b[0m in \u001b[0;36marray_ufunc\u001b[1;34m(self, ufunc, method, *inputs, **kwargs)\u001b[0m\n\u001b[0;32m    356\u001b[0m         \u001b[1;31m# ufunc(series, ...)\u001b[0m\u001b[1;33m\u001b[0m\u001b[1;33m\u001b[0m\u001b[1;33m\u001b[0m\u001b[0m\n\u001b[0;32m    357\u001b[0m         \u001b[0minputs\u001b[0m \u001b[1;33m=\u001b[0m \u001b[0mtuple\u001b[0m\u001b[1;33m(\u001b[0m\u001b[0mextract_array\u001b[0m\u001b[1;33m(\u001b[0m\u001b[0mx\u001b[0m\u001b[1;33m,\u001b[0m \u001b[0mextract_numpy\u001b[0m\u001b[1;33m=\u001b[0m\u001b[1;32mTrue\u001b[0m\u001b[1;33m)\u001b[0m \u001b[1;32mfor\u001b[0m \u001b[0mx\u001b[0m \u001b[1;32min\u001b[0m \u001b[0minputs\u001b[0m\u001b[1;33m)\u001b[0m\u001b[1;33m\u001b[0m\u001b[1;33m\u001b[0m\u001b[0m\n\u001b[1;32m--> 358\u001b[1;33m         \u001b[0mresult\u001b[0m \u001b[1;33m=\u001b[0m \u001b[0mgetattr\u001b[0m\u001b[1;33m(\u001b[0m\u001b[0mufunc\u001b[0m\u001b[1;33m,\u001b[0m \u001b[0mmethod\u001b[0m\u001b[1;33m)\u001b[0m\u001b[1;33m(\u001b[0m\u001b[1;33m*\u001b[0m\u001b[0minputs\u001b[0m\u001b[1;33m,\u001b[0m \u001b[1;33m**\u001b[0m\u001b[0mkwargs\u001b[0m\u001b[1;33m)\u001b[0m\u001b[1;33m\u001b[0m\u001b[1;33m\u001b[0m\u001b[0m\n\u001b[0m\u001b[0;32m    359\u001b[0m     \u001b[1;32melse\u001b[0m\u001b[1;33m:\u001b[0m\u001b[1;33m\u001b[0m\u001b[1;33m\u001b[0m\u001b[0m\n\u001b[0;32m    360\u001b[0m         \u001b[1;31m# ufunc(dataframe)\u001b[0m\u001b[1;33m\u001b[0m\u001b[1;33m\u001b[0m\u001b[1;33m\u001b[0m\u001b[0m\n",
      "\u001b[1;31mTypeError\u001b[0m: loop of ufunc does not support argument 0 of type str which has no callable log method"
     ]
    }
   ],
   "source": [
    "u = df.loc[\"GDI\"] = np.log(df[\"GDI\"])\n",
    "u"
   ]
  },
  {
   "cell_type": "code",
   "execution_count": 77,
   "id": "13e1a222-4fc9-47e6-bda9-7cd431834ab8",
   "metadata": {},
   "outputs": [
    {
     "ename": "NameError",
     "evalue": "name 'u' is not defined",
     "output_type": "error",
     "traceback": [
      "\u001b[1;31m---------------------------------------------------------------------------\u001b[0m",
      "\u001b[1;31mNameError\u001b[0m                                 Traceback (most recent call last)",
      "\u001b[1;32m<ipython-input-77-24e00230f9a4>\u001b[0m in \u001b[0;36m<module>\u001b[1;34m\u001b[0m\n\u001b[1;32m----> 1\u001b[1;33m \u001b[0mplt\u001b[0m\u001b[1;33m.\u001b[0m\u001b[0mhist\u001b[0m\u001b[1;33m(\u001b[0m\u001b[0mu\u001b[0m\u001b[1;33m)\u001b[0m\u001b[1;33m\u001b[0m\u001b[1;33m\u001b[0m\u001b[0m\n\u001b[0m",
      "\u001b[1;31mNameError\u001b[0m: name 'u' is not defined"
     ]
    }
   ],
   "source": [
    "plt.hist(u)"
   ]
  },
  {
   "cell_type": "code",
   "execution_count": 78,
   "id": "20f8d5e0-72c5-40a1-8804-40e46322ef65",
   "metadata": {},
   "outputs": [
    {
     "data": {
      "text/plain": [
       "<seaborn.axisgrid.PairGrid at 0x17441c24c40>"
      ]
     },
     "execution_count": 78,
     "metadata": {},
     "output_type": "execute_result"
    },
    {
     "data": {
      "image/png": "[encoded data removed]",
      "text/plain": [
       "<Figure size 720x720 with 20 Axes>"
      ]
     },
     "metadata": {
      "needs_background": "light"
     },
     "output_type": "display_data"
    }
   ],
   "source": [
    "sns.pairplot (data = table)"
   ]
  },
  {
   "cell_type": "code",
   "execution_count": 79,
   "id": "7be43a48-9afb-4d35-880d-aaa455937713",
   "metadata": {},
   "outputs": [
    {
     "data": {
      "text/html": [
       "<div>\n",
       "<style scoped>\n",
       "    .dataframe tbody tr th:only-of-type {\n",
       "        vertical-align: middle;\n",
       "    }\n",
       "\n",
       "    .dataframe tbody tr th {\n",
       "        vertical-align: top;\n",
       "    }\n",
       "\n",
       "    .dataframe thead th {\n",
       "        text-align: right;\n",
       "    }\n",
       "</style>\n",
       "<table border=\"1\" class=\"dataframe\">\n",
       "  <thead>\n",
       "    <tr style=\"text-align: right;\">\n",
       "      <th></th>\n",
       "      <th>HDI</th>\n",
       "      <th>Life expectancy</th>\n",
       "      <th>Mean schooling years</th>\n",
       "      <th>GDI</th>\n",
       "    </tr>\n",
       "    <tr>\n",
       "      <th>Country</th>\n",
       "      <th></th>\n",
       "      <th></th>\n",
       "      <th></th>\n",
       "      <th></th>\n",
       "    </tr>\n",
       "  </thead>\n",
       "  <tbody>\n",
       "    <tr>\n",
       "      <th>Burundi</th>\n",
       "      <td>0.433</td>\n",
       "      <td>61.6</td>\n",
       "      <td>3.3</td>\n",
       "      <td>754</td>\n",
       "    </tr>\n",
       "    <tr>\n",
       "      <th>Central African Republic</th>\n",
       "      <td>0.397</td>\n",
       "      <td>53.3</td>\n",
       "      <td>4.3</td>\n",
       "      <td>993</td>\n",
       "    </tr>\n",
       "    <tr>\n",
       "      <th>Malawi</th>\n",
       "      <td>0.483</td>\n",
       "      <td>67.0</td>\n",
       "      <td>4.7</td>\n",
       "      <td>1035</td>\n",
       "    </tr>\n",
       "    <tr>\n",
       "      <th>Congo (Democratic Republic of the)</th>\n",
       "      <td>0.480</td>\n",
       "      <td>60.7</td>\n",
       "      <td>6.8</td>\n",
       "      <td>1063</td>\n",
       "    </tr>\n",
       "    <tr>\n",
       "      <th>Nigeria</th>\n",
       "      <td>0.539</td>\n",
       "      <td>62.4</td>\n",
       "      <td>6.7</td>\n",
       "      <td>1201</td>\n",
       "    </tr>\n",
       "    <tr>\n",
       "      <th>...</th>\n",
       "      <td>...</td>\n",
       "      <td>...</td>\n",
       "      <td>...</td>\n",
       "      <td>...</td>\n",
       "    </tr>\n",
       "    <tr>\n",
       "      <th>Syrian Arab Republic</th>\n",
       "      <td>0.567</td>\n",
       "      <td>82.8</td>\n",
       "      <td>13.4</td>\n",
       "      <td>69394</td>\n",
       "    </tr>\n",
       "    <tr>\n",
       "      <th>Luxembourg</th>\n",
       "      <td>0.916</td>\n",
       "      <td>75.9</td>\n",
       "      <td>12.3</td>\n",
       "      <td>72712</td>\n",
       "    </tr>\n",
       "    <tr>\n",
       "      <th>Slovakia</th>\n",
       "      <td>0.860</td>\n",
       "      <td>83.6</td>\n",
       "      <td>12.7</td>\n",
       "      <td>88155</td>\n",
       "    </tr>\n",
       "    <tr>\n",
       "      <th>Romania</th>\n",
       "      <td>0.828</td>\n",
       "      <td>80.2</td>\n",
       "      <td>11.1</td>\n",
       "      <td>92418</td>\n",
       "    </tr>\n",
       "    <tr>\n",
       "      <th>Liechtenstein</th>\n",
       "      <td>0.919</td>\n",
       "      <td>72.9</td>\n",
       "      <td>12.5</td>\n",
       "      <td>131032</td>\n",
       "    </tr>\n",
       "  </tbody>\n",
       "</table>\n",
       "<p>189 rows × 4 columns</p>\n",
       "</div>"
      ],
      "text/plain": [
       "                                       HDI  Life expectancy  \\\n",
       "Country                                                       \n",
       " Burundi                             0.433             61.6   \n",
       " Central African Republic            0.397             53.3   \n",
       " Malawi                              0.483             67.0   \n",
       " Congo (Democratic Republic of the)  0.480             60.7   \n",
       " Nigeria                             0.539             62.4   \n",
       "...                                    ...              ...   \n",
       " Syrian Arab Republic                0.567             82.8   \n",
       " Luxembourg                          0.916             75.9   \n",
       " Slovakia                            0.860             83.6   \n",
       " Romania                             0.828             80.2   \n",
       " Liechtenstein                       0.919             72.9   \n",
       "\n",
       "                                     Mean schooling years     GDI  \n",
       "Country                                                            \n",
       " Burundi                                              3.3     754  \n",
       " Central African Republic                             4.3     993  \n",
       " Malawi                                               4.7    1035  \n",
       " Congo (Democratic Republic of the)                   6.8    1063  \n",
       " Nigeria                                              6.7    1201  \n",
       "...                                                   ...     ...  \n",
       " Syrian Arab Republic                                13.4   69394  \n",
       " Luxembourg                                          12.3   72712  \n",
       " Slovakia                                            12.7   88155  \n",
       " Romania                                             11.1   92418  \n",
       " Liechtenstein                                       12.5  131032  \n",
       "\n",
       "[189 rows x 4 columns]"
      ]
     },
     "execution_count": 79,
     "metadata": {},
     "output_type": "execute_result"
    }
   ],
   "source": [
    "table.sort_values (\"GDI\")"
   ]
  },
  {
   "cell_type": "code",
   "execution_count": null,
   "id": "00b070cf-38b5-42be-b3a6-490fd22d72e3",
   "metadata": {},
   "outputs": [],
   "source": []
  },
  {
   "cell_type": "code",
   "execution_count": 80,
   "id": "48ca9d66-94a8-4861-b24e-2748632cefa1",
   "metadata": {},
   "outputs": [],
   "source": [
    "rng = np.random.default_rng (2)"
   ]
  },
  {
   "cell_type": "code",
   "execution_count": 81,
   "id": "b01b2dbd-1e3c-4b84-be55-1a52b665177e",
   "metadata": {},
   "outputs": [
    {
     "data": {
      "text/plain": [
       "array([0.04875219, 0.07885994, 0.11767364, 0.12378137, 0.14870008,\n",
       "       0.1546128 , 0.18027295, 0.19328607, 0.21307219, 0.21431129,\n",
       "       0.21671614, 0.24927388, 0.30419359, 0.32415825, 0.35825446,\n",
       "       0.38115272, 0.38749413, 0.39706093, 0.39974082, 0.40630906,\n",
       "       0.4223998 , 0.48197351, 0.49522664, 0.49631883, 0.49872344,\n",
       "       0.53145849, 0.56828124, 0.58937042, 0.59171485, 0.60856816,\n",
       "       0.63123543, 0.63175354, 0.63953001, 0.64310074, 0.64622645,\n",
       "       0.67411919, 0.73870232, 0.74363649, 0.78403354, 0.78649252,\n",
       "       0.78659468, 0.78963646, 0.82710724, 0.84355149, 0.85458616,\n",
       "       0.8770881 , 0.88713218, 0.89396363, 0.90850196, 0.91135822,\n",
       "       0.91722139, 0.92592562, 0.93650059, 0.93697894, 0.9432338 ,\n",
       "       0.94939797, 0.95446559, 0.95563101, 1.00933501, 1.02205163,\n",
       "       1.04508166, 1.0462357 , 1.08576295, 1.11597349, 1.14234155,\n",
       "       1.15723013, 1.15929307, 1.17947947, 1.21848467, 1.24476232,\n",
       "       1.24575902, 1.26923904, 1.28267154, 1.29014297, 1.32383932,\n",
       "       1.33385914, 1.42528965, 1.43713304, 1.44843598, 1.46542698,\n",
       "       1.53954062, 1.63800203, 1.70921821, 1.74788267, 1.77017741,\n",
       "       1.8091246 , 1.8245688 , 1.83538259, 1.893762  , 1.99487985,\n",
       "       2.09249947, 2.10407999, 2.15156166, 2.40414063, 2.41162705,\n",
       "       2.44518198, 2.53583657, 3.14911033, 3.72637684, 4.95529867])"
      ]
     },
     "execution_count": 81,
     "metadata": {},
     "output_type": "execute_result"
    }
   ],
   "source": [
    "shape, scale = 2, 0.57  # mean=4, std=2*sqrt(2)\n",
    "s = np.random.default_rng().gamma(shape, scale, 100)\n",
    "s.sort()\n",
    "s"
   ]
  },
  {
   "cell_type": "code",
   "execution_count": 82,
   "id": "2961dc84-afa5-49eb-b907-e4f91c282018",
   "metadata": {},
   "outputs": [
    {
     "data": {
      "text/plain": [
       "(array([26., 34., 20., 10.,  6.,  1.,  1.,  1.,  0.,  1.]),\n",
       " array([0.04875219, 0.53940684, 1.03006149, 1.52071613, 2.01137078,\n",
       "        2.50202543, 2.99268008, 3.48333473, 3.97398938, 4.46464403,\n",
       "        4.95529867]),\n",
       " <BarContainer object of 10 artists>)"
      ]
     },
     "execution_count": 82,
     "metadata": {},
     "output_type": "execute_result"
    },
    {
     "data": {
      "image/png": "[encoded data removed]",
      "text/plain": [
       "<Figure size 432x288 with 1 Axes>"
      ]
     },
     "metadata": {
      "needs_background": "light"
     },
     "output_type": "display_data"
    }
   ],
   "source": [
    "plt.hist(s)"
   ]
  },
  {
   "cell_type": "code",
   "execution_count": 83,
   "id": "ece58b75-fcf7-4f9e-b3b4-22fbb9dae96f",
   "metadata": {},
   "outputs": [
    {
     "data": {
      "text/plain": [
       "<AxesSubplot:ylabel='Density'>"
      ]
     },
     "execution_count": 83,
     "metadata": {},
     "output_type": "execute_result"
    },
    {
     "data": {
      "image/png": "[encoded data removed]",
      "text/plain": [
       "<Figure size 432x288 with 1 Axes>"
      ]
     },
     "metadata": {
      "needs_background": "light"
     },
     "output_type": "display_data"
    }
   ],
   "source": [
    "sns.kdeplot (s)"
   ]
  },
  {
   "cell_type": "code",
   "execution_count": 84,
   "id": "04c270dc-f804-446e-bd17-bda753c0e03c",
   "metadata": {},
   "outputs": [],
   "source": [
    "s = rng.poisson(lam=20000, size=273)"
   ]
  },
  {
   "cell_type": "code",
   "execution_count": 85,
   "id": "731c78e3-d303-40b7-9cea-6320f2d73872",
   "metadata": {},
   "outputs": [
    {
     "data": {
      "text/plain": [
       "(array([10., 12., 36., 35., 53., 59., 35., 25.,  5.,  3.]),\n",
       " array([19632. , 19711.2, 19790.4, 19869.6, 19948.8, 20028. , 20107.2,\n",
       "        20186.4, 20265.6, 20344.8, 20424. ]),\n",
       " <BarContainer object of 10 artists>)"
      ]
     },
     "execution_count": 85,
     "metadata": {},
     "output_type": "execute_result"
    },
    {
     "data": {
      "image/png": "[encoded data removed]",
      "text/plain": [
       "<Figure size 432x288 with 1 Axes>"
      ]
     },
     "metadata": {
      "needs_background": "light"
     },
     "output_type": "display_data"
    }
   ],
   "source": [
    "plt.hist(s)"
   ]
  },
  {
   "cell_type": "code",
   "execution_count": 86,
   "id": "7bf36135-554f-4bd2-9e32-ce7c811f9ccc",
   "metadata": {},
   "outputs": [
    {
     "data": {
      "text/plain": [
       "array([[20147, 30327, 40166],\n",
       "       [20071, 29900, 40179],\n",
       "       [20166, 30200, 40308],\n",
       "       [20225, 30046, 40083],\n",
       "       [19943, 29995, 40022],\n",
       "       [20048, 29918, 39840],\n",
       "       [20016, 30082, 40379],\n",
       "       [19830, 30013, 39928],\n",
       "       [20053, 29738, 39766],\n",
       "       [20022, 30023, 39823]], dtype=int64)"
      ]
     },
     "execution_count": 86,
     "metadata": {},
     "output_type": "execute_result"
    }
   ],
   "source": [
    "s = rng.poisson(lam=(20000, 30000, 40000), size=(10, 3))\n",
    "s.sort()\n",
    "s"
   ]
  },
  {
   "cell_type": "code",
   "execution_count": 87,
   "id": "38ae9f24-4cc9-403b-aed5-4d1fb65c101b",
   "metadata": {},
   "outputs": [
    {
     "data": {
      "text/plain": [
       "(array([[10.,  0.,  0.,  0.,  0.,  0.,  0.,  0.,  0.,  0.],\n",
       "        [ 0.,  0.,  0.,  0.,  8.,  2.,  0.,  0.,  0.,  0.],\n",
       "        [ 0.,  0.,  0.,  0.,  0.,  0.,  0.,  0.,  0., 10.]]),\n",
       " array([19830. , 21884.9, 23939.8, 25994.7, 28049.6, 30104.5, 32159.4,\n",
       "        34214.3, 36269.2, 38324.1, 40379. ]),\n",
       " <a list of 3 BarContainer objects>)"
      ]
     },
     "execution_count": 87,
     "metadata": {},
     "output_type": "execute_result"
    },
    {
     "data": {
      "image/png": "[encoded data removed]",
      "text/plain": [
       "<Figure size 432x288 with 1 Axes>"
      ]
     },
     "metadata": {
      "needs_background": "light"
     },
     "output_type": "display_data"
    }
   ],
   "source": [
    "plt.hist(s)"
   ]
  },
  {
   "cell_type": "code",
   "execution_count": null,
   "id": "fcf0089f-acc9-4c9f-beff-5382e01ab5f5",
   "metadata": {},
   "outputs": [],
   "source": []
  },
  {
   "cell_type": "code",
   "execution_count": null,
   "id": "80381a60-13e7-403c-a11b-807c8f37d6b0",
   "metadata": {},
   "outputs": [],
   "source": []
  },
  {
   "cell_type": "code",
   "execution_count": 88,
   "id": "bb26cc11-f738-4df5-a655-7a94f284ba7d",
   "metadata": {},
   "outputs": [],
   "source": [
    "from scipy.stats import skewnorm"
   ]
  },
  {
   "cell_type": "code",
   "execution_count": 89,
   "id": "dee15490-9299-4465-b01c-c7eb6b791d6a",
   "metadata": {},
   "outputs": [],
   "source": [
    "numargs = skewnorm .numargs \n",
    "a, b = 4.32, 3.18\n",
    "rv = skewnorm (a, b) \n",
    "    "
   ]
  },
  {
   "cell_type": "code",
   "execution_count": 90,
   "id": "aaa68588-ecee-48d0-b446-3fb83c9ad53c",
   "metadata": {},
   "outputs": [
    {
     "name": "stdout",
     "output_type": "stream",
     "text": [
      "[ 10000.    11718.75  13437.5   15156.25  16875.    18593.75  20312.5\n",
      "  22031.25  23750.    25468.75  27187.5   28906.25  30625.    32343.75\n",
      "  34062.5   35781.25  37500.    39218.75  40937.5   42656.25  44375.\n",
      "  46093.75  47812.5   49531.25  51250.    52968.75  54687.5   56406.25\n",
      "  58125.    59843.75  61562.5   63281.25  65000.    66718.75  68437.5\n",
      "  70156.25  71875.    73593.75  75312.5   77031.25  78750.    80468.75\n",
      "  82187.5   83906.25  85625.    87343.75  89062.5   90781.25  92500.\n",
      "  94218.75  95937.5   97656.25  99375.   101093.75 102812.5  104531.25\n",
      " 106250.   107968.75 109687.5  111406.25 113125.   114843.75 116562.5\n",
      " 118281.25 120000.  ]\n"
     ]
    },
    {
     "data": {
      "text/plain": [
       "[<matplotlib.lines.Line2D at 0x174429b8d00>,\n",
       " <matplotlib.lines.Line2D at 0x174429b8d30>]"
      ]
     },
     "execution_count": 90,
     "metadata": {},
     "output_type": "execute_result"
    },
    {
     "data": {
      "image/png": "[encoded data removed]",
      "text/plain": [
       "<Figure size 432x288 with 1 Axes>"
      ]
     },
     "metadata": {
      "needs_background": "light"
     },
     "output_type": "display_data"
    }
   ],
   "source": [
    "x = np.linspace(10000, 120000, 65) \n",
    "print (x)     \n",
    "# Varying positional arguments \n",
    "y1 = skewnorm .pdf(x, 1, 3, 5) \n",
    "y2 = skewnorm .pdf(x, 1, 4, 4) \n",
    "plt.plot(x, y1, \"*\", x, y2, \"r--\") "
   ]
  },
  {
   "cell_type": "code",
   "execution_count": 99,
   "id": "e1073c8f-e813-4776-abeb-8fff42f07a92",
   "metadata": {},
   "outputs": [],
   "source": [
    "a = rng.gamma(38.57,0.98, 1000)"
   ]
  },
  {
   "cell_type": "code",
   "execution_count": 100,
   "id": "6bd0e9cc-a1d9-47ab-aa26-a85492ffc5df",
   "metadata": {},
   "outputs": [
    {
     "data": {
      "text/plain": [
       "array([36.77791514, 39.08096687, 39.98213071, 38.79821641, 36.38190313,\n",
       "       43.19851428, 36.41606033, 43.00556302, 33.47215984, 36.21688164,\n",
       "       46.08964009, 43.49108404, 54.59811606, 45.02097479, 28.20781359,\n",
       "       31.64048995, 42.0512693 , 35.72070827, 38.88873191, 27.20213473,\n",
       "       31.76742701, 27.24850433, 39.78562033, 41.62149163, 36.90049628,\n",
       "       26.13524599, 35.38709835, 45.57199148, 37.9413557 , 49.92914201,\n",
       "       45.39722703, 36.5933458 , 37.6032766 , 30.6223007 , 42.74847819,\n",
       "       34.51262929, 36.92981872, 34.67033804, 37.1684387 , 34.26538217,\n",
       "       30.52710781, 36.14704222, 45.19241912, 38.63106277, 38.05313627,\n",
       "       40.74160301, 39.36467007, 41.13371432, 36.33101202, 33.89270504,\n",
       "       43.09589696, 49.23928143, 31.38942416, 39.95100979, 41.83292624,\n",
       "       38.36259416, 38.93227973, 43.27761212, 43.8861364 , 38.91824227,\n",
       "       41.21891551, 36.42570564, 38.78060301, 35.36887084, 36.86363186,\n",
       "       43.46381164, 32.99066011, 44.41547946, 39.9997572 , 42.52725005,\n",
       "       39.07576648, 40.2483674 , 45.75580743, 34.44167133, 27.1870519 ,\n",
       "       43.16210384, 32.312481  , 34.72470114, 32.17184633, 30.45605626,\n",
       "       39.66106681, 42.54933886, 32.86897562, 31.34273226, 40.39397394,\n",
       "       37.03458285, 39.74620916, 35.58198042, 43.92072614, 51.02519667,\n",
       "       31.10326977, 36.51737068, 35.87562903, 42.07368169, 32.30544165,\n",
       "       36.4225126 , 42.45313076, 30.41644959, 33.95758302, 43.09427114,\n",
       "       44.3498866 , 42.65133767, 28.01282833, 44.85544881, 31.20336609,\n",
       "       46.00299152, 29.78243264, 44.47381562, 35.94406486, 47.88196468,\n",
       "       52.66702881, 41.42431367, 30.90866882, 45.54262513, 40.5809517 ,\n",
       "       45.02585263, 41.46400795, 38.76046738, 43.33060443, 33.41118201,\n",
       "       36.49908105, 27.76161108, 36.52997966, 38.37198808, 42.50787922,\n",
       "       39.10796357, 44.62108887, 38.55094271, 44.07026786, 53.87175448,\n",
       "       37.49095946, 32.51371498, 33.77376807, 34.48304759, 35.25525061,\n",
       "       40.43425593, 33.51999058, 29.83259092, 42.03045431, 52.87671152,\n",
       "       37.65899315, 35.16776536, 32.04780403, 33.31862821, 44.91542382,\n",
       "       42.15702649, 42.59596977, 38.6620674 , 35.00592411, 32.61969729,\n",
       "       35.32005078, 30.84531405, 33.82428265, 34.48790122, 34.30211101,\n",
       "       37.04241946, 40.70781781, 42.73740981, 36.74679495, 37.01320654,\n",
       "       37.89570855, 43.55774392, 39.00122135, 34.86222305, 52.14938002,\n",
       "       35.61059083, 42.68361412, 37.15947912, 33.41815333, 39.16506657,\n",
       "       26.25264792, 33.31470657, 38.58006176, 32.842822  , 28.05552652,\n",
       "       27.08783916, 39.8633232 , 42.16474264, 39.79800074, 33.51626879,\n",
       "       45.737747  , 32.40139643, 35.98734477, 33.11646839, 39.46071554,\n",
       "       43.4443894 , 34.96780603, 44.46297145, 38.7195041 , 38.82307007,\n",
       "       40.95728484, 40.82538343, 30.74540129, 39.77838187, 33.44916434,\n",
       "       41.16103542, 41.71063365, 43.93327407, 46.74055544, 43.39156876,\n",
       "       49.74939302, 26.62288753, 35.93774269, 36.66710103, 32.41252395,\n",
       "       29.91497327, 26.61864501, 44.77823057, 29.57818354, 31.30536414,\n",
       "       42.9602299 , 43.51220671, 30.92814385, 31.22951285, 42.55249603,\n",
       "       29.60777215, 50.07794077, 36.12671569, 41.2797253 , 33.1680191 ,\n",
       "       43.36969478, 37.27640232, 38.8011789 , 33.20776552, 38.47345135,\n",
       "       42.21609579, 46.53797281, 39.92935618, 41.25222747, 48.00512725,\n",
       "       50.33799055, 40.18062315, 38.04720817, 32.78827879, 48.50484515,\n",
       "       41.34459252, 30.29828009, 33.05774018, 33.15324872, 29.68304743,\n",
       "       43.12396144, 30.61985551, 40.34520123, 38.13124863, 39.40698228,\n",
       "       40.58876841, 34.83091008, 38.6321003 , 30.95737382, 39.8159674 ,\n",
       "       42.80955591, 35.48530166, 37.29527753, 39.2205142 , 35.85678819,\n",
       "       67.44968922, 38.45332601, 43.54647641, 32.23985361, 35.52437715,\n",
       "       34.50917462, 28.19949947, 33.9529218 , 32.28494308, 40.7769932 ,\n",
       "       37.81310615, 29.55636291, 36.00378412, 34.4783758 , 34.78877536,\n",
       "       40.21712856, 40.43006958, 41.50191873, 34.88777844, 33.07747001,\n",
       "       36.81112246, 41.13297705, 33.13230863, 44.00516344, 36.80726557,\n",
       "       33.13932631, 31.07322305, 56.44892507, 27.57140984, 30.92884353,\n",
       "       35.48527025, 31.30495125, 34.0545796 , 31.11363886, 28.52192421,\n",
       "       40.75858181, 31.6383484 , 39.7110378 , 35.53188354, 35.62750205,\n",
       "       44.00159835, 40.42810298, 43.52120589, 35.65820474, 42.48502668,\n",
       "       31.41634432, 27.4468622 , 26.43717684, 29.14989348, 31.58122278,\n",
       "       38.15451529, 44.7995601 , 36.81742883, 36.73929311, 46.4736523 ,\n",
       "       35.89838627, 43.28950545, 50.29721384, 35.43191771, 41.84765989,\n",
       "       35.91574248, 36.42187406, 38.06663103, 38.3900077 , 39.65021413,\n",
       "       35.1576876 , 38.63373935, 36.31250997, 34.39381241, 42.36947176,\n",
       "       37.61628735, 38.47342501, 41.87868661, 29.9061683 , 33.2919762 ,\n",
       "       40.68174265, 36.65708045, 34.79595903, 39.28175977, 36.27320149,\n",
       "       37.09528705, 32.80261453, 44.03862498, 38.2484428 , 38.59550201,\n",
       "       34.48784005, 31.14240172, 31.41760593, 37.48900422, 36.92657594,\n",
       "       41.71086923, 39.55150653, 27.86118684, 41.08328077, 49.72168646,\n",
       "       31.81320922, 31.27378736, 40.61517375, 33.26794291, 34.13147306,\n",
       "       38.43202965, 33.37610967, 35.3825901 , 40.23772215, 41.89564589,\n",
       "       43.33684889, 45.56174434, 31.45203025, 37.64938204, 46.28744563,\n",
       "       38.97524263, 37.93507666, 28.44285516, 33.42008844, 35.28676168,\n",
       "       33.10025973, 35.45201246, 29.83066359, 29.76243163, 44.01675654,\n",
       "       46.87672768, 36.43054819, 29.80070655, 41.7105202 , 40.5157712 ,\n",
       "       36.5041494 , 37.56463636, 44.71891591, 27.68457723, 39.41200234,\n",
       "       41.04571792, 42.46948342, 36.53958915, 29.66657461, 38.36122339,\n",
       "       39.37801638, 40.21464481, 38.81560797, 40.12381316, 35.63534036,\n",
       "       32.2655313 , 30.1714287 , 36.42682045, 39.68900354, 40.670032  ,\n",
       "       27.82424583, 37.00572324, 51.37447962, 32.10875608, 33.33774579,\n",
       "       40.56600178, 44.23631636, 38.28157853, 31.02560756, 37.26419133,\n",
       "       28.77787982, 44.83349692, 32.50715933, 47.46259011, 38.95498524,\n",
       "       44.02977861, 40.88059502, 40.5126562 , 34.30734913, 33.00762564,\n",
       "       36.38339487, 33.09346521, 32.84349694, 42.09152057, 37.01328805,\n",
       "       35.88392349, 33.28667562, 37.25274862, 29.48676006, 32.72637175,\n",
       "       40.39988819, 43.22493266, 30.78938595, 50.8024659 , 32.09321507,\n",
       "       39.04204584, 44.73990991, 27.21669458, 38.17983128, 47.66478444,\n",
       "       36.60377565, 29.18953931, 27.36651501, 28.67764345, 49.26163037,\n",
       "       35.23760166, 36.39016919, 31.91841789, 36.80158388, 33.41921245,\n",
       "       44.02183084, 27.16414728, 40.59115894, 44.28117659, 32.53895686,\n",
       "       37.97434723, 40.65255904, 34.97645377, 48.10455289, 36.355937  ,\n",
       "       35.68158375, 37.85221893, 41.39700495, 32.0213895 , 32.44476016,\n",
       "       37.25834868, 42.29245003, 31.52949001, 38.97685871, 34.95580109,\n",
       "       39.87948151, 31.65618429, 29.76726577, 39.97976559, 40.98924238,\n",
       "       29.3899871 , 44.11765957, 46.05684676, 35.27697555, 40.57254348,\n",
       "       29.58229383, 41.71542031, 40.28350911, 32.60132445, 44.98558149,\n",
       "       38.72873446, 29.04404785, 28.21125228, 41.29377711, 30.44807032,\n",
       "       28.15970955, 37.43433347, 29.75646846, 43.63210891, 50.10380167,\n",
       "       39.99175767, 36.37354606, 40.64316685, 36.21427492, 37.62547575,\n",
       "       40.39132872, 42.98078171, 36.57321221, 35.74698425, 39.58035206,\n",
       "       39.51795332, 39.25711339, 34.53975156, 27.35518888, 36.12227467,\n",
       "       45.61998722, 40.87932262, 40.98332873, 47.12164715, 35.38916295,\n",
       "       40.09396769, 33.19881599, 39.63441918, 42.98034284, 30.0467096 ,\n",
       "       39.58995502, 30.92023589, 36.94594825, 36.8131945 , 43.09788546,\n",
       "       33.05660906, 43.96292595, 39.76390302, 36.64254143, 40.65003207,\n",
       "       34.14669101, 39.59162886, 37.78340459, 42.22953031, 34.21930188,\n",
       "       41.03595263, 40.03018471, 38.41042654, 43.51771484, 32.24968083,\n",
       "       41.45259281, 29.85384541, 52.33631576, 50.24313709, 42.31802368,\n",
       "       37.79729609, 27.8915701 , 35.77494457, 41.2321859 , 46.73087879,\n",
       "       40.37510827, 36.39416072, 38.53343939, 35.28932992, 42.77028197,\n",
       "       36.66119839, 33.14825888, 27.57530444, 29.95663984, 40.91030175,\n",
       "       44.07100693, 37.66959762, 45.94160176, 51.45913438, 50.37065887,\n",
       "       42.85179461, 33.45298785, 24.891442  , 33.32375005, 31.95975672,\n",
       "       23.16957788, 41.01249725, 33.26637177, 36.0041747 , 38.92925801,\n",
       "       41.02982425, 49.89069997, 31.03136966, 33.47423119, 39.77190168,\n",
       "       37.46588701, 42.31221823, 34.98439534, 37.02577905, 50.3401951 ,\n",
       "       39.62761009, 44.59904121, 27.55458501, 34.38099239, 29.67271697,\n",
       "       27.85141686, 37.52734247, 36.46495212, 34.37193863, 54.96640732,\n",
       "       39.14487443, 33.05826762, 37.65653996, 45.12034499, 41.00640712,\n",
       "       31.47857558, 41.55052818, 38.87531162, 36.49133813, 28.69421875,\n",
       "       30.80334459, 34.92142722, 37.37557164, 32.74486086, 35.65222066,\n",
       "       40.0002128 , 31.2994917 , 36.60621148, 34.61210325, 33.46398843,\n",
       "       46.87966076, 33.3215153 , 26.10631994, 45.82069953, 33.73041666,\n",
       "       40.85812687, 40.26067842, 32.52688361, 31.04959022, 47.99073107,\n",
       "       37.49472634, 25.42751086, 30.85332565, 48.7277168 , 36.75939245,\n",
       "       24.85757913, 38.94950322, 34.18814375, 37.95326995, 44.54637308,\n",
       "       38.87302491, 30.96686001, 33.13911324, 32.68359743, 46.97742233,\n",
       "       35.40177091, 34.2622446 , 39.54395815, 39.40525476, 41.21985171,\n",
       "       30.84595252, 34.99010262, 43.75318309, 37.88057364, 52.66863866,\n",
       "       34.19685384, 48.13743692, 48.43630598, 27.34938914, 45.98036696,\n",
       "       35.09692407, 42.43885449, 35.98229839, 32.14847174, 43.02558921,\n",
       "       36.82285238, 41.2934739 , 44.8809321 , 37.26588472, 33.14037096,\n",
       "       29.4961888 , 32.13593159, 41.0479043 , 40.73742102, 37.79558483,\n",
       "       43.84711914, 35.95044874, 39.80951296, 36.18134475, 35.82599217,\n",
       "       33.44688097, 38.56356322, 33.97252487, 33.85198668, 38.32798402,\n",
       "       42.34647972, 35.77445226, 38.8727804 , 45.64624949, 34.90114199,\n",
       "       41.2202979 , 35.51512612, 32.73763282, 35.04012107, 34.78539028,\n",
       "       44.80076135, 31.14029937, 42.75588347, 38.3523478 , 32.021445  ,\n",
       "       33.94108786, 39.13598002, 27.59917058, 30.14753268, 44.28331678,\n",
       "       37.19524869, 40.75392076, 33.84543303, 34.5283447 , 31.95303623,\n",
       "       46.57012558, 33.5314701 , 30.51904456, 38.28426466, 35.49295606,\n",
       "       40.38810018, 38.82762737, 31.59557836, 37.80082576, 32.63998779,\n",
       "       34.34167907, 33.53238158, 31.05638819, 34.17608008, 39.44468979,\n",
       "       33.98883778, 42.02698814, 27.44390156, 32.07038834, 42.81793063,\n",
       "       35.79105255, 29.76636307, 37.42352991, 46.23644743, 34.05266798,\n",
       "       41.23952557, 55.66796245, 35.14448334, 38.92347051, 42.79250657,\n",
       "       29.69694261, 39.91183461, 37.64965569, 32.37329055, 39.58831777,\n",
       "       41.85605972, 31.07885799, 39.44540807, 31.26324134, 41.2552224 ,\n",
       "       31.50806104, 27.13980895, 32.38092005, 27.79424037, 25.41226264,\n",
       "       35.97049626, 32.63248286, 26.77984054, 40.12885469, 27.91191269,\n",
       "       37.15570549, 35.0988255 , 34.19814882, 43.98758381, 37.96432909,\n",
       "       29.8463894 , 33.99497347, 39.08346617, 39.90225121, 33.43977957,\n",
       "       37.43354096, 34.77336217, 28.2092276 , 40.4956809 , 43.45190634,\n",
       "       46.10719236, 46.24523423, 36.76632714, 28.14315865, 27.45444974,\n",
       "       37.3011188 , 25.54643054, 41.24587869, 34.19229397, 38.78102153,\n",
       "       33.75990476, 37.50733615, 37.46502406, 35.34761897, 39.86995552,\n",
       "       41.53212543, 43.62413987, 36.23454268, 37.7640397 , 40.58099177,\n",
       "       39.23595948, 29.0196068 , 31.24481247, 44.27101164, 43.77300571,\n",
       "       47.92683904, 39.9886945 , 44.18987405, 42.12966232, 41.25311987,\n",
       "       33.43943763, 48.56055769, 42.78679433, 40.88338423, 31.27468748,\n",
       "       38.77718471, 43.73313446, 38.52965121, 37.69837332, 43.52716261,\n",
       "       30.40670761, 35.07458986, 38.8399708 , 28.93692238, 33.06505196,\n",
       "       41.57373461, 49.65170296, 32.51453199, 39.86702155, 40.55816661,\n",
       "       38.42650608, 45.74480021, 37.35254209, 43.42180877, 30.51588966,\n",
       "       31.73332313, 42.51407863, 35.3922744 , 39.92540694, 55.27931729,\n",
       "       38.23479085, 35.52010718, 51.97096876, 41.50784786, 32.88036308,\n",
       "       42.11264118, 35.73887645, 32.37173738, 31.71115766, 33.76549089,\n",
       "       34.50631881, 43.0856355 , 39.09760091, 41.91153999, 42.91264089,\n",
       "       26.98818161, 40.88829194, 41.15458727, 39.67998453, 49.83184485,\n",
       "       37.73103488, 40.94213551, 47.4713641 , 26.70436317, 36.79639091,\n",
       "       39.42953835, 40.5006772 , 46.95204466, 35.1350572 , 41.32852072,\n",
       "       38.66511511, 39.5483144 , 32.7680511 , 44.60908622, 42.86753483,\n",
       "       34.81717819, 28.71868089, 36.96523331, 37.74054685, 47.89554545,\n",
       "       35.31141392, 42.2741388 , 46.03458874, 41.0465341 , 41.49385347,\n",
       "       43.29725666, 36.0557125 , 35.44564376, 26.50910306, 35.94306906,\n",
       "       32.75688455, 33.08899085, 38.5732326 , 50.31789588, 42.24356727,\n",
       "       34.24343597, 45.62082121, 55.69854834, 51.22627154, 48.55559469,\n",
       "       50.23345534, 39.08235369, 49.33764266, 47.2159602 , 36.01098516,\n",
       "       40.95843753, 43.7642538 , 40.35209807, 29.35734922, 36.59857724,\n",
       "       41.96342376, 37.17853876, 35.83687668, 39.84958468, 43.6604776 ,\n",
       "       32.83688526, 32.53350251, 29.47950841, 33.33342829, 35.9916946 ,\n",
       "       42.67770357, 32.24977911, 41.40126465, 43.57738508, 34.38068671,\n",
       "       40.07522276, 40.21618761, 31.50779694, 30.12349607, 32.90948582,\n",
       "       28.1000801 , 38.05633934, 38.31167444, 35.3425005 , 39.35123558,\n",
       "       33.72473157, 45.18444632, 35.78983174, 38.60890578, 30.34066975,\n",
       "       37.72841763, 45.1223969 , 35.59129039, 38.85796428, 37.56390438,\n",
       "       33.35679402, 35.68074764, 30.77114077, 45.49741704, 34.14730587,\n",
       "       38.58292195, 40.73206506, 38.71932052, 42.51852183, 25.72449596,\n",
       "       30.95855097, 39.43088452, 44.00622176, 34.9123258 , 31.18823287,\n",
       "       38.07725213, 45.46226821, 40.94932808, 37.93961687, 38.98598243,\n",
       "       36.94126212, 30.54126304, 33.82398856, 32.69386617, 25.31282908,\n",
       "       32.50708909, 35.92438516, 37.67693081, 28.1411177 , 41.89235045,\n",
       "       29.07959963, 39.05371165, 35.88956535, 36.37506052, 33.10263828,\n",
       "       33.29609728, 37.3734312 , 48.72138619, 34.47576388, 41.84713958,\n",
       "       38.75004651, 37.6263437 , 34.42287365, 41.93713926, 41.82151714,\n",
       "       33.21866984, 50.77736733, 36.44240126, 35.68262259, 47.92687718,\n",
       "       44.16931258, 32.90310569, 39.89746004, 31.10127844, 40.56810313,\n",
       "       41.24115347, 35.98389346, 34.77964289, 35.95735705, 37.47494947,\n",
       "       35.44134913, 44.98629667, 36.74933912, 43.30040618, 36.59255429])"
      ]
     },
     "execution_count": 100,
     "metadata": {},
     "output_type": "execute_result"
    }
   ],
   "source": [
    "a"
   ]
  },
  {
   "cell_type": "code",
   "execution_count": 101,
   "id": "e46bf48e-de71-4fdb-b004-a38ae2362f3f",
   "metadata": {},
   "outputs": [
    {
     "data": {
      "text/plain": [
       "(array([ 34., 131., 266., 287., 193.,  56.,  26.,   6.,   0.,   1.]),\n",
       " array([23.16957788, 27.59758902, 32.02560015, 36.45361128, 40.88162242,\n",
       "        45.30963355, 49.73764469, 54.16565582, 58.59366696, 63.02167809,\n",
       "        67.44968922]),\n",
       " <BarContainer object of 10 artists>)"
      ]
     },
     "execution_count": 101,
     "metadata": {},
     "output_type": "execute_result"
    },
    {
     "data": {
      "image/png": "[encoded data removed]",
      "text/plain": [
       "<Figure size 432x288 with 1 Axes>"
      ]
     },
     "metadata": {
      "needs_background": "light"
     },
     "output_type": "display_data"
    }
   ],
   "source": [
    "plt.hist(a)"
   ]
  },
  {
   "cell_type": "code",
   "execution_count": 98,
   "id": "21f476f7-c7f3-46b0-ba2b-615f9bc726be",
   "metadata": {},
   "outputs": [
    {
     "data": {
      "text/plain": [
       "<AxesSubplot:ylabel='Density'>"
      ]
     },
     "execution_count": 98,
     "metadata": {},
     "output_type": "execute_result"
    },
    {
     "data": {
      "image/png": "[encoded data removed]",
      "text/plain": [
       "<Figure size 432x288 with 1 Axes>"
      ]
     },
     "metadata": {
      "needs_background": "light"
     },
     "output_type": "display_data"
    }
   ],
   "source": [
    "sns.kdeplot(data = a)"
   ]
  },
  {
   "cell_type": "code",
   "execution_count": null,
   "id": "2c2311f9-0dd1-4cbf-9e98-b63e8b726229",
   "metadata": {},
   "outputs": [],
   "source": []
  },
  {
   "cell_type": "code",
   "execution_count": null,
   "id": "4cb3d4a9-b0e4-4fbc-ba7d-5ee5c9cb83c2",
   "metadata": {},
   "outputs": [],
   "source": []
  },
  {
   "cell_type": "code",
   "execution_count": null,
   "id": "9c42e3b2-f383-4341-b650-fccc8ceea215",
   "metadata": {},
   "outputs": [],
   "source": []
  },
  {
   "cell_type": "code",
   "execution_count": null,
   "id": "f1a75276-c502-492f-b382-11b85d7cfda8",
   "metadata": {},
   "outputs": [],
   "source": []
  },
  {
   "cell_type": "code",
   "execution_count": null,
   "id": "7bedb249-bba5-4825-92af-de833e891954",
   "metadata": {},
   "outputs": [],
   "source": []
  }
 ],
 "metadata": {
  "kernelspec": {
   "display_name": "Python 3",
   "language": "python",
   "name": "python3"
  },
  "language_info": {
   "codemirror_mode": {
    "name": "ipython",
    "version": 3
   },
   "file_extension": ".py",
   "mimetype": "text/x-python",
   "name": "python",
   "nbconvert_exporter": "python",
   "pygments_lexer": "ipython3",
   "version": "3.8.8"
  }
 },
 "nbformat": 4,
 "nbformat_minor": 5
}
